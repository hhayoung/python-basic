{
 "cells": [
  {
   "cell_type": "markdown",
   "metadata": {},
   "source": [
    "### 함수\n",
    "- 그동안 우리는 무심코 많은 함수를 사용했음\n",
    " - print(), sum(), len(), range(), ... \n",
    "- 주어진 입력(input)에 대해서 의도된 출력(output)을 전달하는 역할\n",
    "- 위의 함수들은 모두 python 내부에 이미 정의(구현) 되어있는 내장 함수(built-in function)이라고 한다."
   ]
  },
  {
   "cell_type": "code",
   "execution_count": 3,
   "metadata": {
    "scrolled": true
   },
   "outputs": [
    {
     "name": "stdout",
     "output_type": "stream",
     "text": [
      "4\n",
      "10\n"
     ]
    }
   ],
   "source": [
    "a = [1,2,3,4]\n",
    "length = len(a)\n",
    "print(length)\n",
    "\n",
    "total = sum(a)\n",
    "print(total)"
   ]
  },
  {
   "cell_type": "markdown",
   "metadata": {},
   "source": [
    "### 함수의 정의(사용자 정의 함수)\n",
    "- 정의 시 def 키워드를 사용\n",
    "- argument 정의(함수에 입력으로 전달하는 값을 의미, parameter라고도 함(인수, 인자, 매개변수))\n",
    "- :(콜론)이 필요(함수는 코드블록이기 때문에)\n",
    "- body(함수의 구현부분(블록))\n",
    " - return 키워드 사용해서 출력값을 전달\n",
    "- 함수의 네이밍\n",
    " - 어떤 기능을 하는 함수인지 이름으로 최대한 표현하는 것이 좋다.\n",
    " - e.g) get_a 보다는 get_student_name 낫다.\n"
   ]
  },
  {
   "cell_type": "code",
   "execution_count": 7,
   "metadata": {},
   "outputs": [
    {
     "name": "stdout",
     "output_type": "stream",
     "text": [
      "110\n",
      "3\n",
      "Hello World!!\n"
     ]
    }
   ],
   "source": [
    "'''\n",
    "def 함수명(매개변수):\n",
    "    실행 코드\n",
    "    ...\n",
    "    \n",
    "함수의 호출\n",
    "함수명()\n",
    "\n",
    "주의할 점: 함수 선언의 위치는 함수호출보다 먼저 선언되어야 한다.\n",
    "'''\n",
    "\n",
    "def add(x,y):      # 매개변수 2개 정의\n",
    "    n = x + y\n",
    "    return n\n",
    "\n",
    "c = add(100,10)    # 2개 넣어줘야 한다.\n",
    "print(c)\n",
    "\n",
    "length = len([1,2,3])\n",
    "print(length)\n",
    "\n",
    "# return이 없는 함수\n",
    "def say():\n",
    "    print(\"Hello World!!\")\n",
    "\n",
    "say()"
   ]
  },
  {
   "cell_type": "markdown",
   "metadata": {},
   "source": [
    "### parameter(argument)(인자, 인수, 매개변수)\n",
    "* 함수에 전달되는 입력(input)\n",
    "* 입력이 필요하지 않을 수도, 1개의 입력만 있을 수도, 여러개의 입력이 존재할 수도 있음\n",
    "* 인자의 type은 어떤 파이썬 객체도 전달 가능\n",
    "* 심지어, 함수도 함수의 parameter로 전달 가능\n",
    "* 인자를 전달할 때, 정의된 순서에 따라 값을 전달하는 것이 중요\n",
    "\n",
    "#### Default parameter(기본 인자)\n",
    "* 함수의 인자에 기본값 지정 가능\n",
    "* 인자를 명시하지 않을 경우, 지정된 기본값으로 대체"
   ]
  },
  {
   "cell_type": "code",
   "execution_count": 10,
   "metadata": {},
   "outputs": [
    {
     "name": "stdout",
     "output_type": "stream",
     "text": [
      "60\n",
      "35\n",
      "20\n"
     ]
    }
   ],
   "source": [
    "def add(x,y=5,z=5):  # 매개변수의 초기값 지정\n",
    "    a = x+y+z\n",
    "    return a\n",
    "print(add(10, 20, 30))\n",
    "print(add(10, 20)) # z를 넣지 않아도 z=5 가 지정되어 있어서 가능\n",
    "print(add(10)) # y와 z를 넣지 않아도 y=5, z=5가 지정되어 있어서 가능"
   ]
  },
  {
   "cell_type": "code",
   "execution_count": 12,
   "metadata": {},
   "outputs": [
    {
     "name": "stdout",
     "output_type": "stream",
     "text": [
      "1 3 5\n",
      "1?3?5^^100\n"
     ]
    }
   ],
   "source": [
    "# 기본 파라미터(인수)의 다른 예\n",
    "# print 함수\n",
    "# sep, end, file 등의 여러 기본 파라미터를 가지고 있다.\n",
    "\n",
    "print(1,3,5)\n",
    "print(1,3,5,sep='?', end='^^')\n",
    "print(100)"
   ]
  },
  {
   "cell_type": "markdown",
   "metadata": {},
   "source": [
    "#### Default Parameter 사용시 주의점\n",
    "- 디폴트 파라미터 뒤에 일반 파라미터가 위치할 수 없음\n",
    "- e.g) 올바른 예\n",
    "> def test(a,b,c=1)\n",
    "> def test(a,b=1,c=2)\n",
    "> def test(a=1,b=2,c=3)\n",
    "- e.g) 올바르지 않은 예\n",
    "> def test(a,b=1,c)\n",
    "> def test(a=1,b,c)\n",
    "> def test(a=1,b=2,c)\n"
   ]
  },
  {
   "cell_type": "code",
   "execution_count": 13,
   "metadata": {},
   "outputs": [
    {
     "ename": "SyntaxError",
     "evalue": "non-default argument follows default argument (<ipython-input-13-7ec5e6c8ab91>, line 1)",
     "output_type": "error",
     "traceback": [
      "\u001b[1;36m  File \u001b[1;32m\"<ipython-input-13-7ec5e6c8ab91>\"\u001b[1;36m, line \u001b[1;32m1\u001b[0m\n\u001b[1;33m    def test(a=1,b=2,c):\u001b[0m\n\u001b[1;37m            ^\u001b[0m\n\u001b[1;31mSyntaxError\u001b[0m\u001b[1;31m:\u001b[0m non-default argument follows default argument\n"
     ]
    }
   ],
   "source": [
    "def test(a=1,b=2,c):\n",
    "    print(a,b,c)\n"
   ]
  },
  {
   "cell_type": "markdown",
   "metadata": {},
   "source": [
    "### keyword parameter(키워드 파라미터)\n",
    "- 인자에 값을 전달할 때, 인자의 이름을 명시하여 전달 가능\n",
    "- 이름을 사용하지 않을 경우, 기본적으로 순서에 맞게 전달"
   ]
  },
  {
   "cell_type": "code",
   "execution_count": 15,
   "metadata": {},
   "outputs": [
    {
     "data": {
      "text/plain": [
       "24"
      ]
     },
     "execution_count": 15,
     "metadata": {},
     "output_type": "execute_result"
    }
   ],
   "source": [
    "def test(x,y,z):\n",
    "    a = x+y+z\n",
    "    return a\n",
    "test(x=10, y=5, z=10)\n",
    "\n",
    "# 순서를 바꿔도 상관 없음\n",
    "test(x=10, z=11, y=3)"
   ]
  },
  {
   "cell_type": "markdown",
   "metadata": {},
   "source": [
    "### return(리턴)\n",
    "- 기본적으로 함수의 종료를 명시\n",
    " - return 옆에 값이나 수식이 있다면 해당 값을 호출자(caller)에게 반환(전달)\n",
    " - return 만 존재하면 None 반환\n",
    " - return 이 없는 경우, 기본적으로 함수 코드블록이 종료되면 종료로 간주, 이때도 None 반환"
   ]
  },
  {
   "cell_type": "code",
   "execution_count": 23,
   "metadata": {},
   "outputs": [
    {
     "name": "stdout",
     "output_type": "stream",
     "text": [
      "None\n"
     ]
    }
   ],
   "source": [
    "def aa_mul(x, y):\n",
    "    if x > 10:            \n",
    "#         return x * y\n",
    "        return            # 아무것도 전달하지 않고 함수 종료(None 반환)\n",
    "    print(x + y)          # 출력은 되지만 값이 반환되지는 않는다.\n",
    "    return (x + 2)*y\n",
    "    print(x + y)          # return을 만나는 순간 함수는 종료되었기 때문에, 이 구문은 의미가 x (수행 x)\n",
    "c = aa_mul(3, 5)          # 조건에 해당되지 않아서 None 반환\n",
    "# c = aa_mul(11, 5)\n",
    "print(c)"
   ]
  },
  {
   "cell_type": "code",
   "execution_count": 24,
   "metadata": {},
   "outputs": [
    {
     "name": "stdout",
     "output_type": "stream",
     "text": [
      "None\n"
     ]
    }
   ],
   "source": [
    "def aa_mul(x, y):\n",
    "    if x > 10:\n",
    "        return x * y\n",
    "    # 이 부분에는 return이 생략된 형태이다.\n",
    "c = aa_mul(2,5)\n",
    "print(c)"
   ]
  },
  {
   "cell_type": "markdown",
   "metadata": {},
   "source": [
    "### 다중리턴"
   ]
  },
  {
   "cell_type": "code",
   "execution_count": 29,
   "metadata": {},
   "outputs": [
    {
     "name": "stdout",
     "output_type": "stream",
     "text": [
      "(23, 60, 2000)\n",
      "23 60 2000\n"
     ]
    }
   ],
   "source": [
    "def add_mul(x, y):\n",
    "    s = x + y\n",
    "    m = x * y\n",
    "    n = x * 100\n",
    "    \n",
    "    return s, m, n\n",
    "c = add_mul(20, 3)\n",
    "print(c)\n",
    "cc, dd, nn = add_mul(20, 3)    # 여러 개의 값을 받을 수 있다.\n",
    "print(cc, dd, nn)"
   ]
  },
  {
   "cell_type": "code",
   "execution_count": 31,
   "metadata": {},
   "outputs": [
    {
     "name": "stdout",
     "output_type": "stream",
     "text": [
      "<class 'tuple'> (8, 16, 24) [8, 16, 24]\n"
     ]
    }
   ],
   "source": [
    "# 튜플 리턴\n",
    "def b_func(x):\n",
    "    y1 = x * 2\n",
    "    y2 = x * 4\n",
    "    y3 = x * 6\n",
    "    return (y1,y2,y3)\n",
    "tup = b_func(4)\n",
    "print(type(tup),tup,list(tup))"
   ]
  },
  {
   "cell_type": "code",
   "execution_count": 32,
   "metadata": {},
   "outputs": [
    {
     "name": "stdout",
     "output_type": "stream",
     "text": [
      "<class 'list'> [10, 20, 30] {10, 20, 30}\n"
     ]
    }
   ],
   "source": [
    "# 리스트 리턴\n",
    "def b_func(x):\n",
    "    y1 = x * 2\n",
    "    y2 = x * 4\n",
    "    y3 = x * 6\n",
    "    return [y1,y2,y3]\n",
    "li = b_func(5)\n",
    "print(type(li),li,set(li))"
   ]
  },
  {
   "cell_type": "code",
   "execution_count": 36,
   "metadata": {},
   "outputs": [
    {
     "name": "stdout",
     "output_type": "stream",
     "text": [
      "<class 'dict'> \n",
      " {'ret1': 16, 'ret2': 32, 'ret3': 48} \n",
      " 48 \n",
      " dict_items([('ret1', 16), ('ret2', 32), ('ret3', 48)]) \n",
      " dict_keys(['ret1', 'ret2', 'ret3']) \n",
      " dict_values([16, 32, 48])\n"
     ]
    }
   ],
   "source": [
    "# 딕셔너리 리턴\n",
    "def d_func(x):\n",
    "    y1 = x * 2\n",
    "    y2 = x * 4\n",
    "    y3 = x * 6\n",
    "    return {'ret1':y1, 'ret2':y2, 'ret3':y3}\n",
    "dic = d_func(8)\n",
    "print(type(dic),\"\\n\",dic,\"\\n\", dic.get('ret3'),\"\\n\", dic.items(),\"\\n\", dic.keys(),\"\\n\", dic.values())"
   ]
  },
  {
   "cell_type": "markdown",
   "metadata": {},
   "source": [
    "### variable scope(변수의 범위)\n",
    "- 변수가 참조 가능한 코드상의 범위를 명시\n",
    "- 함수내의 변수는 자신이 속한 코드 블록이 종료되면 소멸됨\n",
    "- 이처럼 특정 코드 블록에서 선언된 변수를 **지역변수(local variable)** 라고 함\n",
    "- 반대로 가장 상단에서 정의되어 프로그램 종료 전까지 유지되는 변수를 **전역변수(global variable)** 라고 함\n",
    "- 같은 이름의 지역변수와 전역변수가 존재할 경우, 지역변수의 우선순위가 높다."
   ]
  },
  {
   "cell_type": "code",
   "execution_count": 40,
   "metadata": {},
   "outputs": [
    {
     "name": "stdout",
     "output_type": "stream",
     "text": [
      "100 200\n",
      "300\n",
      "10 30\n"
     ]
    }
   ],
   "source": [
    "num1 = 10\n",
    "num2 = 30\n",
    "\n",
    "def test(num1, num2):  # 함수 안에 선언된 변수는 지역변수이다.\n",
    "    print(num1, num2)\n",
    "    return num1 + num2\n",
    "cc = test(100,200)\n",
    "print(cc)\n",
    "\n",
    "# 함수와 관계 없는 전역변수이다.\n",
    "print(num1, num2)"
   ]
  },
  {
   "cell_type": "markdown",
   "metadata": {},
   "source": [
    "### Variable length argument(가변길이 인자)\n",
    "- 전달되는 파라미터의 개수가 고정적이지 않은 경우 사용\n",
    "- e.g) \n",
    " - print()\n",
    " - format()\n",
    "\n",
    "> *args, **kwargs"
   ]
  },
  {
   "cell_type": "code",
   "execution_count": 42,
   "metadata": {},
   "outputs": [
    {
     "name": "stdout",
     "output_type": "stream",
     "text": [
      "\n",
      "1\n",
      "1 2\n",
      "1 2 3\n"
     ]
    }
   ],
   "source": [
    "# 파라미터의 갯수가 정해지지 않고 얼마든지 넣을 수 있다.\n",
    "print()\n",
    "print(1)\n",
    "print(1,2)\n",
    "print(1,2,3)"
   ]
  },
  {
   "cell_type": "code",
   "execution_count": 56,
   "metadata": {},
   "outputs": [
    {
     "name": "stdout",
     "output_type": "stream",
     "text": [
      "<class 'tuple'>\n",
      "<class 'tuple'>\n",
      "<class 'tuple'>\n",
      "<class 'tuple'>\n",
      "----------------\n",
      "10\n",
      "11\n",
      "22\n",
      "33\n"
     ]
    }
   ],
   "source": [
    "def test(*x):  # *이것만 들어가면 가변길이인자를 나타내는게 맞지만 관례적으로 args를 쓴다.\n",
    "    print(type(x))\n",
    "#     print(x)\n",
    "    \n",
    "test()\n",
    "test(10)\n",
    "test(10,20)\n",
    "test(10,20,30)\n",
    "print('----------------')\n",
    "\n",
    "def test(*args):     # 가변 길이 함수는 관례적으로 args를 사용\n",
    "    for item in args:\n",
    "        print(item)\n",
    "test(10,11,22,33)"
   ]
  },
  {
   "cell_type": "code",
   "execution_count": 59,
   "metadata": {},
   "outputs": [
    {
     "name": "stdout",
     "output_type": "stream",
     "text": [
      "<class 'dict'>\n",
      "<class 'dict'>\n",
      "----------------\n",
      "key: a value: 1\n",
      "key: a value: 1\n",
      "key: b value: 3\n",
      "key: c value: 4\n",
      "key: d value: 5\n",
      "key: name value: Foo\n"
     ]
    }
   ],
   "source": [
    "def test2(**x):\n",
    "    print(type(x))\n",
    "test2()\n",
    "test2(a=1,b=2,c=3,d=4, name='Foo')\n",
    "print('----------------')\n",
    "def test3(**kwargs):  # kwargs는 keyword arguments\n",
    "    for key, value in kwargs.items():\n",
    "        print('key:',key,'value:',value)\n",
    "test3(a=1)\n",
    "test3(a=1, b=3, c=4, d=5, name='Foo')"
   ]
  },
  {
   "cell_type": "code",
   "execution_count": 53,
   "metadata": {},
   "outputs": [
    {
     "name": "stdout",
     "output_type": "stream",
     "text": [
      "오늘 온도: 20도 강수확률: 60%\n"
     ]
    }
   ],
   "source": [
    "_str = '오늘 온도: {}도 강수확률: {}%'.format(20,60)\n",
    "print(_str)"
   ]
  },
  {
   "cell_type": "code",
   "execution_count": 54,
   "metadata": {},
   "outputs": [
    {
     "name": "stdout",
     "output_type": "stream",
     "text": [
      "오늘 온도: 20도 강수확률: 50% 내일 예상 온도: 22\n"
     ]
    }
   ],
   "source": [
    "_str = '오늘 온도: {}도 강수확률: {}% 내일 예상 온도: {}'.format(20,50,22)\n",
    "print(_str)"
   ]
  },
  {
   "cell_type": "code",
   "execution_count": null,
   "metadata": {},
   "outputs": [],
   "source": []
  }
 ],
 "metadata": {
  "kernelspec": {
   "display_name": "Python 3",
   "language": "python",
   "name": "python3"
  },
  "language_info": {
   "codemirror_mode": {
    "name": "ipython",
    "version": 3
   },
   "file_extension": ".py",
   "mimetype": "text/x-python",
   "name": "python",
   "nbconvert_exporter": "python",
   "pygments_lexer": "ipython3",
   "version": "3.7.6"
  }
 },
 "nbformat": 4,
 "nbformat_minor": 4
}
