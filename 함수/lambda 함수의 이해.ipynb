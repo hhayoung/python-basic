{
 "cells": [
  {
   "cell_type": "markdown",
   "metadata": {},
   "source": [
    "### lambda 함수의 이해\n",
    "- 단일문으로 표현되는 익명함수\n",
    "- 익명함수란, 이름이 없는 구현체만 존재하는 간단한 함수를 의미\n",
    "- 코드 상에서 한번만 사용되는 기능이 있을 때, 굳이 함수로 만들지 않고 일회성(단발성)으로 만들어서 쓸 때 사용\n",
    "> 한 번 쓰고 버리는거라 메모리에 남아 있지 않는다."
   ]
  },
  {
   "cell_type": "code",
   "execution_count": 1,
   "metadata": {},
   "outputs": [
    {
     "data": {
      "text/plain": [
       "100"
      ]
     },
     "execution_count": 1,
     "metadata": {},
     "output_type": "execute_result"
    }
   ],
   "source": [
    "def square(x):\n",
    "    return x**2\n",
    "square(10)"
   ]
  },
  {
   "cell_type": "code",
   "execution_count": 4,
   "metadata": {},
   "outputs": [
    {
     "data": {
      "text/plain": [
       "100"
      ]
     },
     "execution_count": 4,
     "metadata": {},
     "output_type": "execute_result"
    }
   ],
   "source": [
    "# lambda 매개변수 : 리턴값\n",
    "sq = lambda x: x**2\n",
    "type(sq)  # function 타입\n",
    "sq(10)"
   ]
  },
  {
   "cell_type": "code",
   "execution_count": 6,
   "metadata": {},
   "outputs": [
    {
     "data": {
      "text/plain": [
       "30"
      ]
     },
     "execution_count": 6,
     "metadata": {},
     "output_type": "execute_result"
    }
   ],
   "source": [
    "def add(x,y):\n",
    "    return x+y\n",
    "\n",
    "add2 = lambda x,y: x+y\n",
    "add2(10,20)"
   ]
  },
  {
   "cell_type": "code",
   "execution_count": 10,
   "metadata": {},
   "outputs": [
    {
     "data": {
      "text/plain": [
       "5"
      ]
     },
     "execution_count": 10,
     "metadata": {},
     "output_type": "execute_result"
    }
   ],
   "source": [
    "def str_len(s):\n",
    "    return len(s)\n",
    "\n",
    "str_len('goods')"
   ]
  },
  {
   "cell_type": "code",
   "execution_count": 15,
   "metadata": {},
   "outputs": [
    {
     "name": "stdout",
     "output_type": "stream",
     "text": [
      "['bob', 'alex', 'teddy', 'charles']\n",
      "['bob', 'alex', 'teddy', 'charles']\n"
     ]
    }
   ],
   "source": [
    "strings = ['bob','charles','alex','teddy']\n",
    "\n",
    "# strings.sort()  # 알파벳순으로 정렬\n",
    "strings.sort(key = str_len)  # 문자열의 길이순으로 정렬\n",
    "print(strings)\n",
    "\n",
    "# Lambda 함수를 사용하는 이유(위의 str_len 함수 정의가 필요 없다). 메모리의 공간 확보\n",
    "strings.sort(key = lambda s:len(s))\n",
    "print(strings)"
   ]
  },
  {
   "cell_type": "markdown",
   "metadata": {},
   "source": [
    "### filter, map, reduce 함수\n",
    "- lambda가 유용하게 사용되는 3가지 대표 함수\n",
    "- 함수형 프로그래밍 기본요소이기도 함.\n",
    "- filter : 특정 조건을 만족하는 요소만 남겨두고 필터링\n",
    "- map : 각 원소를 주어진 수식에 따라 변형하여 새로운 리스트를 반환하는 함수\n",
    "- reduce : 차례대로 앞 2개의 원소를 가지고 연산 후 그 연산의 결과가 또 다음 연산의 입력으로 진행됨. 따라서, 마지막까지 진행되면 최종 출력은 한 개의 값만 남게 된다."
   ]
  },
  {
   "cell_type": "code",
   "execution_count": 4,
   "metadata": {},
   "outputs": [
    {
     "data": {
      "text/plain": [
       "True"
      ]
     },
     "execution_count": 4,
     "metadata": {},
     "output_type": "execute_result"
    }
   ],
   "source": [
    "def even(n):\n",
    "    return n%2 == 0\n",
    "\n",
    "even(10)"
   ]
  },
  {
   "cell_type": "code",
   "execution_count": 28,
   "metadata": {},
   "outputs": [
    {
     "data": {
      "text/plain": [
       "[2, 6, 8, 10]"
      ]
     },
     "execution_count": 28,
     "metadata": {},
     "output_type": "execute_result"
    }
   ],
   "source": [
    "# filter(함수, 리스트)\n",
    "\n",
    "nums = [1,2,3,6,8,9,10,11,13,15]\n",
    "\n",
    "# 리스트의 각 원소를 even 함수에 적용하여 짝수만 필터링\n",
    "# 즉, True 값만 포함하고 나머지는 버림\n",
    "list(filter(even, nums))\n",
    "\n",
    "# lambda 함수로 바꿔서 표현\n",
    "list(filter(lambda n:n%2==0,nums))"
   ]
  },
  {
   "cell_type": "code",
   "execution_count": 5,
   "metadata": {},
   "outputs": [
    {
     "data": {
      "text/plain": [
       "[False, True, False, True, True, False, True, False, False, False]"
      ]
     },
     "execution_count": 5,
     "metadata": {},
     "output_type": "execute_result"
    }
   ],
   "source": [
    "# map(함수, 리스트)\n",
    "# 주어진 리스트의 제곱을 한 값을 리스트로 표현\n",
    "nums = [1,2,3,6,8,9,10,11,13,15]\n",
    "\n",
    "list(map(lambda n:n*n, nums))  # n*n == n**2\n",
    "\n",
    "list(map(even,nums))\n",
    "list(map(lambda n:n%2==0,nums)) # filter함수와 다른 점"
   ]
  },
  {
   "cell_type": "code",
   "execution_count": 40,
   "metadata": {},
   "outputs": [
    {
     "name": "stdout",
     "output_type": "stream",
     "text": [
      "17\n",
      "120\n"
     ]
    }
   ],
   "source": [
    "# reduce(함수, 리스트)\n",
    "# reduce 함수 : functools 모듈에 있는 함수; 왼쪽에서 오른쪽으로 반복을 하면서 함수 연산을 한다.\n",
    "# 즉, 왼쪽에서 오른쪽으로 순회를 하면서 x는 왼쪽, y는 오른쪽에 할당\n",
    "\n",
    "# reduce 함수 사용할 땐 모듈 불러와야 됨. 모듈 불러올땐 import\n",
    "import functools\n",
    "\n",
    "a = [1, 3, 5, 8]\n",
    "\n",
    "# 리스트 내의 모든 숫자를 합산\n",
    "b = functools.reduce(lambda x,y:x+y, a)\n",
    "print(b)\n",
    "\n",
    "# functools 패키지 안에서 어떤 객체를 불러올 때는\n",
    "from functools import reduce    # 요렇게 사용하기도 한다. \n",
    "c = reduce(lambda x,y:x*y,a)\n",
    "print(c)"
   ]
  },
  {
   "cell_type": "code",
   "execution_count": 45,
   "metadata": {},
   "outputs": [
    {
     "name": "stdout",
     "output_type": "stream",
     "text": [
      "117\n",
      "1358\n",
      "str 더하기 :1358\n"
     ]
    }
   ],
   "source": [
    "# 숫자 초기값 고정하기\n",
    "aa = reduce(lambda x,y: x+y, a, 100)   # 기본값 100을 넣고 합산\n",
    "print(aa)\n",
    "\n",
    "# 문자열 더하기\n",
    "bb = ['1','3','5','8']\n",
    "bbb = reduce(lambda x,y: x+y, bb)\n",
    "print(bbb)\n",
    "\n",
    "# 문자열 초기값 고정하기\n",
    "cc = reduce(lambda x,y: x+y, bb, 'str 더하기 :')   # 초기값은 무조건 맨 뒤!\n",
    "print(cc)"
   ]
  },
  {
   "cell_type": "markdown",
   "metadata": {},
   "source": [
    "### sort(), sorted() 함수\n"
   ]
  },
  {
   "cell_type": "code",
   "execution_count": 49,
   "metadata": {},
   "outputs": [
    {
     "data": {
      "text/plain": [
       "[100, 47, 33, 11, 10]"
      ]
     },
     "execution_count": 49,
     "metadata": {},
     "output_type": "execute_result"
    }
   ],
   "source": [
    "# sort() 함수\n",
    "li = [100, 11, 33, 47, 10]\n",
    "li.sort(reverse=True)    # 원본이 아예 바뀜.\n",
    "li"
   ]
  },
  {
   "cell_type": "code",
   "execution_count": 51,
   "metadata": {},
   "outputs": [
    {
     "data": {
      "text/plain": [
       "[100, 11, 33, 47, 10]"
      ]
     },
     "execution_count": 51,
     "metadata": {},
     "output_type": "execute_result"
    }
   ],
   "source": [
    "# sorted() 함수\n",
    "li = [100, 11, 33, 47, 10]\n",
    "sorted(li)              # 원본은 그대로 놔두고, 새로운 리스트를 만든다.\n",
    "li"
   ]
  },
  {
   "cell_type": "code",
   "execution_count": 53,
   "metadata": {},
   "outputs": [
    {
     "data": {
      "text/plain": [
       "[1, 2, 3, 4, 6]"
      ]
     },
     "execution_count": 53,
     "metadata": {},
     "output_type": "execute_result"
    }
   ],
   "source": [
    "dic = {3:'A', 2:'C', 6:'F', 4:'H', 1:'D'}\n",
    "sorted(dic)     # dict 타입도 정렬 가능. key 순서대로 정렬"
   ]
  },
  {
   "cell_type": "code",
   "execution_count": 67,
   "metadata": {},
   "outputs": [
    {
     "data": {
      "text/plain": [
       "[('이경규', 58, '강남구'), ('강호동', 50, '용산구'), ('유재석', 44, '인천광역시')]"
      ]
     },
     "execution_count": 67,
     "metadata": {},
     "output_type": "execute_result"
    }
   ],
   "source": [
    "member = [\n",
    "    ('강호동', 50, '용산구'),\n",
    "    ('이경규', 58, '강남구'),\n",
    "    ('유재석', 44, '인천광역시')\n",
    "]\n",
    "\n",
    "sorted(member)\n",
    "# 위에 멤버를 나이순으로 정렬하시오(lambda 함수 이용)\n",
    "sorted(member, key=lambda n:n[1])\n",
    "sorted(member, key=lambda n:n[1], reverse=True)  # 역순(내림차순)\n",
    "\n",
    "# 위에 멤버를 주소순으로 정렬하시오(lambda 함수 이용)\n",
    "sorted(member, key=lambda n:n[2])"
   ]
  },
  {
   "cell_type": "markdown",
   "metadata": {},
   "source": [
    "### 함수 연습문제\n",
    "1. 주어진 숫자 리스트의 평균을 구하는 함수를 정의하여 출력하시오.  (함수명 : mean, 입력 : 숫자 리스트, 출력 : 숫자 리스트의 평균)\n",
    "    \n",
    "2. 주어진 숫자가 소수인지 아닌지 판별하는 함수를 정의하여 출력하시오. (소수 판별: 1과 자기 자신으로만 나눠지는 수; 입력: 양의 정수 1개; 출력: boolean(소수 : True, 합성수 : False) **힌트** : 13이 주어지면 2,3,4,5,6,7,8,9,...,12로 나눠서 한번도 나눠지지 않으면 소수이다.)\n",
    "    \n",
    "3. 숫자 2부터 해당 숫자 사이에 소수가 몇개인지 출력하는 함수를 정의하여 출력하시오. (입력 : 양의 정수 1개, 출력 : 2~해당 숫자 사이의 소수의 개수; e.g> 2,3,4,5,6,7은 4개)"
   ]
  },
  {
   "cell_type": "code",
   "execution_count": 1,
   "metadata": {},
   "outputs": [
    {
     "name": "stdout",
     "output_type": "stream",
     "text": [
      "평균은 : 5.5\n",
      "10\n",
      "5.5\n"
     ]
    }
   ],
   "source": [
    "def mean(li):\n",
    "#     _sum = 0\n",
    "#     for i in li:\n",
    "#         _sum += i\n",
    "#     avg = _sum/len(li)\n",
    "#     return avg\n",
    "    return sum(li) / len(li) # 내장함수 sum() 사용\n",
    "\n",
    "_list = [1,2,3,4,5,6,7,8,9,10]\n",
    "print('평균은 :',mean(_list))\n",
    "\n",
    "from functools import reduce\n",
    "print(len(_list))\n",
    "a = reduce(lambda x, y:(x + y),_list) / len(_list)\n",
    "print(a)"
   ]
  },
  {
   "cell_type": "code",
   "execution_count": 104,
   "metadata": {},
   "outputs": [
    {
     "name": "stdout",
     "output_type": "stream",
     "text": [
      "13 은 소수\n"
     ]
    }
   ],
   "source": [
    "def prime_num(n):\n",
    "    cnt = 0\n",
    "    for i in range(2,n):\n",
    "        if n%i != 0:\n",
    "            cnt += 1\n",
    "    if cnt == n-2:\n",
    "        return True\n",
    "    else:\n",
    "        return False\n",
    "    \n",
    "num = 13\n",
    "if prime_num(num):\n",
    "    print(num,'은 소수')\n",
    "else:\n",
    "    print(num,'은 합성수')"
   ]
  },
  {
   "cell_type": "code",
   "execution_count": 120,
   "metadata": {},
   "outputs": [
    {
     "name": "stdout",
     "output_type": "stream",
     "text": [
      "False\n",
      "True\n",
      "True\n"
     ]
    }
   ],
   "source": [
    "# 교수님 코드\n",
    "def is_prime(num):\n",
    "    for i in range(2,num):\n",
    "        if num % i == 0:    # 나눠 떨어지면 소수가 아니다.\n",
    "            return False\n",
    "    return True\n",
    "\n",
    "print(is_prime(100))\n",
    "print(is_prime(89))\n",
    "print(is_prime(7))"
   ]
  },
  {
   "cell_type": "code",
   "execution_count": 114,
   "metadata": {},
   "outputs": [
    {
     "name": "stdout",
     "output_type": "stream",
     "text": [
      "2~ 20 사이의 소수 개수:  8 개\n"
     ]
    }
   ],
   "source": [
    "def prime_num2(n):\n",
    "    prime_cnt = 0\n",
    "    for i in range(2,n+1):\n",
    "        cnt = 0\n",
    "        for j in range(2,i):\n",
    "            if i%j != 0:\n",
    "                cnt += 1\n",
    "        if cnt == i-2:\n",
    "            prime_cnt += 1\n",
    "    return prime_cnt\n",
    "    \n",
    "num2 = 20\n",
    "print('2~',num2,'사이의 소수 개수: ',prime_num2(num2),'개')"
   ]
  },
  {
   "cell_type": "code",
   "execution_count": 123,
   "metadata": {},
   "outputs": [
    {
     "name": "stdout",
     "output_type": "stream",
     "text": [
      "3\n",
      "25\n"
     ]
    }
   ],
   "source": [
    "# 교수님 코드\n",
    "def num_prime(num):\n",
    "    cnt = 0\n",
    "    for i in range(2,num+1):\n",
    "        if is_prime(i):\n",
    "            cnt += 1\n",
    "    return cnt\n",
    "\n",
    "print(num_prime(5))\n",
    "print(num_prime(100))"
   ]
  }
 ],
 "metadata": {
  "kernelspec": {
   "display_name": "Python 3",
   "language": "python",
   "name": "python3"
  },
  "language_info": {
   "codemirror_mode": {
    "name": "ipython",
    "version": 3
   },
   "file_extension": ".py",
   "mimetype": "text/x-python",
   "name": "python",
   "nbconvert_exporter": "python",
   "pygments_lexer": "ipython3",
   "version": "3.7.6"
  }
 },
 "nbformat": 4,
 "nbformat_minor": 4
}
