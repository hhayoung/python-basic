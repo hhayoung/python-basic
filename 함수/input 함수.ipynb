{
 "cells": [
  {
   "cell_type": "markdown",
   "metadata": {},
   "source": [
    "### 사용자로부터 입력을 받는 함수 input()"
   ]
  },
  {
   "cell_type": "code",
   "execution_count": 3,
   "metadata": {},
   "outputs": [
    {
     "name": "stdout",
     "output_type": "stream",
     "text": [
      "당신의 이름을 입력하세요 : 홍길동\n",
      "당신의 이름은 홍길동 입니다.\n"
     ]
    }
   ],
   "source": [
    "yourName = input('당신의 이름을 입력하세요 : ')\n",
    "print('당신의 이름은 {} 입니다.'.format(yourName))"
   ]
  },
  {
   "cell_type": "code",
   "execution_count": 7,
   "metadata": {},
   "outputs": [
    {
     "name": "stdout",
     "output_type": "stream",
     "text": [
      "당신의 나이를 입력하세요 : 30\n",
      "당신의 나이는 30세 입니다.\n"
     ]
    }
   ],
   "source": [
    "yourAge = input('당신의 나이를 입력하세요 : ')\n",
    "print('당신의 나이는 {}세 입니다.'.format(yourAge))"
   ]
  },
  {
   "cell_type": "code",
   "execution_count": 6,
   "metadata": {},
   "outputs": [
    {
     "name": "stdout",
     "output_type": "stream",
     "text": [
      "당신의 이름과 나이를 입력하세요[홍길동 30]:홍길동 30\n",
      "당신의 이름은 홍길동, 나이는 30세 입니다.\n"
     ]
    }
   ],
   "source": [
    "yourName, yourAge = input('당신의 이름과 나이를 입력하세요[홍길동 30]:').split(' ')  # split 꼭 필요!\n",
    "print('당신의 이름은 {}, 나이는 {}세 입니다.'.format(yourName,yourAge))"
   ]
  },
  {
   "cell_type": "code",
   "execution_count": 8,
   "metadata": {},
   "outputs": [
    {
     "name": "stdout",
     "output_type": "stream",
     "text": [
      "당신의 이름과 나이를 입력하세요[홍길동 30]:김하영-26\n"
     ]
    },
    {
     "ename": "ValueError",
     "evalue": "not enough values to unpack (expected 2, got 1)",
     "output_type": "error",
     "traceback": [
      "\u001b[1;31m---------------------------------------------------------------------------\u001b[0m",
      "\u001b[1;31mValueError\u001b[0m                                Traceback (most recent call last)",
      "\u001b[1;32m<ipython-input-8-bb6640467ab8>\u001b[0m in \u001b[0;36m<module>\u001b[1;34m\u001b[0m\n\u001b[1;32m----> 1\u001b[1;33m \u001b[0myourName\u001b[0m\u001b[1;33m,\u001b[0m \u001b[0myourAge\u001b[0m \u001b[1;33m=\u001b[0m \u001b[0minput\u001b[0m\u001b[1;33m(\u001b[0m\u001b[1;34m'당신의 이름과 나이를 입력하세요[홍길동 30]:'\u001b[0m\u001b[1;33m)\u001b[0m\u001b[1;33m.\u001b[0m\u001b[0msplit\u001b[0m\u001b[1;33m(\u001b[0m\u001b[1;34m' '\u001b[0m\u001b[1;33m)\u001b[0m  \u001b[1;31m# split 꼭 필요!\u001b[0m\u001b[1;33m\u001b[0m\u001b[1;33m\u001b[0m\u001b[0m\n\u001b[0m\u001b[0;32m      2\u001b[0m \u001b[0mprint\u001b[0m\u001b[1;33m(\u001b[0m\u001b[1;34m'당신의 이름은 {}, 나이는 {}세 입니다.'\u001b[0m\u001b[1;33m.\u001b[0m\u001b[0mformat\u001b[0m\u001b[1;33m(\u001b[0m\u001b[0myourName\u001b[0m\u001b[1;33m,\u001b[0m\u001b[0myourAge\u001b[0m\u001b[1;33m)\u001b[0m\u001b[1;33m)\u001b[0m\u001b[1;33m\u001b[0m\u001b[1;33m\u001b[0m\u001b[0m\n",
      "\u001b[1;31mValueError\u001b[0m: not enough values to unpack (expected 2, got 1)"
     ]
    }
   ],
   "source": [
    "# 띄어쓰기를 하지 않으면 바로 오류가 난다.\n",
    "yourName, yourAge = input('당신의 이름과 나이를 입력하세요[홍길동 30]:').split(' ')  # split 꼭 필요!\n",
    "print('당신의 이름은 {}, 나이는 {}세 입니다.'.format(yourName,yourAge))"
   ]
  },
  {
   "cell_type": "code",
   "execution_count": 9,
   "metadata": {},
   "outputs": [
    {
     "name": "stdout",
     "output_type": "stream",
     "text": [
      "당신의 이름과 나이를 입력하세요[홍길동 30]:김하영26\n",
      "이름과 나이를 띄어쓰기 하세요...\n",
      "당신의 이름과 나이를 입력하세요[홍길동 30]:김하영 26\n",
      "당신의 이름은 김하영, 나이는 26세 입니다.\n"
     ]
    }
   ],
   "source": [
    "while True:\n",
    "    try:\n",
    "        yourName, yourAge = input('당신의 이름과 나이를 입력하세요[홍길동 30]:').split(' ')  # split 꼭 필요!\n",
    "        print('당신의 이름은 {}, 나이는 {}세 입니다.'.format(yourName,yourAge))\n",
    "        break;\n",
    "    except ValueError:\n",
    "        print('이름과 나이를 띄어쓰기 하세요...')\n",
    "    "
   ]
  },
  {
   "cell_type": "code",
   "execution_count": 3,
   "metadata": {},
   "outputs": [
    {
     "name": "stdout",
     "output_type": "stream",
     "text": [
      "원하는 단 입력(2~9) : 3\n",
      "3 * 1 = 3\n",
      "3 * 2 = 6\n",
      "3 * 3 = 9\n",
      "3 * 4 = 12\n",
      "3 * 5 = 15\n",
      "3 * 6 = 18\n",
      "3 * 7 = 21\n",
      "3 * 8 = 24\n",
      "3 * 9 = 27\n"
     ]
    }
   ],
   "source": [
    "# 입력받는 단 수의 구구단 출력하기\n",
    "\n",
    "while True:\n",
    "    try:\n",
    "        num = int(input('원하는 단 입력(2~9) : '))\n",
    "        for i in range(1,10):\n",
    "#             print(num,'*',i,'=',num*i)\n",
    "            print('{} * {} = {}'.format(num, i, num*i))\n",
    "        break\n",
    "    except:\n",
    "        print('2~9까지의 숫자만 입력하세요')"
   ]
  },
  {
   "cell_type": "code",
   "execution_count": 4,
   "metadata": {},
   "outputs": [
    {
     "name": "stdout",
     "output_type": "stream",
     "text": [
      "원하는 단을 입력하세요 :3\n",
      "3 X 1 = 3\n",
      "3 X 2 = 6\n",
      "3 X 3 = 9\n",
      "3 X 4 = 12\n",
      "3 X 5 = 15\n",
      "3 X 6 = 18\n",
      "3 X 7 = 21\n",
      "3 X 8 = 24\n",
      "3 X 9 = 27\n"
     ]
    }
   ],
   "source": [
    "# 교수님 코드\n",
    "num = int(input('원하는 단을 입력하세요 :'))\n",
    "\n",
    "for i in range(1,10):\n",
    "    #             print(num,'*',i,'=',num*i)  # 웬만하면 format 이용하는게 좋음\n",
    "    print('{} X {} = {}'.format(num,i,num*i))"
   ]
  },
  {
   "cell_type": "markdown",
   "metadata": {},
   "source": [
    "### f스트링\n",
    "- python 3.6.x 부터 지원하는 문자열 포맷팅\n",
    "- f스트링을 이용하면 변수를 {} 안에 넣어서 사용가능\n",
    "- 직관적이면 사용하기 편함"
   ]
  },
  {
   "cell_type": "code",
   "execution_count": 6,
   "metadata": {},
   "outputs": [
    {
     "name": "stdout",
     "output_type": "stream",
     "text": [
      "원하는 단을 입력하세요 :6\n",
      "6 x 1 = 6\n",
      "6 x 2 = 12\n",
      "6 x 3 = 18\n",
      "6 x 4 = 24\n",
      "6 x 5 = 30\n",
      "6 x 6 = 36\n",
      "6 x 7 = 42\n",
      "6 x 8 = 48\n",
      "6 x 9 = 54\n"
     ]
    }
   ],
   "source": [
    "num = int(input('원하는 단을 입력하세요 :'))\n",
    "\n",
    "for i in range(1,10):\n",
    "    print(f'{num} x {i} = {num * i}')   # f스트링 사용"
   ]
  },
  {
   "cell_type": "code",
   "execution_count": 13,
   "metadata": {},
   "outputs": [
    {
     "name": "stdout",
     "output_type": "stream",
     "text": [
      "시작 단을 입력하시오: 3\n",
      "마지막 단을 입력하시오: 5\n",
      "3 X 1 = 3\n",
      "3 X 2 = 6\n",
      "3 X 3 = 9\n",
      "3 X 4 = 12\n",
      "3 X 5 = 15\n",
      "3 X 6 = 18\n",
      "3 X 7 = 21\n",
      "3 X 8 = 24\n",
      "3 X 9 = 27\n",
      "\n",
      "4 X 1 = 4\n",
      "4 X 2 = 8\n",
      "4 X 3 = 12\n",
      "4 X 4 = 16\n",
      "4 X 5 = 20\n",
      "4 X 6 = 24\n",
      "4 X 7 = 28\n",
      "4 X 8 = 32\n",
      "4 X 9 = 36\n",
      "\n",
      "5 X 1 = 5\n",
      "5 X 2 = 10\n",
      "5 X 3 = 15\n",
      "5 X 4 = 20\n",
      "5 X 5 = 25\n",
      "5 X 6 = 30\n",
      "5 X 7 = 35\n",
      "5 X 8 = 40\n",
      "5 X 9 = 45\n",
      "\n"
     ]
    }
   ],
   "source": [
    "while True:\n",
    "    s = int(input('시작 단을 입력하시오: '))\n",
    "    e = int(input('마지막 단을 입력하시오: '))\n",
    "    if s < e:\n",
    "        break\n",
    "    print('다시 입력하세요!!!')\n",
    "    \n",
    "for i in range(s,e+1):\n",
    "    for j in range(1,10):\n",
    "        print(f'{i} X {j} = {i*j}')\n",
    "    print()"
   ]
  },
  {
   "cell_type": "markdown",
   "metadata": {},
   "source": [
    "### 구구단 가로로 출력"
   ]
  },
  {
   "cell_type": "code",
   "execution_count": 22,
   "metadata": {
    "scrolled": true
   },
   "outputs": [
    {
     "name": "stdout",
     "output_type": "stream",
     "text": [
      "2 X 1 = 2\t3 X 1 = 3\t4 X 1 = 4\t5 X 1 = 5\t6 X 1 = 6\t7 X 1 = 7\t8 X 1 = 8\t9 X 1 = 9\t\n",
      "2 X 2 = 4\t3 X 2 = 6\t4 X 2 = 8\t5 X 2 = 10\t6 X 2 = 12\t7 X 2 = 14\t8 X 2 = 16\t9 X 2 = 18\t\n",
      "2 X 3 = 6\t3 X 3 = 9\t4 X 3 = 12\t5 X 3 = 15\t6 X 3 = 18\t7 X 3 = 21\t8 X 3 = 24\t9 X 3 = 27\t\n",
      "2 X 4 = 8\t3 X 4 = 12\t4 X 4 = 16\t5 X 4 = 20\t6 X 4 = 24\t7 X 4 = 28\t8 X 4 = 32\t9 X 4 = 36\t\n",
      "2 X 5 = 10\t3 X 5 = 15\t4 X 5 = 20\t5 X 5 = 25\t6 X 5 = 30\t7 X 5 = 35\t8 X 5 = 40\t9 X 5 = 45\t\n",
      "2 X 6 = 12\t3 X 6 = 18\t4 X 6 = 24\t5 X 6 = 30\t6 X 6 = 36\t7 X 6 = 42\t8 X 6 = 48\t9 X 6 = 54\t\n",
      "2 X 7 = 14\t3 X 7 = 21\t4 X 7 = 28\t5 X 7 = 35\t6 X 7 = 42\t7 X 7 = 49\t8 X 7 = 56\t9 X 7 = 63\t\n",
      "2 X 8 = 16\t3 X 8 = 24\t4 X 8 = 32\t5 X 8 = 40\t6 X 8 = 48\t7 X 8 = 56\t8 X 8 = 64\t9 X 8 = 72\t\n",
      "2 X 9 = 18\t3 X 9 = 27\t4 X 9 = 36\t5 X 9 = 45\t6 X 9 = 54\t7 X 9 = 63\t8 X 9 = 72\t9 X 9 = 81\t\n"
     ]
    }
   ],
   "source": [
    "for i in range(1,10):\n",
    "    for j in range(2,10):\n",
    "        print(f'{j} X {i} = {j*i}',end='\\t')\n",
    "    print()"
   ]
  },
  {
   "cell_type": "markdown",
   "metadata": {},
   "source": [
    "### 구구단 함수로 다 해놔서 하기"
   ]
  },
  {
   "cell_type": "code",
   "execution_count": 9,
   "metadata": {},
   "outputs": [
    {
     "name": "stdout",
     "output_type": "stream",
     "text": [
      "\n",
      "        ==========[ 메뉴 ]==========\n",
      "        [1] 원하는 단 출력\n",
      "        [2] 구구단 세로 출력\n",
      "        [3] 구구단 가로 출력\n",
      "        [4] 종료\n",
      "        ============================\n",
      "    \n",
      "번호를 입력하세요 : 1\n",
      "원하는 단 : 3\n",
      "3 x 1 = 3\n",
      "3 x 2 = 6\n",
      "3 x 3 = 9\n",
      "3 x 4 = 12\n",
      "3 x 5 = 15\n",
      "3 x 6 = 18\n",
      "3 x 7 = 21\n",
      "3 x 8 = 24\n",
      "3 x 9 = 27\n",
      "\n",
      "        ==========[ 메뉴 ]==========\n",
      "        [1] 원하는 단 출력\n",
      "        [2] 구구단 세로 출력\n",
      "        [3] 구구단 가로 출력\n",
      "        [4] 종료\n",
      "        ============================\n",
      "    \n",
      "번호를 입력하세요 : 2\n",
      "2 x 1 = 2\n",
      "2 x 2 = 4\n",
      "2 x 3 = 6\n",
      "2 x 4 = 8\n",
      "2 x 5 = 10\n",
      "2 x 6 = 12\n",
      "2 x 7 = 14\n",
      "2 x 8 = 16\n",
      "2 x 9 = 18\n",
      "\n",
      "3 x 1 = 3\n",
      "3 x 2 = 6\n",
      "3 x 3 = 9\n",
      "3 x 4 = 12\n",
      "3 x 5 = 15\n",
      "3 x 6 = 18\n",
      "3 x 7 = 21\n",
      "3 x 8 = 24\n",
      "3 x 9 = 27\n",
      "\n",
      "4 x 1 = 4\n",
      "4 x 2 = 8\n",
      "4 x 3 = 12\n",
      "4 x 4 = 16\n",
      "4 x 5 = 20\n",
      "4 x 6 = 24\n",
      "4 x 7 = 28\n",
      "4 x 8 = 32\n",
      "4 x 9 = 36\n",
      "\n",
      "5 x 1 = 5\n",
      "5 x 2 = 10\n",
      "5 x 3 = 15\n",
      "5 x 4 = 20\n",
      "5 x 5 = 25\n",
      "5 x 6 = 30\n",
      "5 x 7 = 35\n",
      "5 x 8 = 40\n",
      "5 x 9 = 45\n",
      "\n",
      "6 x 1 = 6\n",
      "6 x 2 = 12\n",
      "6 x 3 = 18\n",
      "6 x 4 = 24\n",
      "6 x 5 = 30\n",
      "6 x 6 = 36\n",
      "6 x 7 = 42\n",
      "6 x 8 = 48\n",
      "6 x 9 = 54\n",
      "\n",
      "7 x 1 = 7\n",
      "7 x 2 = 14\n",
      "7 x 3 = 21\n",
      "7 x 4 = 28\n",
      "7 x 5 = 35\n",
      "7 x 6 = 42\n",
      "7 x 7 = 49\n",
      "7 x 8 = 56\n",
      "7 x 9 = 63\n",
      "\n",
      "8 x 1 = 8\n",
      "8 x 2 = 16\n",
      "8 x 3 = 24\n",
      "8 x 4 = 32\n",
      "8 x 5 = 40\n",
      "8 x 6 = 48\n",
      "8 x 7 = 56\n",
      "8 x 8 = 64\n",
      "8 x 9 = 72\n",
      "\n",
      "9 x 1 = 9\n",
      "9 x 2 = 18\n",
      "9 x 3 = 27\n",
      "9 x 4 = 36\n",
      "9 x 5 = 45\n",
      "9 x 6 = 54\n",
      "9 x 7 = 63\n",
      "9 x 8 = 72\n",
      "9 x 9 = 81\n",
      "\n",
      "\n",
      "        ==========[ 메뉴 ]==========\n",
      "        [1] 원하는 단 출력\n",
      "        [2] 구구단 세로 출력\n",
      "        [3] 구구단 가로 출력\n",
      "        [4] 종료\n",
      "        ============================\n",
      "    \n",
      "번호를 입력하세요 : 3\n",
      "2 X 1 = 2\t3 X 1 = 3\t4 X 1 = 4\t5 X 1 = 5\t6 X 1 = 6\t7 X 1 = 7\t8 X 1 = 8\t9 X 1 = 9\t\n",
      "2 X 2 = 4\t3 X 2 = 6\t4 X 2 = 8\t5 X 2 = 10\t6 X 2 = 12\t7 X 2 = 14\t8 X 2 = 16\t9 X 2 = 18\t\n",
      "2 X 3 = 6\t3 X 3 = 9\t4 X 3 = 12\t5 X 3 = 15\t6 X 3 = 18\t7 X 3 = 21\t8 X 3 = 24\t9 X 3 = 27\t\n",
      "2 X 4 = 8\t3 X 4 = 12\t4 X 4 = 16\t5 X 4 = 20\t6 X 4 = 24\t7 X 4 = 28\t8 X 4 = 32\t9 X 4 = 36\t\n",
      "2 X 5 = 10\t3 X 5 = 15\t4 X 5 = 20\t5 X 5 = 25\t6 X 5 = 30\t7 X 5 = 35\t8 X 5 = 40\t9 X 5 = 45\t\n",
      "2 X 6 = 12\t3 X 6 = 18\t4 X 6 = 24\t5 X 6 = 30\t6 X 6 = 36\t7 X 6 = 42\t8 X 6 = 48\t9 X 6 = 54\t\n",
      "2 X 7 = 14\t3 X 7 = 21\t4 X 7 = 28\t5 X 7 = 35\t6 X 7 = 42\t7 X 7 = 49\t8 X 7 = 56\t9 X 7 = 63\t\n",
      "2 X 8 = 16\t3 X 8 = 24\t4 X 8 = 32\t5 X 8 = 40\t6 X 8 = 48\t7 X 8 = 56\t8 X 8 = 64\t9 X 8 = 72\t\n",
      "2 X 9 = 18\t3 X 9 = 27\t4 X 9 = 36\t5 X 9 = 45\t6 X 9 = 54\t7 X 9 = 63\t8 X 9 = 72\t9 X 9 = 81\t\n",
      "\n",
      "        ==========[ 메뉴 ]==========\n",
      "        [1] 원하는 단 출력\n",
      "        [2] 구구단 세로 출력\n",
      "        [3] 구구단 가로 출력\n",
      "        [4] 종료\n",
      "        ============================\n",
      "    \n",
      "번호를 입력하세요 : 4\n",
      "종료합니다...\n"
     ]
    }
   ],
   "source": [
    "def menu_display():\n",
    "    print('''\n",
    "        ==========[ 메뉴 ]==========\n",
    "        [1] 원하는 단 출력\n",
    "        [2] 구구단 세로 출력\n",
    "        [3] 구구단 가로 출력\n",
    "        [4] 종료\n",
    "        ============================\n",
    "    ''')\n",
    "    menu = int(input('번호를 입력하세요 : '))\n",
    "    return menu\n",
    "    \n",
    "def gugudan_input(num):\n",
    "    for i in range(1,10):\n",
    "        print(f'{num} x {i} = {num*i}')\n",
    "\n",
    "def gugudan_vertical():\n",
    "    for i in range(2,10):\n",
    "        for j in range(1,10):\n",
    "            print(f'{i} x {j} = {i*j}')\n",
    "        print()\n",
    "\n",
    "def gugudan_horizontal():\n",
    "    for i in range(1,10):\n",
    "        for j in range(2,10):\n",
    "            print(f'{j} X {i} = {j*i}',end='\\t')\n",
    "        print()\n",
    "\n",
    "# 메인 루프\n",
    "while True:\n",
    "    \n",
    "    menu = menu_display()\n",
    "    \n",
    "    if menu == 1:\n",
    "        input_num = int(input('원하는 단 : '))\n",
    "        gugudan_input(input_num)\n",
    "    elif menu == 2:\n",
    "        gugudan_vertical()\n",
    "    elif menu == 3:\n",
    "        gugudan_horizontal()\n",
    "    elif menu == 4:\n",
    "        print('종료합니다...')\n",
    "        break\n",
    "    else:\n",
    "        print('1~4까지의 번호만 입력하세요')"
   ]
  }
 ],
 "metadata": {
  "kernelspec": {
   "display_name": "Python 3",
   "language": "python",
   "name": "python3"
  },
  "language_info": {
   "codemirror_mode": {
    "name": "ipython",
    "version": 3
   },
   "file_extension": ".py",
   "mimetype": "text/x-python",
   "name": "python",
   "nbconvert_exporter": "python",
   "pygments_lexer": "ipython3",
   "version": "3.7.6"
  }
 },
 "nbformat": 4,
 "nbformat_minor": 4
}
