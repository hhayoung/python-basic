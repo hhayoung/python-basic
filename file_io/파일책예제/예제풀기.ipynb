{
 "cells": [
  {
   "cell_type": "code",
   "execution_count": 17,
   "metadata": {},
   "outputs": [
    {
     "name": "stdout",
     "output_type": "stream",
     "text": [
      "Life is too short\n"
     ]
    }
   ],
   "source": [
    "with open('./test.txt','w') as f:\n",
    "    f.write('Life is too short')\n",
    "    \n",
    "with open('./test.txt','r') as f:\n",
    "    print(f.read())"
   ]
  },
  {
   "cell_type": "code",
   "execution_count": 12,
   "metadata": {},
   "outputs": [
    {
     "name": "stdout",
     "output_type": "stream",
     "text": [
      "Life is too short\n"
     ]
    }
   ],
   "source": [
    "# 이 문제의 의도 : 파일을 열었으면 닫아줘야 한다.\n",
    "f1 = open('test.txt','w')\n",
    "f1.write('Life is too short')\n",
    "f1.close()\n",
    "\n",
    "f2 = open('test.txt','r')\n",
    "print(f2.read())\n",
    "f2.close()"
   ]
  },
  {
   "cell_type": "code",
   "execution_count": 18,
   "metadata": {},
   "outputs": [
    {
     "name": "stdout",
     "output_type": "stream",
     "text": [
      "저장할 내용을 입력하세요:you need java\n"
     ]
    }
   ],
   "source": [
    "user_input = input('저장할 내용을 입력하세요:')\n",
    "f = open('./test.txt','a')\n",
    "f.write('\\n')\n",
    "f.write(user_input)\n",
    "f.write('\\n')\n",
    "f.close()\n"
   ]
  },
  {
   "cell_type": "code",
   "execution_count": 20,
   "metadata": {},
   "outputs": [],
   "source": [
    "f = open('./test.txt','r')\n",
    "body = f.read()\n",
    "f.close()\n",
    "\n",
    "body = body.replace('java','python')\n",
    "\n",
    "f = open('./test.txt','w')\n",
    "f.write(body)\n",
    "f.close()"
   ]
  },
  {
   "cell_type": "code",
   "execution_count": 27,
   "metadata": {},
   "outputs": [],
   "source": [
    "f = open('./새파일.txt','w',encoding='utf-8')\n",
    "for i in range(1,11):\n",
    "    data = '%d줄입니다\\n' % i\n",
    "    f.write(data)\n",
    "f.close()"
   ]
  },
  {
   "cell_type": "code",
   "execution_count": 29,
   "metadata": {},
   "outputs": [
    {
     "name": "stdout",
     "output_type": "stream",
     "text": [
      "1줄입니다\n",
      "\n"
     ]
    }
   ],
   "source": [
    "# readline\n",
    "f = open('./새파일.txt','r',encoding='utf-8')\n",
    "line = f.readline()\n",
    "print(line)\n",
    "f.close()"
   ]
  },
  {
   "cell_type": "code",
   "execution_count": 34,
   "metadata": {},
   "outputs": [
    {
     "name": "stdout",
     "output_type": "stream",
     "text": [
      "1줄입니다\n",
      "2줄입니다\n",
      "3줄입니다\n",
      "4줄입니다\n",
      "5줄입니다\n",
      "6줄입니다\n",
      "7줄입니다\n",
      "8줄입니다\n",
      "9줄입니다\n",
      "10줄입니다\n"
     ]
    }
   ],
   "source": [
    "# 모든 줄을 얻어오려면\n",
    "f = open('./새파일.txt','r',encoding='utf-8')\n",
    "while True:\n",
    "    line = f.readline()\n",
    "    if not line:        # 더 이상 읽을 줄이 없으면 None을 반환한다.\n",
    "        break\n",
    "    print(line,end='')  # or line.strip() 함수 사용\n",
    "f.close()"
   ]
  },
  {
   "cell_type": "code",
   "execution_count": 36,
   "metadata": {},
   "outputs": [
    {
     "name": "stdout",
     "output_type": "stream",
     "text": [
      "가\n",
      "가\n",
      "나\n",
      "나\n",
      "다\n",
      "다\n",
      "라\n",
      "라\n",
      "\n"
     ]
    }
   ],
   "source": [
    "while True:\n",
    "    data = input()\n",
    "    if not data:\n",
    "        break\n",
    "    print(data)"
   ]
  },
  {
   "cell_type": "code",
   "execution_count": 39,
   "metadata": {},
   "outputs": [
    {
     "name": "stdout",
     "output_type": "stream",
     "text": [
      "['1줄입니다\\n', '2줄입니다\\n', '3줄입니다\\n', '4줄입니다\\n', '5줄입니다\\n', '6줄입니다\\n', '7줄입니다\\n', '8줄입니다\\n', '9줄입니다\\n', '10줄입니다\\n']\n",
      "1줄입니다\n",
      "\n",
      "2줄입니다\n",
      "\n",
      "3줄입니다\n",
      "\n",
      "4줄입니다\n",
      "\n",
      "5줄입니다\n",
      "\n",
      "6줄입니다\n",
      "\n",
      "7줄입니다\n",
      "\n",
      "8줄입니다\n",
      "\n",
      "9줄입니다\n",
      "\n",
      "10줄입니다\n",
      "\n"
     ]
    }
   ],
   "source": [
    "#readlines\n",
    "f = open('./새파일.txt','r',encoding='utf-8')\n",
    "lines = f.readlines()   # 리스트 타입으로 반환\n",
    "print(lines)\n",
    "for line in lines:\n",
    "    print(line)\n",
    "f.close()"
   ]
  },
  {
   "cell_type": "code",
   "execution_count": 41,
   "metadata": {},
   "outputs": [
    {
     "name": "stdout",
     "output_type": "stream",
     "text": [
      "1줄입니다\n",
      "2줄입니다\n",
      "3줄입니다\n",
      "4줄입니다\n",
      "5줄입니다\n",
      "6줄입니다\n",
      "7줄입니다\n",
      "8줄입니다\n",
      "9줄입니다\n",
      "10줄입니다\n",
      "\n"
     ]
    }
   ],
   "source": [
    "# read 함수\n",
    "f = open('./새파일.txt','r',encoding='utf-8')\n",
    "data = f.read()       # 문자열 타입으로 반환\n",
    "print(data)\n",
    "f.close()"
   ]
  },
  {
   "cell_type": "code",
   "execution_count": 42,
   "metadata": {},
   "outputs": [],
   "source": [
    "# a모드\n",
    "f = open('./새파일.txt','a',encoding='utf-8')\n",
    "for i in range(11,20):\n",
    "    data = '%d 번째 줄입니다.\\n' % i\n",
    "    f.write(data)\n",
    "f.close()"
   ]
  },
  {
   "cell_type": "code",
   "execution_count": 43,
   "metadata": {},
   "outputs": [],
   "source": [
    "# with문 함께 사용\n",
    "with open('foo.txt','w') as f:\n",
    "    f.write('Life is too short, you need python')"
   ]
  },
  {
   "cell_type": "code",
   "execution_count": 44,
   "metadata": {},
   "outputs": [
    {
     "ename": "AttributeError",
     "evalue": "module 'sys' has no attribute 'args'",
     "output_type": "error",
     "traceback": [
      "\u001b[1;31m---------------------------------------------------------------------------\u001b[0m",
      "\u001b[1;31mAttributeError\u001b[0m                            Traceback (most recent call last)",
      "\u001b[1;32m<ipython-input-44-391f3427c7e3>\u001b[0m in \u001b[0;36m<module>\u001b[1;34m\u001b[0m\n\u001b[0;32m      2\u001b[0m \u001b[1;32mimport\u001b[0m \u001b[0msys\u001b[0m\u001b[1;33m\u001b[0m\u001b[1;33m\u001b[0m\u001b[0m\n\u001b[0;32m      3\u001b[0m \u001b[1;33m\u001b[0m\u001b[0m\n\u001b[1;32m----> 4\u001b[1;33m \u001b[0margs\u001b[0m \u001b[1;33m=\u001b[0m \u001b[0msys\u001b[0m\u001b[1;33m.\u001b[0m\u001b[0margs\u001b[0m\u001b[1;33m[\u001b[0m\u001b[1;36m1\u001b[0m\u001b[1;33m:\u001b[0m\u001b[1;33m]\u001b[0m\u001b[1;33m\u001b[0m\u001b[1;33m\u001b[0m\u001b[0m\n\u001b[0m\u001b[0;32m      5\u001b[0m \u001b[1;32mfor\u001b[0m \u001b[0mi\u001b[0m \u001b[1;32min\u001b[0m \u001b[0margs\u001b[0m\u001b[1;33m:\u001b[0m\u001b[1;33m\u001b[0m\u001b[1;33m\u001b[0m\u001b[0m\n\u001b[0;32m      6\u001b[0m     \u001b[0mprint\u001b[0m\u001b[1;33m(\u001b[0m\u001b[0mi\u001b[0m\u001b[1;33m)\u001b[0m\u001b[1;33m\u001b[0m\u001b[1;33m\u001b[0m\u001b[0m\n",
      "\u001b[1;31mAttributeError\u001b[0m: module 'sys' has no attribute 'args'"
     ]
    }
   ],
   "source": [
    "# sys 모듈로 매개변수 주기. 여기선 못행\n",
    "import sys\n",
    "\n",
    "args = sys.args[1:]\n",
    "for i in args:\n",
    "    print(i)"
   ]
  },
  {
   "cell_type": "code",
   "execution_count": null,
   "metadata": {},
   "outputs": [],
   "source": []
  }
 ],
 "metadata": {
  "kernelspec": {
   "display_name": "Python 3",
   "language": "python",
   "name": "python3"
  },
  "language_info": {
   "codemirror_mode": {
    "name": "ipython",
    "version": 3
   },
   "file_extension": ".py",
   "mimetype": "text/x-python",
   "name": "python",
   "nbconvert_exporter": "python",
   "pygments_lexer": "ipython3",
   "version": "3.7.6"
  }
 },
 "nbformat": 4,
 "nbformat_minor": 4
}
