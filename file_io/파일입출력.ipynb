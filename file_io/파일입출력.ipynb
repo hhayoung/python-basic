{
 "cells": [
  {
   "cell_type": "markdown",
   "metadata": {},
   "source": [
    "### 파일 읽기, 쓰기\n",
    "- 읽기 모드 : r(read)\n",
    "- 쓰기 모드 : w(write) (기존 파일 삭제)\n",
    "- 추가 모드 : a(append) (파일 생성 또는 있다면 끝에 추가)\n",
    "- path : 상대경로('../'(현재위치에서 이전 폴더), './'(현재 위치)), 절대경로('C:\\xx\\xxx')"
   ]
  },
  {
   "cell_type": "code",
   "execution_count": 6,
   "metadata": {},
   "outputs": [
    {
     "name": "stdout",
     "output_type": "stream",
     "text": [
      "Lorem Ipsum is simply dummy text of the printing and typesetting industry. Lorem Ipsum has been the industry's standard dummy text ever since the 1500s, when an unknown printer took a galley of type and scrambled it to make a type specimen book. It has survived not only five centuries, but also the leap into electronic typesetting, remaining essentially unchanged. It was popularised in the 1960s with the release of Letraset sheets containing Lorem Ipsum passages, and more recently with desktop publishing software like Aldus PageMaker including versions of Lorem Ipsum.\n",
      "['_CHUNK_SIZE', '__class__', '__del__', '__delattr__', '__dict__', '__dir__', '__doc__', '__enter__', '__eq__', '__exit__', '__format__', '__ge__', '__getattribute__', '__getstate__', '__gt__', '__hash__', '__init__', '__init_subclass__', '__iter__', '__le__', '__lt__', '__ne__', '__new__', '__next__', '__reduce__', '__reduce_ex__', '__repr__', '__setattr__', '__sizeof__', '__str__', '__subclasshook__', '_checkClosed', '_checkReadable', '_checkSeekable', '_checkWritable', '_finalizing', 'buffer', 'close', 'closed', 'detach', 'encoding', 'errors', 'fileno', 'flush', 'isatty', 'line_buffering', 'mode', 'name', 'newlines', 'read', 'readable', 'readline', 'readlines', 'reconfigure', 'seek', 'seekable', 'tell', 'truncate', 'writable', 'write', 'write_through', 'writelines']\n"
     ]
    }
   ],
   "source": [
    "# 파일 읽기\n",
    "f = open('./test.txt','r')    #파일 열 때는 open함수 사용. test.txt 파일을 r 읽기모드로 불러오겠다.\n",
    "contents = f.read()\n",
    "print(contents)\n",
    "print(dir(f))  # 여기서 사용할 수 있는 함수들이 나온다.\n",
    "\n",
    "# 파일을 열었으면 닫아줘야 함.\n",
    "f.close()\n",
    "\n",
    "# 까먹고 파일을 못 닫을 수도 있어 -> close()를 자동으로 해주는 방법 이용"
   ]
  },
  {
   "cell_type": "code",
   "execution_count": 11,
   "metadata": {},
   "outputs": [
    {
     "name": "stdout",
     "output_type": "stream",
     "text": [
      "Lorem Ipsum is simpl\n",
      "<class 'str'>\n",
      "['L', 'o', 'r', 'e', 'm', ' ', 'I', 'p', 's', 'u', 'm', ' ', 'i', 's', ' ', 's', 'i', 'm', 'p', 'l']\n"
     ]
    }
   ],
   "source": [
    "# close() 사용하지 않고 파일 객체를 사용하는 방법\n",
    "# read() : 전체 내용을 읽기, read(10): 10 글자 읽기\n",
    "\n",
    "# 대체로 with 구문을 이용해서 사용한다.\n",
    "with open('./test.txt','r') as f:\n",
    "    contents = f.read(20)\n",
    "    print(contents)\n",
    "    print(type(contents))  # 문자열\n",
    "    print(list(contents))\n"
   ]
  },
  {
   "cell_type": "code",
   "execution_count": 15,
   "metadata": {},
   "outputs": [
    {
     "name": "stdout",
     "output_type": "stream",
     "text": [
      "Lorem Ipsum is simply dummy text of the printing and typesetting industry.\n",
      "Lorem Ipsum has been the industry's standard dummy text ever since the 1500s, when an unknown printer took a galley of type and scrambled it to make a type specimen book.\n",
      "It has survived not only five centuries, but also the leap into electronic typesetting, remaining essentially unchanged.\n",
      "It was popularised in the 1960s with the release of Letraset sheets containing Lorem Ipsum passages, and more recently with desktop publishing software like Aldus PageMaker including versions of Lorem Ipsum.\n"
     ]
    }
   ],
   "source": [
    "with open('./test.txt','r') as f:\n",
    "    for c in f:\n",
    "#         print(c)\n",
    "        print(c.strip())   # 줄바꿈 없이 처리됨"
   ]
  },
  {
   "cell_type": "code",
   "execution_count": 35,
   "metadata": {},
   "outputs": [
    {
     "name": "stdout",
     "output_type": "stream",
     "text": [
      "손흥민/20/박지성/30/김말똥/40\n",
      "> \n",
      "['손흥민', '20', '박지성', '30', '김말똥', '40']\n",
      "['손흥민', '20', '박지성', '30', '김말똥', '40']\n"
     ]
    }
   ],
   "source": [
    "# [문제1.] list.txt 파일 내용을 출력하시오.\n",
    "\n",
    "with open('./list.txt','r',encoding='UTF8') as f:\n",
    "    contents = f.read()\n",
    "    print(contents)\n",
    "    contents = f.read()  # 한번 더 읽으면 내용이 없음\n",
    "    print('>',contents)  # 이미 커서?가 끝까지 다 읽어버려서 그 뒷 내용이 없기 때문에 출력되는게 없다.\n",
    "#     for c in f:\n",
    "#         print(c.strip())\n",
    "        \n",
    "\n",
    "# [문제2.] '/' 구분자를 삭제한 후 이름과 나이(숫자)를 리스트로 출력하시오.\n",
    "with open('./list.txt','r',encoding='UTF8') as f:\n",
    "    contents = f.read()\n",
    "    print(list(contents.split('/')))\n",
    "    print(contents.split('/'))    # 리스트로 변환 안해줘도 리스트로 출력\n",
    "        "
   ]
  },
  {
   "cell_type": "code",
   "execution_count": 48,
   "metadata": {},
   "outputs": [
    {
     "name": "stdout",
     "output_type": "stream",
     "text": [
      "Lorem Ipsum is simply dummy text of the printing and typesetting industry. \n",
      "\n",
      "Lorem Ipsum is simply dummy text of the printing and typesetting industry. \n",
      "Lorem Ipsum has been the industry's standard dummy text ever since the 1500s, when an unknown printer took a galley of type and scrambled it to make a type specimen book. \n",
      "It has survived not only five centuries, but also the leap into electronic typesetting, remaining essentially unchanged. \n",
      "It was popularised in the 1960s with the release of Letraset sheets containing Lorem Ipsum passages, and more recently with desktop publishing software like Aldus PageMaker including versions of Lorem Ipsum."
     ]
    }
   ],
   "source": [
    "# readline : 한줄씩 읽기, readline(문자수) : 문자수 읽기\n",
    "with open('./test.txt','r') as f:\n",
    "    line = f.readline()\n",
    "    print(line)\n",
    "    \n",
    "# readline 이용해서 전체 출력하기\n",
    "    while line:\n",
    "        print(line, end='')\n",
    "        line = f.readline()"
   ]
  },
  {
   "cell_type": "code",
   "execution_count": 54,
   "metadata": {},
   "outputs": [
    {
     "name": "stdout",
     "output_type": "stream",
     "text": [
      "['Lorem Ipsum is simply dummy text of the printing and typesetting industry. \\n', \"Lorem Ipsum has been the industry's standard dummy text ever since the 1500s, when an unknown printer took a galley of type and scrambled it to make a type specimen book. \\n\", 'It has survived not only five centuries, but also the leap into electronic typesetting, remaining essentially unchanged. \\n', 'It was popularised in the 1960s with the release of Letraset sheets containing Lorem Ipsum passages, and more recently with desktop publishing software like Aldus PageMaker including versions of Lorem Ipsum.']\n",
      "-------------------------------------\n",
      "Lorem Ipsum is simply dummy text of the printing and typesetting industry. \n",
      "###Lorem Ipsum has been the industry's standard dummy text ever since the 1500s, when an unknown printer took a galley of type and scrambled it to make a type specimen book. \n",
      "###It has survived not only five centuries, but also the leap into electronic typesetting, remaining essentially unchanged. \n",
      "###It was popularised in the 1960s with the release of Letraset sheets containing Lorem Ipsum passages, and more recently with desktop publishing software like Aldus PageMaker including versions of Lorem Ipsum.###"
     ]
    }
   ],
   "source": [
    "# readlines() : 전체를 읽은 후 라인 단위 리스트로 저장\n",
    "with open('./test.txt','r') as f:\n",
    "    contents = f.readlines()   # 리스트로 받아옴\n",
    "    print(contents)\n",
    "    print('-------------------------------------')\n",
    "    for c in contents:\n",
    "        print(c, end='###')"
   ]
  },
  {
   "cell_type": "code",
   "execution_count": 57,
   "metadata": {},
   "outputs": [
    {
     "name": "stdout",
     "output_type": "stream",
     "text": [
      "['Lorem Ipsum is simply dummy text of the printing and typesetting industry. \\n', \"Lorem Ipsum has been the industry's standard dummy text ever since the 1500s, when an unknown printer took a galley of type and scrambled it to make a type specimen book. \\n\", 'It has survived not only five centuries, but also the leap into electronic typesetting, remaining essentially unchanged. \\n', 'It was popularised in the 1960s with the release of Letraset sheets containing Lorem Ipsum passages, and more recently with desktop publishing software like Aldus PageMaker including versions of Lorem Ipsum.']\n"
     ]
    }
   ],
   "source": [
    "with open('./test.txt','r') as f:\n",
    "    score = []\n",
    "    for line in f:\n",
    "        score.append(line)\n",
    "    print(score)"
   ]
  },
  {
   "cell_type": "code",
   "execution_count": 60,
   "metadata": {},
   "outputs": [],
   "source": [
    "# 파일 쓰기\n",
    "with open('./test_write.txt','w') as f:\n",
    "    f.write('Goodman!! \\n')"
   ]
  },
  {
   "cell_type": "code",
   "execution_count": 62,
   "metadata": {},
   "outputs": [],
   "source": [
    "# 보통 w모드 보다는 a모드를 더 사용한다. \n",
    "with open('./test_write.txt','a') as f:\n",
    "    f.write('NiceMan!! \\n')"
   ]
  },
  {
   "cell_type": "code",
   "execution_count": 114,
   "metadata": {},
   "outputs": [
    {
     "name": "stdout",
     "output_type": "stream",
     "text": [
      "1\n",
      "[29, 28, 8, 19, 34, 44]\n"
     ]
    }
   ],
   "source": [
    "from random import randint\n",
    "\n",
    "print(randint(1,45))   # 1부터 45까지 랜덤 숫자\n",
    "\n",
    "# 로또 번호 파일에 쓰기\n",
    "\n",
    "with open('./lotto.txt','w') as f:\n",
    "    randlist = []\n",
    "    while True:\n",
    "        r = randint(1,45)\n",
    "        if r in randlist:\n",
    "            continue\n",
    "        else: \n",
    "            randlist.append(r)\n",
    "        if len(randlist) == 6:\n",
    "            break\n",
    "    f.write(str(randlist))\n",
    "    print(str(randlist))\n"
   ]
  },
  {
   "cell_type": "code",
   "execution_count": 116,
   "metadata": {},
   "outputs": [
    {
     "name": "stdout",
     "output_type": "stream",
     "text": [
      "[42, 15, 30, 43, 31, 16]\n"
     ]
    }
   ],
   "source": [
    "# 더 깔끔한 코드\n",
    "lotto = []\n",
    "while len(lotto) < 6:\n",
    "    r = randint(1,46)\n",
    "    if r in lotto:\n",
    "        continue\n",
    "    else:\n",
    "        lotto.append(r)\n",
    "print(lotto)"
   ]
  },
  {
   "cell_type": "code",
   "execution_count": null,
   "metadata": {},
   "outputs": [],
   "source": [
    "# 교수님 코드\n",
    "with open('./lotto.txt','a') as f:\n",
    "    for cnt in range(6):\n",
    "        f.write(str(randint(1,46)))\n",
    "        f.write(' ')"
   ]
  },
  {
   "cell_type": "code",
   "execution_count": 117,
   "metadata": {},
   "outputs": [],
   "source": [
    "# writelines: 리스트 => 파일로 저장\n",
    "with open('./test_write2.txt','a') as f:\n",
    "    list = ['kim\\n','Park\\n','Lee\\n']\n",
    "    f.writelines(list)"
   ]
  },
  {
   "cell_type": "code",
   "execution_count": 119,
   "metadata": {},
   "outputs": [
    {
     "name": "stdout",
     "output_type": "stream",
     "text": [
      "\n"
     ]
    }
   ],
   "source": [
    "print()\n",
    "# Shift + tab = print(value, ..., sep=' ', end='\\n', file=sys.stdout(요기 파일 속성), flush=False)\n",
    "with open('./test_write3.txt','w') as f:\n",
    "    print('Test Contents!!!',file=f)\n",
    "    print('Test Contents2222!!!',file=f)"
   ]
  }
 ],
 "metadata": {
  "kernelspec": {
   "display_name": "Python 3",
   "language": "python",
   "name": "python3"
  },
  "language_info": {
   "codemirror_mode": {
    "name": "ipython",
    "version": 3
   },
   "file_extension": ".py",
   "mimetype": "text/x-python",
   "name": "python",
   "nbconvert_exporter": "python",
   "pygments_lexer": "ipython3",
   "version": "3.7.6"
  }
 },
 "nbformat": 4,
 "nbformat_minor": 4
}
