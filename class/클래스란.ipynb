{
 "cells": [
  {
   "cell_type": "markdown",
   "metadata": {},
   "source": [
    "### 클래스란?\n",
    "\n",
    "- 현실세계의 것을 모델링하여 속성(attribute)과 동작(method)을 갖는 데이터 타입\n",
    "- python에서 string, int, dict, list ... 모두가 클래스로 존재\n",
    "- 학생을 추상화하겠다 = 학생을 클래스로 만들겠다\n",
    "- 예를 들어 학생이라는 클래스를 만든다면, 학생을 나타내는 속성과 학생이 행할 수 있는 행동을 정의 할 수 있다.\n",
    "- 클래스는 속성과 메소드(함수)으로 이루어져 있다.\n",
    "\n",
    "**클래스 선언**\n",
    "class 클래스명:\n",
    "    속성\n",
    "    속성 여러개\n",
    "    함수(메소드)\n",
    "    함수(메소드) 여러개\n",
    "    "
   ]
  },
  {
   "cell_type": "code",
   "execution_count": 1,
   "metadata": {},
   "outputs": [
    {
     "name": "stdout",
     "output_type": "stream",
     "text": [
      "140715372621296\n"
     ]
    }
   ],
   "source": [
    "a = 100\n",
    "print(id(a))   # a라고 하는 객체가 갖고 있는 주소값"
   ]
  },
  {
   "cell_type": "code",
   "execution_count": 14,
   "metadata": {},
   "outputs": [],
   "source": [
    "class NameCard:    # 클래스를 적을 때는 클래스명 맨앞을 대문자로\n",
    "    def set_info(self,name,email,addr):   # member1,2,3 다 들어올 수 있으니 self로 놔둔 것.\n",
    "        self.name = name\n",
    "        self.email = email\n",
    "        self.addr = addr\n",
    "        \n",
    "    def print_info(self):   # self 넣어줘야한다. python이 실행할 때 알아서 넣어준다\n",
    "        print('============================')\n",
    "        print('Name : ', self.name)    # self는 인스턴스 자체를 표현\n",
    "        print('E-mail : ', self.email)\n",
    "        print('Address : ', self.addr)\n",
    "        print('============================')"
   ]
  },
  {
   "cell_type": "code",
   "execution_count": 18,
   "metadata": {},
   "outputs": [
    {
     "name": "stdout",
     "output_type": "stream",
     "text": [
      "============================\n",
      "Name :  Kim\n",
      "E-mail :  kim@test.com\n",
      "Address :  Incheon\n",
      "============================\n"
     ]
    }
   ],
   "source": [
    "member1 = NameCard()\n",
    "member1.set_info('Kim','kim@test.com','Incheon')\n",
    "member1.print_info()"
   ]
  },
  {
   "cell_type": "code",
   "execution_count": 3,
   "metadata": {
    "scrolled": true
   },
   "outputs": [
    {
     "name": "stdout",
     "output_type": "stream",
     "text": [
      "2170834597576\n"
     ]
    }
   ],
   "source": [
    "member1 = NameCard()\n",
    "print(id(member1))"
   ]
  },
  {
   "cell_type": "code",
   "execution_count": 4,
   "metadata": {},
   "outputs": [],
   "source": [
    "member1.set_info('Kim','kim@test.com','Incheon')    # self는 안넣어줘도 python이 알아서 넣어줌"
   ]
  },
  {
   "cell_type": "code",
   "execution_count": 5,
   "metadata": {
    "scrolled": true
   },
   "outputs": [
    {
     "name": "stdout",
     "output_type": "stream",
     "text": [
      "Kim\n"
     ]
    }
   ],
   "source": [
    "print(member1.name)"
   ]
  },
  {
   "cell_type": "code",
   "execution_count": 21,
   "metadata": {},
   "outputs": [
    {
     "name": "stdout",
     "output_type": "stream",
     "text": [
      "============================\n",
      "Name :  Lee\n",
      "E-mail :  lee@test.com\n",
      "Address :  Seoul\n",
      "============================\n",
      "Lee\n"
     ]
    },
    {
     "data": {
      "text/plain": [
       "__main__.NameCard"
      ]
     },
     "execution_count": 21,
     "metadata": {},
     "output_type": "execute_result"
    }
   ],
   "source": [
    "member2 = NameCard()\n",
    "member2.set_info('Lee','lee@test.com','Seoul')\n",
    "member2.print_info()\n",
    "print(member2.name)\n",
    "type(member2)"
   ]
  },
  {
   "cell_type": "code",
   "execution_count": 11,
   "metadata": {
    "scrolled": true
   },
   "outputs": [
    {
     "name": "stdout",
     "output_type": "stream",
     "text": [
      "2170834597576\n",
      "2170848711368\n"
     ]
    }
   ],
   "source": [
    "print(id(member1))\n",
    "print(id(member2))"
   ]
  },
  {
   "cell_type": "code",
   "execution_count": 32,
   "metadata": {},
   "outputs": [],
   "source": [
    "# 클래스 생성자\n",
    "class MyDemo:\n",
    "    # 생성자 : 객체가 생성될 때 자동으로 호출\n",
    "    def __init__(self,name,addr):     # 특수 메소드 __ __ 이걸로 묶여 있는 거\n",
    "        print('객체 생성')\n",
    "        self.name = name\n",
    "        self.addr = addr              # __init__이라하는 생성자(메소드)를 호출하면서 속성이 설정된 것.\n",
    "    def print_info(self):\n",
    "        print(self.name)\n",
    "        print(self.addr)"
   ]
  },
  {
   "cell_type": "code",
   "execution_count": 28,
   "metadata": {},
   "outputs": [
    {
     "ename": "TypeError",
     "evalue": "__init__() missing 2 required positional arguments: 'name' and 'addr'",
     "output_type": "error",
     "traceback": [
      "\u001b[1;31m---------------------------------------------------------------------------\u001b[0m",
      "\u001b[1;31mTypeError\u001b[0m                                 Traceback (most recent call last)",
      "\u001b[1;32m<ipython-input-28-788f89fbc1d3>\u001b[0m in \u001b[0;36m<module>\u001b[1;34m\u001b[0m\n\u001b[1;32m----> 1\u001b[1;33m \u001b[0minstance1\u001b[0m \u001b[1;33m=\u001b[0m \u001b[0mMyDemo\u001b[0m\u001b[1;33m(\u001b[0m\u001b[1;33m)\u001b[0m\u001b[1;33m\u001b[0m\u001b[1;33m\u001b[0m\u001b[0m\n\u001b[0m",
      "\u001b[1;31mTypeError\u001b[0m: __init__() missing 2 required positional arguments: 'name' and 'addr'"
     ]
    }
   ],
   "source": [
    "instance1 = MyDemo()  # 매개변수값을 안 넣어줘서"
   ]
  },
  {
   "cell_type": "code",
   "execution_count": 35,
   "metadata": {},
   "outputs": [
    {
     "name": "stdout",
     "output_type": "stream",
     "text": [
      "객체 생성\n",
      "홍길동\n",
      "서울\n",
      "객체 생성\n",
      "손흥민\n",
      "런던\n"
     ]
    }
   ],
   "source": [
    "instance1 = MyDemo('홍길동','서울')\n",
    "instance1.print_info()\n",
    "\n",
    "instance2 = MyDemo('손흥민','런던')\n",
    "instance2.print_info()"
   ]
  },
  {
   "cell_type": "code",
   "execution_count": null,
   "metadata": {},
   "outputs": [],
   "source": [
    "''' 모델링 연습문제\n",
    "[문제 1] Book 클래스를 만들어서 책의 제목을 출력할 수 있도록 한다.\n",
    "       클래스를 이용하여 2개 이상의 책을 만드세요\n",
    "\n",
    "e.g> 책 제목은 \"파이썬 배우기\" 입니다.\n",
    "     책 제목은 \"자바 기초\" 입니다.\n",
    "     \n",
    "[문제 2] Student 클래스를 정의하여 두 명의 학생을 만들고 두 학생의 정보를 출력하세요.\n",
    "\n",
    "e.g> 제 이름은 홍길동 입니다. 나이는 21살 입니다.\n",
    "\n",
    "[문제 3] IceCream 클래스를 정의하여 두 개 이상의 아이스크림 정보를 출력하세요.\n",
    "\n",
    "e.g> 돼지바 가격은 1000원 입니다.\n",
    "'''"
   ]
  },
  {
   "cell_type": "code",
   "execution_count": 57,
   "metadata": {},
   "outputs": [],
   "source": [
    "class Book:\n",
    "    def __init__(self, title):\n",
    "        self.title = title\n",
    "        \n",
    "    def print_title(self):\n",
    "        print(f'책 제목은 \"{self.title}\" 입니다.')"
   ]
  },
  {
   "cell_type": "code",
   "execution_count": 58,
   "metadata": {},
   "outputs": [
    {
     "name": "stdout",
     "output_type": "stream",
     "text": [
      "책 제목은 \"파이썬 배우기\" 입니다.\n",
      "책 제목은 \"자바 기초\" 입니다.\n",
      "책 제목은 \"점프 투 파이썬\" 입니다.\n"
     ]
    }
   ],
   "source": [
    "book1 = Book('파이썬 배우기')\n",
    "book2 = Book('자바 기초')\n",
    "book3 = Book('점프 투 파이썬')\n",
    "\n",
    "\n",
    "book1.print_title()\n",
    "book2.print_title()\n",
    "book3.print_title()"
   ]
  },
  {
   "cell_type": "code",
   "execution_count": 61,
   "metadata": {},
   "outputs": [],
   "source": [
    "class Student:\n",
    "    def __init__(self, name, age):\n",
    "        self.name = name\n",
    "        self.age = age\n",
    "    \n",
    "    def print_info(self):\n",
    "        print(f'제 이름은 {self.name} 입니다. 나이는 {self.age} 살 입니다.')"
   ]
  },
  {
   "cell_type": "code",
   "execution_count": 62,
   "metadata": {},
   "outputs": [
    {
     "name": "stdout",
     "output_type": "stream",
     "text": [
      "제 이름은 홍길동 입니다. 나이는 21 살 입니다.\n",
      "제 이름은 김하영 입니다. 나이는 26 살 입니다.\n"
     ]
    }
   ],
   "source": [
    "student1 = Student('홍길동', 21)\n",
    "student2 = Student('김하영', 26)\n",
    "\n",
    "student1.print_info()\n",
    "student2.print_info()"
   ]
  },
  {
   "cell_type": "code",
   "execution_count": 65,
   "metadata": {},
   "outputs": [],
   "source": [
    "class IceCream:\n",
    "    def __init__(self, name, price):\n",
    "        self.name = name\n",
    "        self.price = price\n",
    "    \n",
    "    def print_iceInfo(self):\n",
    "        print(f'{self.name} 가격은 {self.price} 원 입니다.')\n",
    "        \n",
    "    # 소멸자\n",
    "    def __del__(self):\n",
    "        print(f'{self.name} 객체가 사라집니다.')\n",
    "        "
   ]
  },
  {
   "cell_type": "code",
   "execution_count": 68,
   "metadata": {},
   "outputs": [
    {
     "name": "stdout",
     "output_type": "stream",
     "text": [
      "젤루조아 객체가 사라집니다.\n",
      "돼지바 가격은 1000 원 입니다.\n",
      "젤루조아 가격은 800 원 입니다.\n",
      "돼지바 객체가 사라집니다.\n"
     ]
    }
   ],
   "source": [
    "ice1 = IceCream('돼지바',1000)\n",
    "ice2 = IceCream('젤루조아',800)\n",
    "\n",
    "ice1.print_iceInfo()\n",
    "ice2.print_iceInfo()\n",
    "\n",
    "del ice1\n",
    "# ice1.print_iceInfo() 에러"
   ]
  }
 ],
 "metadata": {
  "kernelspec": {
   "display_name": "Python 3",
   "language": "python",
   "name": "python3"
  },
  "language_info": {
   "codemirror_mode": {
    "name": "ipython",
    "version": 3
   },
   "file_extension": ".py",
   "mimetype": "text/x-python",
   "name": "python",
   "nbconvert_exporter": "python",
   "pygments_lexer": "ipython3",
   "version": "3.7.6"
  }
 },
 "nbformat": 4,
 "nbformat_minor": 4
}
