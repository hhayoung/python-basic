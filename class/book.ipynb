{
 "cells": [
  {
   "cell_type": "code",
   "execution_count": null,
   "metadata": {},
   "outputs": [
    {
     "name": "stdout",
     "output_type": "stream",
     "text": [
      "---------------\n",
      "1.도서 정보 입력\n",
      "2.도서 정보 출력\n",
      "3.도서 삭제\n",
      "4. 종료\n",
      "---------------\n"
     ]
    }
   ],
   "source": [
    "class Book:\n",
    "    def __init__(self, code, title, author, publisher):\n",
    "        self.code = code\n",
    "        self.title= title\n",
    "        self.author = author\n",
    "        self.publisher = publisher\n",
    "    def book_info(self):\n",
    "        print('책 코드:', self.code )\n",
    "        print('책 제목:', self.title)\n",
    "        print('저자:', self.author)\n",
    "        print('출판사:', self.publisher)\n",
    "\n",
    "def set_info():\n",
    "    code = input('책 코드:')\n",
    "    title = input('책 제목:')\n",
    "    author = input('저자:')\n",
    "    publisher = input('출판사:')\n",
    "    print()\n",
    "#     print(code, title, author, publisher)\n",
    "    book = Book(code, title, author, publisher)\n",
    "    return book\n",
    "   # class의 객체 \n",
    "    \n",
    "def print_book_info(book_list): # \n",
    "    for book in book_list:\n",
    "        book.book_info()\n",
    "    #book_list에 저장된 book_info 반복적으로 출력 \n",
    "    \n",
    "def menu_display():\n",
    "    print('---------------')\n",
    "    print('1.도서 정보 입력')\n",
    "    print('2.도서 정보 출력')\n",
    "    print('3.도서 삭제')\n",
    "    print('4. 종료')\n",
    "    print('---------------')\n",
    "\n",
    "    menu = input('메뉴 선택')\n",
    "    return int(menu)\n",
    "\n",
    "    \n",
    "def run():\n",
    "#     book_list=[]\n",
    "    \n",
    "#     book = set_info()\n",
    "#     book_list.append(book)\n",
    "    \n",
    "#     print_book_info(book_list)\n",
    "  \n",
    "    book_list=[]\n",
    "    while True: \n",
    "        menu_num = menu_display()\n",
    "        if menu_num == 1:\n",
    "            book = set_info()\n",
    "            book_list.append(book)\n",
    "        elif menu_num ==2:\n",
    "            print_book_info(book_list)\n",
    "        elif menu_num ==3:\n",
    "            pass \n",
    "        elif menu_num ==4:\n",
    "            break; \n",
    "        \n",
    "if __name__ == '__main__':\n",
    "    run()\n",
    "    "
   ]
  },
  {
   "cell_type": "code",
   "execution_count": null,
   "metadata": {},
   "outputs": [],
   "source": []
  }
 ],
 "metadata": {
  "kernelspec": {
   "display_name": "Python 3",
   "language": "python",
   "name": "python3"
  },
  "language_info": {
   "codemirror_mode": {
    "name": "ipython",
    "version": 3
   },
   "file_extension": ".py",
   "mimetype": "text/x-python",
   "name": "python",
   "nbconvert_exporter": "python",
   "pygments_lexer": "ipython3",
   "version": "3.7.6"
  }
 },
 "nbformat": 4,
 "nbformat_minor": 4
}
