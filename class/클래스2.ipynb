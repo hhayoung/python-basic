{
 "cells": [
  {
   "cell_type": "code",
   "execution_count": 6,
   "metadata": {},
   "outputs": [
    {
     "name": "stdout",
     "output_type": "stream",
     "text": [
      "Instance removed!!\n",
      "Instance removed!!\n",
      "Name :  강길동\n",
      "Name :  홍길동\n",
      "강길동\n",
      "28\n",
      "홍길동\n",
      "33\n",
      "<__main__.User object at 0x00000237FD94BA08>\n",
      "<__main__.User object at 0x00000237FD8A7508>\n"
     ]
    }
   ],
   "source": [
    "class User:\n",
    "    # 생성자(초기화)\n",
    "    def __init__(self, name, age):\n",
    "        self.name = name\n",
    "        self.age = age\n",
    "        \n",
    "    def print_info(self):\n",
    "        print('Name : ',self.name)\n",
    "#         print('Age : ',self.age)\n",
    "        \n",
    "    def __del__(self):\n",
    "        print('Instance removed!!')\n",
    "        \n",
    "user1 = User('강길동',28)\n",
    "user2 = User('홍길동',33)\n",
    "user1.print_info()\n",
    "user2.print_info()\n",
    "# 각각 속성에 접근\n",
    "print(user1.name)\n",
    "print(user1.age)\n",
    "print(user2.name)\n",
    "print(user2.age)\n",
    "#user1과 user2는 다른 객체\n",
    "print(user1)\n",
    "print(user2) # -> <__main__.User object at 0x00000237FD8A7508>  - 0x로 시작하는건 16진수"
   ]
  },
  {
   "cell_type": "markdown",
   "metadata": {},
   "source": [
    "### self의 이해\n",
    "* 클래스 내에 정의된 함수를 일반적으로 메소드(메서드,함수)라고 한다.\n",
    "* 메소드의 첫번째 인자는 항상 self가 되야 한다는 말은 엄밀히 얘기하면 틀린 말이다."
   ]
  },
  {
   "cell_type": "code",
   "execution_count": 8,
   "metadata": {},
   "outputs": [],
   "source": [
    "class Demo:\n",
    "    def method1():  # 인스턴스를 받을 인자가 없기 때문에 인스턴스를 통해서는 호출 X\n",
    "                    # 일단 받는 인자가 있어야 python이 도와줄 수 있음.\n",
    "        print('메소드1 호출')\n",
    "    def method2(self):\n",
    "        print('메소드2 호출')\n",
    "        \n",
    "# 에러 안난다는 소리는 문법적으로 틀리지 않았다는 말."
   ]
  },
  {
   "cell_type": "code",
   "execution_count": 9,
   "metadata": {},
   "outputs": [
    {
     "name": "stdout",
     "output_type": "stream",
     "text": [
      "메소드2 호출\n"
     ]
    }
   ],
   "source": [
    "demo = Demo()\n",
    "demo.method2()"
   ]
  },
  {
   "cell_type": "code",
   "execution_count": 10,
   "metadata": {},
   "outputs": [
    {
     "ename": "TypeError",
     "evalue": "method1() takes 0 positional arguments but 1 was given",
     "output_type": "error",
     "traceback": [
      "\u001b[1;31m---------------------------------------------------------------------------\u001b[0m",
      "\u001b[1;31mTypeError\u001b[0m                                 Traceback (most recent call last)",
      "\u001b[1;32m<ipython-input-10-556cd14e14c9>\u001b[0m in \u001b[0;36m<module>\u001b[1;34m\u001b[0m\n\u001b[1;32m----> 1\u001b[1;33m \u001b[0mdemo\u001b[0m\u001b[1;33m.\u001b[0m\u001b[0mmethod1\u001b[0m\u001b[1;33m(\u001b[0m\u001b[1;33m)\u001b[0m\u001b[1;33m\u001b[0m\u001b[1;33m\u001b[0m\u001b[0m\n\u001b[0m",
      "\u001b[1;31mTypeError\u001b[0m: method1() takes 0 positional arguments but 1 was given"
     ]
    }
   ],
   "source": [
    "demo.method1()  # demo 인스턴스를 전달할 수 없어서 에러"
   ]
  },
  {
   "cell_type": "code",
   "execution_count": 11,
   "metadata": {
    "scrolled": true
   },
   "outputs": [
    {
     "name": "stdout",
     "output_type": "stream",
     "text": [
      "메소드1 호출\n"
     ]
    }
   ],
   "source": [
    "Demo.method1() # 인스턴스가 아니기 때문에 호출된다. 클래스명을 통해서 호출"
   ]
  },
  {
   "cell_type": "markdown",
   "metadata": {},
   "source": [
    "### 클래스 네임스페이스\n",
    "* 네임스페이스 : 변수와 객체와의 관계를 저장하는 공간"
   ]
  },
  {
   "cell_type": "code",
   "execution_count": 12,
   "metadata": {},
   "outputs": [
    {
     "name": "stdout",
     "output_type": "stream",
     "text": [
      "['Demo', 'In', 'Out', 'User', '_', '__', '___', '__builtin__', '__builtins__', '__doc__', '__loader__', '__name__', '__package__', '__spec__', '_dh', '_i', '_i1', '_i10', '_i11', '_i12', '_i2', '_i3', '_i4', '_i5', '_i6', '_i7', '_i8', '_i9', '_ih', '_ii', '_iii', '_oh', 'demo', 'exit', 'get_ipython', 'quit', 'user1', 'user2']\n"
     ]
    }
   ],
   "source": [
    "print(dir()) # 현재 어떤 객체들이 있는지 확인할 수 있다."
   ]
  },
  {
   "cell_type": "code",
   "execution_count": 15,
   "metadata": {},
   "outputs": [
    {
     "name": "stdout",
     "output_type": "stream",
     "text": [
      "Demo :  {}\n"
     ]
    }
   ],
   "source": [
    "# 방금 만든 Demo의 네임스페이스 보자\n",
    "print('Demo : ', demo.__dict__)  # 클래스 / 인스턴스 네임스페이스 확인\n",
    "# 변수가 없어서 안 나옴"
   ]
  },
  {
   "cell_type": "code",
   "execution_count": 16,
   "metadata": {},
   "outputs": [],
   "source": [
    "class Demo2:\n",
    "    aa = '하이'"
   ]
  },
  {
   "cell_type": "code",
   "execution_count": 17,
   "metadata": {},
   "outputs": [
    {
     "name": "stdout",
     "output_type": "stream",
     "text": [
      "['Demo', 'Demo2', 'In', 'Out', 'User', '_', '__', '___', '__builtin__', '__builtins__', '__doc__', '__loader__', '__name__', '__package__', '__spec__', '_dh', '_i', '_i1', '_i10', '_i11', '_i12', '_i13', '_i14', '_i15', '_i16', '_i17', '_i2', '_i3', '_i4', '_i5', '_i6', '_i7', '_i8', '_i9', '_ih', '_ii', '_iii', '_oh', 'demo', 'exit', 'get_ipython', 'quit', 'user1', 'user2']\n"
     ]
    }
   ],
   "source": [
    "print(dir())"
   ]
  },
  {
   "cell_type": "code",
   "execution_count": 19,
   "metadata": {
    "scrolled": true
   },
   "outputs": [
    {
     "name": "stdout",
     "output_type": "stream",
     "text": [
      "demo2 :  {}\n",
      "['__class__', '__delattr__', '__dict__', '__dir__', '__doc__', '__eq__', '__format__', '__ge__', '__getattribute__', '__gt__', '__hash__', '__init__', '__init_subclass__', '__le__', '__lt__', '__module__', '__ne__', '__new__', '__reduce__', '__reduce_ex__', '__repr__', '__setattr__', '__sizeof__', '__str__', '__subclasshook__', '__weakref__', 'aa']\n"
     ]
    }
   ],
   "source": [
    "demo2 = Demo2()\n",
    "print('demo2 : ',demo2.__dict__)\n",
    "print(dir(Demo2))"
   ]
  },
  {
   "cell_type": "code",
   "execution_count": 20,
   "metadata": {},
   "outputs": [
    {
     "data": {
      "text/plain": [
       "mappingproxy({'__module__': '__main__',\n",
       "              'aa': '하이',\n",
       "              '__dict__': <attribute '__dict__' of 'Demo2' objects>,\n",
       "              '__weakref__': <attribute '__weakref__' of 'Demo2' objects>,\n",
       "              '__doc__': None})"
      ]
     },
     "execution_count": 20,
     "metadata": {},
     "output_type": "execute_result"
    }
   ],
   "source": [
    "Demo2.__dict__"
   ]
  },
  {
   "cell_type": "code",
   "execution_count": 21,
   "metadata": {},
   "outputs": [
    {
     "data": {
      "text/plain": [
       "{}"
      ]
     },
     "execution_count": 21,
     "metadata": {},
     "output_type": "execute_result"
    }
   ],
   "source": [
    "demo2.__dict__  # 초기화를 안해줘서"
   ]
  },
  {
   "cell_type": "code",
   "execution_count": 22,
   "metadata": {},
   "outputs": [
    {
     "data": {
      "text/plain": [
       "'하이'"
      ]
     },
     "execution_count": 22,
     "metadata": {},
     "output_type": "execute_result"
    }
   ],
   "source": [
    "Demo2.aa        # aa는 Demo2 클래스 속성인거지 인스턴스 속성이 아님"
   ]
  },
  {
   "cell_type": "code",
   "execution_count": 23,
   "metadata": {},
   "outputs": [],
   "source": [
    "demo22 = Demo2()   # 객체를 생성하면 네임스페이스 공간이 생긴다."
   ]
  },
  {
   "cell_type": "code",
   "execution_count": 29,
   "metadata": {},
   "outputs": [],
   "source": [
    "# 다른 예제\n",
    "class Book:\n",
    "    name = 'python'\n",
    "    \n",
    "    def set_info(self, name):\n",
    "        self.name = name"
   ]
  },
  {
   "cell_type": "code",
   "execution_count": 30,
   "metadata": {},
   "outputs": [
    {
     "data": {
      "text/plain": [
       "mappingproxy({'__module__': '__main__',\n",
       "              'name': 'python',\n",
       "              'set_info': <function __main__.Book.set_info(self, name)>,\n",
       "              '__dict__': <attribute '__dict__' of 'Book' objects>,\n",
       "              '__weakref__': <attribute '__weakref__' of 'Book' objects>,\n",
       "              '__doc__': None})"
      ]
     },
     "execution_count": 30,
     "metadata": {},
     "output_type": "execute_result"
    }
   ],
   "source": [
    "# __dict__ : 네임스페이스. \n",
    "# 그 클래스에 뭐가 있는지 확인해보고싶을때(속성, 함수 등등 정보 싹 다 나온다)\n",
    "Book.__dict__             # __x__ : 파이썬에서 제공해주는 특수 마법 함수"
   ]
  },
  {
   "cell_type": "code",
   "execution_count": 37,
   "metadata": {},
   "outputs": [
    {
     "name": "stdout",
     "output_type": "stream",
     "text": [
      "book1 :  {'name': 'java'}\n",
      "book2 :  {}\n"
     ]
    }
   ],
   "source": [
    "book1 = Book()\n",
    "book1.set_info('java')\n",
    "book2 = Book()\n",
    "print('book1 : ',book1.__dict__)    # 설정해줬으니 출력된다.\n",
    "print('book2 : ',book2.__dict__)"
   ]
  },
  {
   "cell_type": "code",
   "execution_count": 33,
   "metadata": {},
   "outputs": [
    {
     "data": {
      "text/plain": [
       "'python'"
      ]
     },
     "execution_count": 33,
     "metadata": {},
     "output_type": "execute_result"
    }
   ],
   "source": [
    "Book.name"
   ]
  },
  {
   "cell_type": "code",
   "execution_count": 34,
   "metadata": {},
   "outputs": [
    {
     "data": {
      "text/plain": [
       "'java'"
      ]
     },
     "execution_count": 34,
     "metadata": {},
     "output_type": "execute_result"
    }
   ],
   "source": [
    "book1.name"
   ]
  },
  {
   "cell_type": "code",
   "execution_count": 35,
   "metadata": {},
   "outputs": [
    {
     "data": {
      "text/plain": [
       "'python'"
      ]
     },
     "execution_count": 35,
     "metadata": {},
     "output_type": "execute_result"
    }
   ],
   "source": [
    "book2.name   # 아무것도 없었는데 왜 나오지? 이 경우에는 부모꺼를 쓴다."
   ]
  },
  {
   "cell_type": "markdown",
   "metadata": {},
   "source": [
    "### 클래스 변수, 인스턴스 변수"
   ]
  },
  {
   "cell_type": "code",
   "execution_count": 75,
   "metadata": {},
   "outputs": [],
   "source": [
    "class Employee:\n",
    "    employeeCnt = 0    # 객체가 생성되기 전에 미리 정의된 클래스 변수(일반적으로 공유목적)\n",
    "    owner_name = '미정'\n",
    "    \n",
    "    def __init__(self, name, age):\n",
    "        self.name = name   # 인스턴스 변수(self가 붙으면)\n",
    "        self.age = age\n",
    "        # 클래스 변수의 접근법 : 클래스명.클래스변수명\n",
    "        Employee.employeeCnt += 1\n",
    "        \n",
    "    def empInfo(self):\n",
    "        print('Name : ',self.name, ', Age : ',self.age)\n",
    "        \n",
    "    def empCount(self):\n",
    "        print('전체 종업원의 수는 %d' % Employee.employeeCnt)\n",
    "        \n",
    "    def printOwner(self):\n",
    "        print('사장님 이름은 ',Employee.owner_name)"
   ]
  },
  {
   "cell_type": "code",
   "execution_count": 55,
   "metadata": {},
   "outputs": [
    {
     "data": {
      "text/plain": [
       "mappingproxy({'__module__': '__main__',\n",
       "              'employeeCnt': <function __main__.Employee.employeeCnt(self)>,\n",
       "              '__init__': <function __main__.Employee.__init__(self, name, age)>,\n",
       "              'empInfo': <function __main__.Employee.empInfo(self)>,\n",
       "              '__dict__': <attribute '__dict__' of 'Employee' objects>,\n",
       "              '__weakref__': <attribute '__weakref__' of 'Employee' objects>,\n",
       "              '__doc__': None})"
      ]
     },
     "execution_count": 55,
     "metadata": {},
     "output_type": "execute_result"
    }
   ],
   "source": [
    "Employee.__dict__   # Employee 클래스의 네임스페이스"
   ]
  },
  {
   "cell_type": "code",
   "execution_count": 70,
   "metadata": {},
   "outputs": [],
   "source": [
    "employee1 = Employee('홍길동',28)\n",
    "employee2 = Employee('강길동',30)"
   ]
  },
  {
   "cell_type": "code",
   "execution_count": 50,
   "metadata": {},
   "outputs": [
    {
     "name": "stdout",
     "output_type": "stream",
     "text": [
      "{'name': '홍길동', 'age': 28}\n"
     ]
    }
   ],
   "source": [
    "# 생성했으니 네임스페이스 확인해보기\n",
    "print(employee1.__dict__)"
   ]
  },
  {
   "cell_type": "code",
   "execution_count": 71,
   "metadata": {},
   "outputs": [],
   "source": [
    "employee3 = Employee('임꺽정', 40)"
   ]
  },
  {
   "cell_type": "code",
   "execution_count": 68,
   "metadata": {
    "scrolled": true
   },
   "outputs": [
    {
     "name": "stdout",
     "output_type": "stream",
     "text": [
      "전체 종업원의 수는 3\n"
     ]
    }
   ],
   "source": [
    "employee1.empCount()\n",
    "# 인스턴스(employee1)의 네임스페이스에는 employeeCnt 변수가 없는데 왜 실행이 되느냐? \n",
    "#  없으면 부모(Emplyee 클래스)의 네임스페이스를 갖다씀\n",
    "# employeeCnt 는 클래스 네임스페이스에 존재\n",
    "# 즉, 자신의 네임스페이스에 없으면, 클래스 네임스페이스에서 가져옴(공유됨)"
   ]
  },
  {
   "cell_type": "code",
   "execution_count": 77,
   "metadata": {},
   "outputs": [
    {
     "name": "stdout",
     "output_type": "stream",
     "text": [
      "사장님 이름은  미정\n",
      "사장님 이름은  미정\n"
     ]
    }
   ],
   "source": [
    "employee1.printOwner()\n",
    "employee2.printOwner()"
   ]
  },
  {
   "cell_type": "code",
   "execution_count": 188,
   "metadata": {},
   "outputs": [],
   "source": [
    "# [문제] 은행의 계좌 개설시 또는 계좌 해지시 계좌의 갯수를 파악할 수 있는 클래스를 정의하시오.\n",
    "# 클래스명 : Account\n",
    "# e.g> 속성은 계좌의 이름만 설정 : 홍길동 계좌\n",
    "\n",
    "class Account:\n",
    "    accountCnt = 0\n",
    "    def __init__(self, name):\n",
    "        self.name = name\n",
    "        Account.accountCnt += 1\n",
    "        \n",
    "    def __del__(self):\n",
    "        Account.accountCnt -= 1\n",
    "        print('계좌 {} 이(가) 해지되었습니다.'.format(self.name))\n",
    "    \n",
    "    def accountCount(self):\n",
    "        print('현재 계좌 개수는 : ',Account.accountCnt,'개 입니다.')"
   ]
  },
  {
   "cell_type": "code",
   "execution_count": 189,
   "metadata": {},
   "outputs": [],
   "source": [
    "account1 = Account('홍길동')\n",
    "account2 = Account('강길동')"
   ]
  },
  {
   "cell_type": "code",
   "execution_count": 190,
   "metadata": {},
   "outputs": [
    {
     "name": "stdout",
     "output_type": "stream",
     "text": [
      "현재 계좌 개수는 :  2 개 입니다.\n"
     ]
    }
   ],
   "source": [
    "account1.accountCount()"
   ]
  },
  {
   "cell_type": "code",
   "execution_count": 191,
   "metadata": {
    "scrolled": true
   },
   "outputs": [
    {
     "name": "stdout",
     "output_type": "stream",
     "text": [
      "계좌 강길동 이(가) 해지되었습니다.\n"
     ]
    }
   ],
   "source": [
    "account2.__del__()    # 이러면 함수를 부른거지 account2가 삭제되지 않음! 카운트는 -1 되어버림..."
   ]
  },
  {
   "cell_type": "code",
   "execution_count": 192,
   "metadata": {},
   "outputs": [
    {
     "name": "stdout",
     "output_type": "stream",
     "text": [
      "계좌 강길동 이(가) 해지되었습니다.\n"
     ]
    }
   ],
   "source": [
    "del account2"
   ]
  },
  {
   "cell_type": "code",
   "execution_count": 193,
   "metadata": {},
   "outputs": [
    {
     "ename": "NameError",
     "evalue": "name 'account2' is not defined",
     "output_type": "error",
     "traceback": [
      "\u001b[1;31m---------------------------------------------------------------------------\u001b[0m",
      "\u001b[1;31mNameError\u001b[0m                                 Traceback (most recent call last)",
      "\u001b[1;32m<ipython-input-193-089709501300>\u001b[0m in \u001b[0;36m<module>\u001b[1;34m\u001b[0m\n\u001b[1;32m----> 1\u001b[1;33m \u001b[0maccount2\u001b[0m\u001b[1;33m.\u001b[0m\u001b[0mname\u001b[0m\u001b[1;33m\u001b[0m\u001b[1;33m\u001b[0m\u001b[0m\n\u001b[0m",
      "\u001b[1;31mNameError\u001b[0m: name 'account2' is not defined"
     ]
    }
   ],
   "source": [
    "account2.name"
   ]
  },
  {
   "cell_type": "code",
   "execution_count": 194,
   "metadata": {},
   "outputs": [
    {
     "name": "stdout",
     "output_type": "stream",
     "text": [
      "현재 계좌 개수는 :  0 개 입니다.\n"
     ]
    }
   ],
   "source": [
    "account1.accountCount()"
   ]
  },
  {
   "cell_type": "code",
   "execution_count": 147,
   "metadata": {},
   "outputs": [
    {
     "name": "stdout",
     "output_type": "stream",
     "text": [
      "계좌개설시 카운트 추가: 1\n",
      "계좌개설시 카운트 추가: 2\n",
      "현재 계좌 수: 1\n"
     ]
    }
   ],
   "source": [
    "# 교수님꺼\n",
    "class Account:\n",
    "    cnt_accounts = 0\n",
    "    def __init__(self, name):\n",
    "        self.name = name\n",
    "        Account.cnt_accounts += 1\n",
    "    def __del__(self):\n",
    "        Account.cnt_accounts -= 1\n",
    "    \n",
    "kim = Account('김길동')\n",
    "print('계좌개설시 카운트 추가:',kim.cnt_accounts)\n",
    "lee = Account('이길서')\n",
    "print('계좌개설시 카운트 추가:',lee.cnt_accounts)\n",
    "del lee  # 계좌 해지\n",
    "print('현재 계좌 수:',Account.cnt_accounts)"
   ]
  }
 ],
 "metadata": {
  "kernelspec": {
   "display_name": "Python 3",
   "language": "python",
   "name": "python3"
  },
  "language_info": {
   "codemirror_mode": {
    "name": "ipython",
    "version": 3
   },
   "file_extension": ".py",
   "mimetype": "text/x-python",
   "name": "python",
   "nbconvert_exporter": "python",
   "pygments_lexer": "ipython3",
   "version": "3.7.6"
  }
 },
 "nbformat": 4,
 "nbformat_minor": 4
}
