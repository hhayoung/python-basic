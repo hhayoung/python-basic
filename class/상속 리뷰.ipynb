{
 "cells": [
  {
   "cell_type": "code",
   "execution_count": 16,
   "metadata": {},
   "outputs": [],
   "source": [
    "# [문제] Person 클래스를 정의하시오.\n",
    "# 속성 : name, age\n",
    "# 메소드 : eat(\"홍길동은 치킨을 먹습니다.\"), \n",
    "#         sleep(\"홍길동은 10분 동안 잠을 잡니다\"), \n",
    "#         work(\"홍길동은 120분 동안 일을 합니다.\")\n",
    "\n",
    "# 위에서 정의한 Person 클래스를 상속받는\n",
    "# 객체(Student, Employee)를 만들어보세요."
   ]
  },
  {
   "cell_type": "markdown",
   "metadata": {},
   "source": [
    "### 상속을 의미적으로 is-a관계\n",
    "* Student is a Person\n",
    "* Employee is a Person"
   ]
  },
  {
   "cell_type": "code",
   "execution_count": 42,
   "metadata": {},
   "outputs": [],
   "source": [
    "class Person:\n",
    "    def __init__(self, name, age):\n",
    "        self.name = name\n",
    "        self.age = age\n",
    "        \n",
    "    def eat(self,food):\n",
    "        print(self.name,'은 ',food,'을(를) 먹습니다')\n",
    "    \n",
    "    def sleep(self,time):\n",
    "        print('{}은 {}분 동안 잠을 잡니다'.format(self.name, time))\n",
    "        \n",
    "    def work(self, time):\n",
    "        print(f'{self.name}은 {time}분 동안 일을 합니다')\n",
    "        \n",
    "class Student(Person):\n",
    "    # Person이랑 다를게 없기 때문에 밑에 코드도 필요없음\n",
    "#     def __init__(self, name, age):\n",
    "#         super().__init__(name, age)\n",
    "    pass\n",
    "        \n",
    "class Employee(Person):\n",
    "    pass\n",
    "#     def __init__(self, name, age):\n",
    "#         super().__init__(name, age)"
   ]
  },
  {
   "cell_type": "code",
   "execution_count": 18,
   "metadata": {},
   "outputs": [
    {
     "name": "stdout",
     "output_type": "stream",
     "text": [
      "홍길동 은  햄버거 을(를) 먹습니다\n",
      "홍길동은 50분 동안 잠을 잡니다\n",
      "홍길동은 120분 동안 일을 합니다\n"
     ]
    }
   ],
   "source": [
    "s1 = Student('홍길동',20)\n",
    "\n",
    "s1.eat('햄버거')\n",
    "s1.sleep(50)\n",
    "s1.work(120)"
   ]
  },
  {
   "cell_type": "code",
   "execution_count": 19,
   "metadata": {
    "scrolled": false
   },
   "outputs": [
    {
     "name": "stdout",
     "output_type": "stream",
     "text": [
      "김길동 은  국밥 을(를) 먹습니다\n",
      "김길동은 20분 동안 잠을 잡니다\n",
      "김길동은 300분 동안 일을 합니다\n"
     ]
    }
   ],
   "source": [
    "e1 = Employee('김길동',40)\n",
    "\n",
    "e1.eat('국밥')\n",
    "e1.sleep(20)\n",
    "e1.work(300)"
   ]
  },
  {
   "cell_type": "markdown",
   "metadata": {},
   "source": [
    "### 메소드(method) 오버라이드(Override)\n",
    "* 부모클래스의 method를 재정의(override)"
   ]
  },
  {
   "cell_type": "code",
   "execution_count": 25,
   "metadata": {},
   "outputs": [],
   "source": [
    "# 학생은 공부를 합니다.\n",
    "# Employee 사무를 봅니다.\n",
    "# work()를 호출 시 이렇게 하고 싶으면?\n",
    "\n",
    "class Student(Person):\n",
    "    def work(self):\n",
    "        print(f'{self.name}은 공부를 합니다.')\n",
    "        \n",
    "class Employee(Person):\n",
    "    def work(self):\n",
    "        print(f'{self.name}은 사무를 봅니다.')"
   ]
  },
  {
   "cell_type": "code",
   "execution_count": 26,
   "metadata": {
    "scrolled": true
   },
   "outputs": [
    {
     "name": "stdout",
     "output_type": "stream",
     "text": [
      "홍길서 은  치킨 을(를) 먹습니다\n",
      "홍길서은 공부를 합니다.\n",
      "홍길남은 사무를 봅니다.\n"
     ]
    }
   ],
   "source": [
    "s2 = Student('홍길서',20)\n",
    "s2.eat('치킨')\n",
    "s2.work()\n",
    "\n",
    "e2 = Employee('홍길남',40)\n",
    "e2.work()"
   ]
  },
  {
   "cell_type": "markdown",
   "metadata": {},
   "source": [
    "### 놓쳤당 super() 어쩌구저쩌구"
   ]
  },
  {
   "cell_type": "code",
   "execution_count": 27,
   "metadata": {},
   "outputs": [],
   "source": [
    "# Student 가 아르바이트를 할 경우\n",
    "# 일도 하고, 공부도 한다.\n",
    "# work() 호출 시 \"홍길동은 30분동안 일을 합니다.\"\n",
    "#               \"그리고 30분동안 공부도 합니다.\" "
   ]
  },
  {
   "cell_type": "code",
   "execution_count": 36,
   "metadata": {},
   "outputs": [],
   "source": [
    "class Student(Person):\n",
    "    def work(self,workTime, studyTime):\n",
    "        print(f'{self.name}은 {workTime}분동안 일을 합니다. 그리고 {studyTime}분동안 공부도 합니다.')"
   ]
  },
  {
   "cell_type": "code",
   "execution_count": 37,
   "metadata": {
    "scrolled": false
   },
   "outputs": [
    {
     "name": "stdout",
     "output_type": "stream",
     "text": [
      "홍길동은 30분동안 일을 합니다. 그리고 30분동안 공부도 합니다.\n"
     ]
    }
   ],
   "source": [
    "s3 = Student('홍길동',24)\n",
    "s3.work(30,30)"
   ]
  },
  {
   "cell_type": "code",
   "execution_count": 44,
   "metadata": {
    "scrolled": true
   },
   "outputs": [
    {
     "name": "stdout",
     "output_type": "stream",
     "text": [
      "강길동은 30분 동안 일을 합니다\n",
      "그리고 30분 동안 공부도 합니다.\n"
     ]
    }
   ],
   "source": [
    "#교수님코드\n",
    "class Student(Person):\n",
    "    def work(self, time):\n",
    "        super().work(time)\n",
    "        print('그리고 {}분 동안 공부도 합니다.'.format(time))\n",
    "        \n",
    "kang = Student('강길동',20)\n",
    "kang.work(30)"
   ]
  },
  {
   "cell_type": "code",
   "execution_count": 45,
   "metadata": {
    "scrolled": true
   },
   "outputs": [
    {
     "data": {
      "text/plain": [
       "201234"
      ]
     },
     "execution_count": 45,
     "metadata": {},
     "output_type": "execute_result"
    }
   ],
   "source": [
    "# 학생의 경우 이름, 나이, 학번이 필요함\n",
    "# 학번(stu_num)을 포함한 Student 객체를 생성하시오.\n",
    "\n",
    "class Student(Person):\n",
    "    def __init__(self, name, age, stu_num):\n",
    "        super().__init__(name, age)\n",
    "        self.stu_num = stu_num\n",
    "        \n",
    "kim = Student('김말똥',21,201234)\n",
    "kim.stu_num"
   ]
  },
  {
   "cell_type": "code",
   "execution_count": 57,
   "metadata": {
    "scrolled": true
   },
   "outputs": [
    {
     "name": "stdout",
     "output_type": "stream",
     "text": [
      "samsung\n",
      "black\n",
      "500000\n"
     ]
    }
   ],
   "source": [
    "class Phone:\n",
    "    \"\"\" Phone Class \"\"\"\n",
    "    def __init__(self, maker, details):\n",
    "        self.maker = maker\n",
    "        self.details = details\n",
    "        \n",
    "    def phone_info(self):\n",
    "        return f'{self.maker} : {self.details}'\n",
    "    \n",
    "# 스마트폰 객체를 만드세요.. maker는 원하는 걸로\n",
    "# details 는 color, price\n",
    "# 핸드폰의 color와 price를 출력하세요.\n",
    "\n",
    "class Galaxy10Plus(Phone):\n",
    "    pass\n",
    "\n",
    "# 딕셔너리를 사용하면 여러 개 넣어줄 수 있다.\n",
    "phone1 = Galaxy10Plus('samsung',{'color':'black', 'price':500000})\n",
    "phone1.phone_info()\n",
    "\n",
    "# maker 출력\n",
    "print(phone1.maker)\n",
    "# color만 또는 price만 출력\n",
    "print(phone1.details['color'])\n",
    "print(phone1.details['price'])"
   ]
  },
  {
   "cell_type": "code",
   "execution_count": 1,
   "metadata": {},
   "outputs": [],
   "source": [
    "# category,상품코드, 상품명, 가격, 상세설명\n",
    "class Product:\n",
    "    \n",
    "    def __init__(self, category, code, p_name, price, description):\n",
    "        self.category = category\n",
    "        self.code = code\n",
    "        self.p_name = p_name\n",
    "        self.price = price\n",
    "        self.description = description\n",
    "        \n",
    "        \n",
    "    def print_des(self):\n",
    "        return f'{self.p_name} 은(는) {self.description}'\n"
   ]
  },
  {
   "cell_type": "code",
   "execution_count": 2,
   "metadata": {},
   "outputs": [
    {
     "name": "stdout",
     "output_type": "stream",
     "text": [
      "삼성smartTV\n",
      "1,000,000\n",
      "<class 'str'>\n"
     ]
    },
    {
     "data": {
      "text/plain": [
       "'삼성smartTV 은(는) 넷플릭스 볼 수 있는 tv입니다.'"
      ]
     },
     "execution_count": 2,
     "metadata": {},
     "output_type": "execute_result"
    }
   ],
   "source": [
    "tv = Product('가전','tv100','삼성smartTV',1000000,'넷플릭스 볼 수 있는 tv입니다.')\n",
    "print(tv.p_name)\n",
    "print(format(tv.price,','))\n",
    "print(type(format(tv.price,',')))\n",
    "tv.print_des()"
   ]
  },
  {
   "cell_type": "code",
   "execution_count": 3,
   "metadata": {},
   "outputs": [
    {
     "name": "stdout",
     "output_type": "stream",
     "text": [
      "삼성냉장고\n",
      "1200000\n"
     ]
    },
    {
     "data": {
      "text/plain": [
       "'삼성냉장고 은(는) 디자인이 이쁜 냉장고입니다.'"
      ]
     },
     "execution_count": 3,
     "metadata": {},
     "output_type": "execute_result"
    }
   ],
   "source": [
    "refrigerator = Product('가전','re200','삼성냉장고',1200000,'디자인이 이쁜 냉장고입니다.')\n",
    "print(refrigerator.p_name)\n",
    "print(refrigerator.price)\n",
    "refrigerator.print_des()"
   ]
  },
  {
   "cell_type": "code",
   "execution_count": 4,
   "metadata": {},
   "outputs": [],
   "source": [
    "# 객체 값들을 리스트로 저장해보자.\n",
    "prod_list = []\n",
    "prod_list.append(tv)"
   ]
  },
  {
   "cell_type": "code",
   "execution_count": 5,
   "metadata": {},
   "outputs": [
    {
     "name": "stdout",
     "output_type": "stream",
     "text": [
      "[<__main__.Product object at 0x000002352DAB2848>]\n",
      "\n",
      "1\n",
      "삼성smartTV 은(는) 넷플릭스 볼 수 있는 tv입니다.\n",
      "삼성smartTV\n"
     ]
    }
   ],
   "source": [
    "print(prod_list)\n",
    "print()\n",
    "print(len(prod_list))\n",
    "print(prod_list[0].print_des())\n",
    "print(prod_list[0].p_name)"
   ]
  },
  {
   "cell_type": "code",
   "execution_count": 6,
   "metadata": {},
   "outputs": [],
   "source": [
    "class NewProduct(Product):\n",
    "    def __init__(self, category, code, p_name, price, description,menufacturer):\n",
    "        super().__init__(category, code, p_name, price, description)\n",
    "        self.menufacturer = menufacturer\n",
    "    "
   ]
  },
  {
   "cell_type": "code",
   "execution_count": 7,
   "metadata": {},
   "outputs": [
    {
     "name": "stdout",
     "output_type": "stream",
     "text": [
      "삼성\n"
     ]
    }
   ],
   "source": [
    "newp = NewProduct('가전','p200','에어컨',1200000,'시원함','삼성')\n",
    "print(newp.menufacturer)"
   ]
  },
  {
   "cell_type": "code",
   "execution_count": 8,
   "metadata": {},
   "outputs": [],
   "source": [
    "class Parent:\n",
    "    hobby = '야구'\n",
    "    number = '010-1234-5678'\n",
    "    \n",
    "    def __init__(self, name, age, addr):\n",
    "        self.name = name\n",
    "        self.age = age\n",
    "        self.addr = addr\n",
    "    def info(self):\n",
    "        print(f'이름은 {self.name}, 나이는 {self.age}, 주소는 {self.addr}')"
   ]
  },
  {
   "cell_type": "code",
   "execution_count": 9,
   "metadata": {},
   "outputs": [],
   "source": [
    "p = Parent('홍길동','40','인천')"
   ]
  },
  {
   "cell_type": "code",
   "execution_count": 10,
   "metadata": {},
   "outputs": [
    {
     "name": "stdout",
     "output_type": "stream",
     "text": [
      "이름은 홍길동, 나이는 40, 주소는 인천\n"
     ]
    }
   ],
   "source": [
    "p.info()"
   ]
  },
  {
   "cell_type": "code",
   "execution_count": 11,
   "metadata": {},
   "outputs": [
    {
     "data": {
      "text/plain": [
       "'야구'"
      ]
     },
     "execution_count": 11,
     "metadata": {},
     "output_type": "execute_result"
    }
   ],
   "source": [
    "p.hobby"
   ]
  },
  {
   "cell_type": "code",
   "execution_count": 12,
   "metadata": {},
   "outputs": [],
   "source": [
    "class Child(Parent):\n",
    "    def __init__(self, name, age, addr, hobby):\n",
    "        super().__init__(name, age, addr)\n",
    "        self.hobby = hobby\n",
    "        "
   ]
  },
  {
   "cell_type": "code",
   "execution_count": 13,
   "metadata": {},
   "outputs": [
    {
     "name": "stdout",
     "output_type": "stream",
     "text": [
      "이름은 자식, 나이는 23, 주소는 인천\n"
     ]
    }
   ],
   "source": [
    "c = Child('자식','23','인천','탁구')\n",
    "c.info()"
   ]
  },
  {
   "cell_type": "code",
   "execution_count": 14,
   "metadata": {},
   "outputs": [
    {
     "data": {
      "text/plain": [
       "'탁구'"
      ]
     },
     "execution_count": 14,
     "metadata": {},
     "output_type": "execute_result"
    }
   ],
   "source": [
    "c.hobby"
   ]
  },
  {
   "cell_type": "code",
   "execution_count": 15,
   "metadata": {},
   "outputs": [
    {
     "data": {
      "text/plain": [
       "'010-1234-5678'"
      ]
     },
     "execution_count": 15,
     "metadata": {},
     "output_type": "execute_result"
    }
   ],
   "source": [
    "c.number"
   ]
  },
  {
   "cell_type": "code",
   "execution_count": null,
   "metadata": {},
   "outputs": [],
   "source": []
  },
  {
   "cell_type": "code",
   "execution_count": null,
   "metadata": {},
   "outputs": [],
   "source": []
  },
  {
   "cell_type": "code",
   "execution_count": null,
   "metadata": {},
   "outputs": [],
   "source": []
  },
  {
   "cell_type": "code",
   "execution_count": null,
   "metadata": {},
   "outputs": [],
   "source": []
  },
  {
   "cell_type": "code",
   "execution_count": null,
   "metadata": {},
   "outputs": [],
   "source": []
  }
 ],
 "metadata": {
  "kernelspec": {
   "display_name": "Python 3",
   "language": "python",
   "name": "python3"
  },
  "language_info": {
   "codemirror_mode": {
    "name": "ipython",
    "version": 3
   },
   "file_extension": ".py",
   "mimetype": "text/x-python",
   "name": "python",
   "nbconvert_exporter": "python",
   "pygments_lexer": "ipython3",
   "version": "3.7.6"
  }
 },
 "nbformat": 4,
 "nbformat_minor": 4
}
