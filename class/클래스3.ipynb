{
 "cells": [
  {
   "cell_type": "code",
   "execution_count": 4,
   "metadata": {},
   "outputs": [],
   "source": [
    "class Person:\n",
    "    def __init__(self):\n",
    "        print(self, 'is generated')\n",
    "        self.name = '손흥민'\n",
    "        self.age = 28"
   ]
  },
  {
   "cell_type": "code",
   "execution_count": 5,
   "metadata": {},
   "outputs": [
    {
     "name": "stdout",
     "output_type": "stream",
     "text": [
      "<__main__.Person object at 0x000002614196D548> is generated\n",
      "<__main__.Person object at 0x000002614196D548>\n",
      "손흥민 28\n"
     ]
    }
   ],
   "source": [
    "p1 = Person()\n",
    "print(p1)\n",
    "print(p1.name, p1.age)"
   ]
  },
  {
   "cell_type": "code",
   "execution_count": 6,
   "metadata": {},
   "outputs": [
    {
     "name": "stdout",
     "output_type": "stream",
     "text": [
      "Bob 30\n",
      "John 20\n",
      "John 10\n"
     ]
    }
   ],
   "source": [
    "class Person2:\n",
    "    def __init__(self, name, age=10):  # 초기값 줄 수 있다\n",
    "        self.name = name\n",
    "        self.age = age\n",
    "        \n",
    "p1 = Person2('Bob',30)\n",
    "p2 = Person2('John',20)\n",
    "p3 = Person2('John')    # age값 안넣어주면 10으로\n",
    "\n",
    "print(p1.name, p1.age)\n",
    "print(p2.name, p2.age)\n",
    "print(p3.name, p3.age)"
   ]
  },
  {
   "cell_type": "code",
   "execution_count": 7,
   "metadata": {},
   "outputs": [
    {
     "name": "stdout",
     "output_type": "stream",
     "text": [
      "<__main__.Person3 object at 0x0000026141974C08>\n",
      "john 은 잠을 잡니다....\n"
     ]
    }
   ],
   "source": [
    "class Person3:\n",
    "    def __init__(self, name, age):\n",
    "        self.name = name\n",
    "        self.age = age\n",
    "        \n",
    "    def sleep(self):\n",
    "        print(self.name,'은 잠을 잡니다....')\n",
    "        \n",
    "person1 = Person3('john',20)\n",
    "person2 = Person3('Bob',30)\n",
    "\n",
    "print(person1)\n",
    "person1.sleep()"
   ]
  },
  {
   "cell_type": "markdown",
   "metadata": {},
   "source": [
    "### method 정의\n",
    "* 멤버 함수라고도 하며, 해당 클래스의 object에서만 호출가능\n",
    "* 객체명.메소드명 형태로 호출됨"
   ]
  },
  {
   "cell_type": "code",
   "execution_count": 10,
   "metadata": {},
   "outputs": [
    {
     "name": "stdout",
     "output_type": "stream",
     "text": [
      "현재값 : 0\n",
      "현재값 : 3\n",
      "현재값 : 0\n"
     ]
    }
   ],
   "source": [
    "# 숫자의 증가\n",
    "class Counter:\n",
    "    def __init__(self):\n",
    "        self.num = 0\n",
    "        \n",
    "    def increment(self):\n",
    "        self.num += 1\n",
    "    \n",
    "    def reset(self):\n",
    "        self.num = 0\n",
    "        \n",
    "    def print_value(self):\n",
    "        print('현재값 :',self.num)\n",
    "\n",
    "c1 = Counter()\n",
    "# 메소드 호출\n",
    "c1.print_value()\n",
    "c1.increment()\n",
    "c1.increment()\n",
    "c1.increment()\n",
    "c1.print_value()\n",
    "c1.reset()\n",
    "c1.print_value()"
   ]
  }
 ],
 "metadata": {
  "kernelspec": {
   "display_name": "Python 3",
   "language": "python",
   "name": "python3"
  },
  "language_info": {
   "codemirror_mode": {
    "name": "ipython",
    "version": 3
   },
   "file_extension": ".py",
   "mimetype": "text/x-python",
   "name": "python",
   "nbconvert_exporter": "python",
   "pygments_lexer": "ipython3",
   "version": "3.7.6"
  }
 },
 "nbformat": 4,
 "nbformat_minor": 4
}
