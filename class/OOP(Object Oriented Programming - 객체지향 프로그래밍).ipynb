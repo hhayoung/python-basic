{
 "cells": [
  {
   "cell_type": "markdown",
   "metadata": {},
   "source": [
    "### OOP\n",
    "* 절차지향프로그래밍(구조적 프로그래밍)\n",
    "    e,g) C 프로그래밍\n",
    "    - 일을 처리하는 순서와 과정을 프로그래밍으로 구현\n",
    "    - Procedure, Process를 중시함 (컴퓨터중심)\n",
    "    - 순서, 과정이 달라지면 새로운 작업 모델이 필요하게 됨\n",
    "    - 재사용성이 불가능(힘들다)\n",
    "   반면...\n",
    "    - OOP(객체지향 프로그래밍)는 프로세스 중심이 아닌 객체 중심으로 프로그래밍 하는 것 (인간중심)\n",
    "    - 재사용성이 뛰어남, 모듈화, 확장성...\n",
    "* 객체지향 프로그래밍\n",
    "    - 인간의 현실세계를 프로그램에 반영한 것(사이버화)\n",
    "    - 즉, 현실세계에 존재하는 객체(object-물체,사물,물건)를 프로그램에 반영한 것\n",
    "        - 1) object : 물건, 물체를 의미(유무형의 물체 모두 의미)\n",
    "        - e.g) 자전거, 책상, 집, 정치, 윤리, 사회, 대기, ...\n",
    "        - 2) 이러한 객체의 특징은 속성(attribute)과 행위(bahavior)를 갖는다.\n",
    "        - ... 따라서, 프로그램에 객체를 반영할 때는 먼저 속성과 행위를 뽑아내는 과정이 필요하다.\n",
    "        - 이를 객체 모델링(추상화)이라 한다.\n",
    "* OOP의 주요 특징\n",
    "    1) 추상화 : Abstraction\n",
    "        - 어떤 물체의 특징을 부각시켜 표현하고, 나머지 부분은 과감하게 생략하는 것 ---> 프로그래밍에 접목\n",
    "    2) 은닉화 : Encapsulation(캡슐화)\n",
    "        - Data를 캡슐하하되 그 Data에 접근할 때 메소드로 접근 하도록 하는 것\n",
    "    3) 다형성 : Polymorphism\n",
    "        - 오버라이딩(재정의, overwirte), 오버로딩\n",
    "    4) 상속성 : Inheritance\n",
    "        - 기존 클래스에 작은 기능이나 특성을 추가하여 새로운 클래스로 만드는 것을 의미"
   ]
  },
  {
   "cell_type": "code",
   "execution_count": 21,
   "metadata": {},
   "outputs": [],
   "source": [
    "# House를 추상화 해보세요\n",
    "# 속성 : 방 수, 주인이름, 주소\n",
    "# 메소드 : 어느 위치에 있는지 출력 \n",
    "\n",
    "class House(object):  # object가 생략되어 있는거\n",
    "    # 생성자 : 초기화; 객체 생성시 자동으로 호출\n",
    "    def __init__(self, rooms, owner_name, addr):\n",
    "        self.rooms = rooms\n",
    "        self.owner_name = owner_name\n",
    "        self.addr = addr\n",
    "    \n",
    "    def existAt(self):\n",
    "        # f스트링이 사용되지 않는 곳도 있으니까 format 방법도 잘 사용할 줄 알아야 한다.\n",
    "        print('집은 {}에 위치합니다..'.format(self.addr))\n",
    "        print(f'집은 {self.addr}에 위치합니다..')  "
   ]
  },
  {
   "cell_type": "code",
   "execution_count": 19,
   "metadata": {},
   "outputs": [],
   "source": [
    "home = House(4,'홍길동','200번지')"
   ]
  },
  {
   "cell_type": "code",
   "execution_count": 22,
   "metadata": {
    "scrolled": true
   },
   "outputs": [
    {
     "name": "stdout",
     "output_type": "stream",
     "text": [
      "집은 200번지 에 위치합니다..\n",
      "집은 200번지에 위치합니다..\n"
     ]
    }
   ],
   "source": [
    "home.existAt()"
   ]
  }
 ],
 "metadata": {
  "kernelspec": {
   "display_name": "Python 3",
   "language": "python",
   "name": "python3"
  },
  "language_info": {
   "codemirror_mode": {
    "name": "ipython",
    "version": 3
   },
   "file_extension": ".py",
   "mimetype": "text/x-python",
   "name": "python",
   "nbconvert_exporter": "python",
   "pygments_lexer": "ipython3",
   "version": "3.7.6"
  }
 },
 "nbformat": 4,
 "nbformat_minor": 4
}
