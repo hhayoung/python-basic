{
 "cells": [
  {
   "cell_type": "code",
   "execution_count": 21,
   "metadata": {},
   "outputs": [
    {
     "name": "stdout",
     "output_type": "stream",
     "text": [
      "0 1 1 2 3 5 8 13 \n",
      "0 1 1 2 3 5 8 13 \n",
      "20\n",
      "10.0\n",
      "나는 오타 대마왕!!\n"
     ]
    }
   ],
   "source": [
    "# 상대 경로\n",
    "# ../ : 부모 디렉토리\n",
    "# ./ : 현재 디렉토리\n",
    "\n",
    "# 사용예1(클래스)\n",
    "from pkg.fibonacci import Fibonacci\n",
    "\n",
    "Fibonacci.fib(20)\n",
    "Fibonacci.fib2(20)\n",
    "\n",
    "# title 찍고 싶으면 생성자를 호출해주고 찍어야 하니까\n",
    "# 생성자 호출.title\n",
    "Fibonacci().title\n",
    "\n",
    "# 사용예2(클래스)\n",
    "# 여러 클래스를 사용하고 싶을 때 *를 적어오면 한꺼번에 모든 것 가져올 수 있는데 권장되지 않음.\n",
    "from pkg.fibonacci import *\n",
    "\n",
    "# 사용예3(클래스)\n",
    "from pkg.fibonacci import Fibonacci as fb\n",
    "\n",
    "fb.fib(20)\n",
    "fb().title\n",
    "\n",
    "# 사용예4(함수)\n",
    "import pkg.calc as c\n",
    "\n",
    "print(c.add(10,10))\n",
    "\n",
    "# 사용예5(함수)\n",
    "from pkg.calc import div as d\n",
    "print(d(100,10))\n",
    "\n",
    "# 사용예6(함수)\n",
    "import pkg.prints as p\n",
    "\n",
    "p.prt1()\n",
    "# 단위실행이 안나오는 이유? 여기서는 모듈패키지테스트가 메인이기 때문에 \n",
    "# 현재 메인은 테스트니까 실행파일이 테스트파일이니까"
   ]
  },
  {
   "cell_type": "code",
   "execution_count": null,
   "metadata": {},
   "outputs": [],
   "source": []
  }
 ],
 "metadata": {
  "kernelspec": {
   "display_name": "Python 3",
   "language": "python",
   "name": "python3"
  },
  "language_info": {
   "codemirror_mode": {
    "name": "ipython",
    "version": 3
   },
   "file_extension": ".py",
   "mimetype": "text/x-python",
   "name": "python",
   "nbconvert_exporter": "python",
   "pygments_lexer": "ipython3",
   "version": "3.7.6"
  }
 },
 "nbformat": 4,
 "nbformat_minor": 4
}
