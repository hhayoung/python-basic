{
 "cells": [
  {
   "cell_type": "code",
   "execution_count": 5,
   "metadata": {},
   "outputs": [
    {
     "name": "stdout",
     "output_type": "stream",
     "text": [
      "단위 실행(독립적 파일 실행)\n"
     ]
    }
   ],
   "source": [
    "def greeting():\n",
    "    print('하이!!!!')\n",
    "    print(__name__)\n",
    "    # greet.py을 import해서 greeting()함수를 불러줘서\n",
    "    # print(__name__) 이 실행되면 아마 greet 라고 뜰 것이다.\n",
    "    # https://dojang.io/mod/page/view.php?id=2448\n",
    "\n",
    "if __name__ == '__main__':\n",
    "    print('단위 실행(독립적 파일 실행)')\n",
    "#     오류 오류 이런걸 여기 써놨는데"
   ]
  }
 ],
 "metadata": {
  "kernelspec": {
   "display_name": "Python 3",
   "language": "python",
   "name": "python3"
  },
  "language_info": {
   "codemirror_mode": {
    "name": "ipython",
    "version": 3
   },
   "file_extension": ".py",
   "mimetype": "text/x-python",
   "name": "python",
   "nbconvert_exporter": "python",
   "pygments_lexer": "ipython3",
   "version": "3.7.6"
  }
 },
 "nbformat": 4,
 "nbformat_minor": 4
}
