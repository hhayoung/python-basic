{
 "cells": [
  {
   "cell_type": "code",
   "execution_count": 19,
   "metadata": {},
   "outputs": [
    {
     "name": "stdout",
     "output_type": "stream",
     "text": [
      "__main__\n",
      "하이!!!!\n"
     ]
    }
   ],
   "source": [
    "import greet\n",
    "\n",
    "print(__name__)\n",
    "greet.greeting()\n",
    "\n",
    "# 앞으로 많이 쓰게 될 이 구문은\n",
    "# if __name__ == \"__main__\" 주로 단위실행(테스트)시 사용한다.\n",
    "# 직접 실행시켰을 때만 실행되도록 하기 위한 코드를 넣어준다.\n",
    "# 다른 곳에서 import 해서 사용할 때는 실행이 되지 않는다."
   ]
  }
 ],
 "metadata": {
  "kernelspec": {
   "display_name": "Python 3",
   "language": "python",
   "name": "python3"
  },
  "language_info": {
   "codemirror_mode": {
    "name": "ipython",
    "version": 3
   },
   "file_extension": ".py",
   "mimetype": "text/x-python",
   "name": "python",
   "nbconvert_exporter": "python",
   "pygments_lexer": "ipython3",
   "version": "3.7.6"
  }
 },
 "nbformat": 4,
 "nbformat_minor": 4
}
