{
 "cells": [
  {
   "cell_type": "code",
   "execution_count": 1,
   "metadata": {},
   "outputs": [
    {
     "name": "stdout",
     "output_type": "stream",
     "text": [
      "단위 실행(독립적 파일 실행)\n",
      "나는 오타 대마왕!!\n",
      "여러분은 ?\n"
     ]
    }
   ],
   "source": [
    "def prt1():\n",
    "    print('나는 오타 대마왕!!')\n",
    "    \n",
    "def prt2():\n",
    "    print('여러분은 ?')\n",
    "    \n",
    "if __name__ == '__main__':\n",
    "    # 현재 모듈에서 쓰는거 . main은 현재 이 모듈이 메인이라는 뜻 \n",
    "    # name변수는 고 변수안에 현재 이 모듈이 main인지 아닌지를 판단할 때 쓰는 것\n",
    "    # prints에서 실행할 때는 메인이 이 파일이니까 이 프린트문이 출력도ㅓㅣ는거고\n",
    "#     상대방이 받았을 때 그 파일을 받아와서\n",
    "#     import해서 실행할 때는 그 출력문이 나오지 않는다. 단위테스트 할 때 사용한다. 개념은 그런거\n",
    "    \n",
    "    print('단위 실행(독립적 파일 실행)')\n",
    "    prt1()\n",
    "    prt2()"
   ]
  }
 ],
 "metadata": {
  "kernelspec": {
   "display_name": "Python 3",
   "language": "python",
   "name": "python3"
  },
  "language_info": {
   "codemirror_mode": {
    "name": "ipython",
    "version": 3
   },
   "file_extension": ".py",
   "mimetype": "text/x-python",
   "name": "python",
   "nbconvert_exporter": "python",
   "pygments_lexer": "ipython3",
   "version": "3.7.6"
  }
 },
 "nbformat": 4,
 "nbformat_minor": 4
}
