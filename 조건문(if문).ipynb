{
 "cells": [
  {
   "cell_type": "markdown",
   "metadata": {},
   "source": [
    "### 조건문"
   ]
  },
  {
   "cell_type": "code",
   "execution_count": 3,
   "metadata": {},
   "outputs": [
    {
     "name": "stdout",
     "output_type": "stream",
     "text": [
      "<class 'bool'>\n",
      "<class 'bool'>\n",
      "Yes\n",
      "Oh, you are here\n"
     ]
    }
   ],
   "source": [
    "# Bool 타입을 많이 활용한다.\n",
    "print(type(True))\n",
    "print(type(False))\n",
    "\n",
    "# 조건문 기본 형식\n",
    "if True:\n",
    "    print(\"Yes\")  # 들여쓰기(Indent) 주의\n",
    "\n",
    "if False:\n",
    "    print(\"No\")\n",
    "    \n",
    "if False:\n",
    "    print(\"You can't reach hear\")\n",
    "else:\n",
    "    print(\"Oh, you are here\")"
   ]
  },
  {
   "cell_type": "code",
   "execution_count": 5,
   "metadata": {},
   "outputs": [
    {
     "name": "stdout",
     "output_type": "stream",
     "text": [
      "False\n",
      "True\n"
     ]
    }
   ],
   "source": [
    "# 관계 연산자\n",
    "# >, >=, <, <=, ==, !=\n",
    "\n",
    "a = 10\n",
    "b = 0\n",
    "\n",
    "# a와 b가 같다\n",
    "print(a == b)\n",
    "# a와 b가 같지 않다\n",
    "print(a != b)"
   ]
  },
  {
   "cell_type": "code",
   "execution_count": 6,
   "metadata": {},
   "outputs": [],
   "source": [
    "# 논리 연산자: and, or, not"
   ]
  },
  {
   "cell_type": "markdown",
   "metadata": {},
   "source": [
    "#### 참 거짓의 종류"
   ]
  },
  {
   "cell_type": "code",
   "execution_count": 8,
   "metadata": {},
   "outputs": [
    {
     "name": "stdout",
     "output_type": "stream",
     "text": [
      "Please enter your city\n",
      "You are in :  Incheon\n"
     ]
    }
   ],
   "source": [
    "# 참 : \"내용\", [내용], (내용), {내용}, 1\n",
    "# 거짓 : \"\", [], (). {}, 0, None\n",
    "\n",
    "city = \"\"\n",
    "if city:\n",
    "    print(\"You are in : \",city)\n",
    "else:\n",
    "    print(\"Please enter your city\")\n",
    "\n",
    "city = \"Incheon\"\n",
    "if city:\n",
    "    print(\"You are in : \",city)\n",
    "else:\n",
    "    print(\"Please enter your city\")"
   ]
  },
  {
   "cell_type": "markdown",
   "metadata": {},
   "source": [
    "### 조건문 정리\n",
    "\n",
    "* python에서는 모든 블록({})의 시작점의 마지막에는 :(콜론)을 쓴다.\n",
    "* 조건문의 경우 if, elif, else 블록에 종속된 코드는 들여쓰기(Indent)로 표현가능\n",
    " - 들여쓰기(Indent)가 된 코드를 블록(block), 또는 코드블록이라고 함."
   ]
  },
  {
   "cell_type": "code",
   "execution_count": 11,
   "metadata": {},
   "outputs": [
    {
     "name": "stdout",
     "output_type": "stream",
     "text": [
      "6은 5보다 크다\n",
      "맞아!!!\n",
      "이 코드는 if문에 종속된 코드가 아니다\n"
     ]
    }
   ],
   "source": [
    "if 6>=5:\n",
    "    print('6은 5보다 크다')\n",
    "    print('맞아!!!')       #코드블록은 2줄!\n",
    "print('이 코드는 if문에 종속된 코드가 아니다')"
   ]
  },
  {
   "cell_type": "code",
   "execution_count": 19,
   "metadata": {},
   "outputs": [
    {
     "name": "stdout",
     "output_type": "stream",
     "text": [
      "That is True\n",
      "That is True\n",
      "333333\n"
     ]
    }
   ],
   "source": [
    "a = 10\n",
    "b = 8\n",
    "c = 11\n",
    "\n",
    "# if a == 10 and b == 9:  # 요건 False\n",
    "# if a == 10 and b != 9:    # 요건 True\n",
    "if a == 10 or b == 9:    #하나만 참이어도 True. b==9와 상관없니 무조건 True\n",
    "    print('That is True')\n",
    "\n",
    "# 우선순위 : and가 or보다 먼저 연산됨\n",
    "if a == 10 or b == 9 and c == 12:   # 우선순위 and > or\n",
    "    print('That is True')\n",
    "    \n",
    "#앞에를 먼저 계산하고 싶으면 괄호 하면 된다.\n",
    "if (a == 10 or b == 9) and c == 12:\n",
    "    print('That is True')\n",
    "\n",
    "if not a == 10:      # 실행 X\n",
    "    print('a is ten')\n",
    "    \n",
    "if 3:              # 0이 아닌 숫자는 참으로 본다.\n",
    "    print('333333')\n",
    "\n",
    "aa = 0\n",
    "if aa:             # 실행 X\n",
    "    print('aaaaa')"
   ]
  },
  {
   "cell_type": "code",
   "execution_count": 1,
   "metadata": {},
   "outputs": [
    {
     "name": "stdout",
     "output_type": "stream",
     "text": [
      "10\n",
      "bb는 4의 배수\n"
     ]
    }
   ],
   "source": [
    "# if else\n",
    "a = 9\n",
    "if a % 2 == 0:  # 짝수인지 판별\n",
    "    print(a/2)\n",
    "# print('hahaha~~')  #이렇게 들여쓰기 안된 코드가 들어가 있으면 오류 발생 주의!!\n",
    "else:\n",
    "    print(a+1)\n",
    "    \n",
    "# if elif else\n",
    "bb = 20\n",
    "if bb%4 == 0:\n",
    "    print('bb는 4의 배수')\n",
    "elif bb%4 == 1:\n",
    "    print('bb % 4 is 1')\n",
    "elif bb%4 == 2:\n",
    "    print('bb % 4 is 2')\n",
    "else:\n",
    "    print('bb % 4 is 3')\n"
   ]
  },
  {
   "cell_type": "code",
   "execution_count": 3,
   "metadata": {},
   "outputs": [
    {
     "name": "stdout",
     "output_type": "stream",
     "text": [
      "걸어가\n"
     ]
    }
   ],
   "source": [
    "pocket = ['paper', 'cellphone', 'money']\n",
    "if 'card' not in pocket:\n",
    "    print('걸어가')\n",
    "else:\n",
    "    print('버스타고가')"
   ]
  },
  {
   "cell_type": "code",
   "execution_count": 5,
   "metadata": {},
   "outputs": [
    {
     "name": "stdout",
     "output_type": "stream",
     "text": [
      "a는 4의 배수\n"
     ]
    }
   ],
   "source": [
    "a = 16\n",
    "if a%4 == 0:\n",
    "    print('a는 4의 배수')\n",
    "elif a%4 == 1:\n",
    "    print('a % 4 is 1')\n",
    "elif a%4 == 2:\n",
    "    print('a % 4 is 2')\n",
    "else:\n",
    "    print('a % 4 is 3')"
   ]
  },
  {
   "cell_type": "code",
   "execution_count": 7,
   "metadata": {},
   "outputs": [
    {
     "name": "stdout",
     "output_type": "stream",
     "text": [
      "a % 4 is 3\n"
     ]
    }
   ],
   "source": [
    "a = 7\n",
    "if a%4 == 0:\n",
    "    print('a는 4의 배수')\n",
    "if a%4 == 1:\n",
    "    print('a % 4 is 1')\n",
    "if a%4 == 2:\n",
    "    print('a % 4 is 2')\n",
    "if a%4 == 3:\n",
    "    print('a % 4 is 3')"
   ]
  },
  {
   "cell_type": "markdown",
   "metadata": {},
   "source": [
    "### 중첩 조건문(nested condition)\n",
    "- 중첩의 의미는 depth(깊이)로 생각하면 됨. depth의 제한은 없음"
   ]
  },
  {
   "cell_type": "code",
   "execution_count": 14,
   "metadata": {},
   "outputs": [
    {
     "name": "stdout",
     "output_type": "stream",
     "text": [
      "a is ten and b is not 8\n"
     ]
    }
   ],
   "source": [
    "a,b,c = 10, 7, 8\n",
    "\n",
    "if a==10:\n",
    "    if c==8:\n",
    "        if b==8:\n",
    "            print('a is ten and b is 8')\n",
    "        else:\n",
    "            print('a is ten and b is not 8')\n",
    "    else:\n",
    "        print('c is not 8')"
   ]
  }
 ],
 "metadata": {
  "kernelspec": {
   "display_name": "Python 3",
   "language": "python",
   "name": "python3"
  },
  "language_info": {
   "codemirror_mode": {
    "name": "ipython",
    "version": 3
   },
   "file_extension": ".py",
   "mimetype": "text/x-python",
   "name": "python",
   "nbconvert_exporter": "python",
   "pygments_lexer": "ipython3",
   "version": "3.7.6"
  }
 },
 "nbformat": 4,
 "nbformat_minor": 4
}
