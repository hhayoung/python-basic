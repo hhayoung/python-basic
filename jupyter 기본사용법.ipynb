{
 "cells": [
  {
   "cell_type": "markdown",
   "metadata": {},
   "source": [
    "# Hello Python\n",
    "## Hello Python\n",
    "### Hello Python\n",
    "#### Hello Python"
   ]
  },
  {
   "cell_type": "markdown",
   "metadata": {},
   "source": [
    "   볼드체            이탤릭체 \n",
    "**python** is really *cool*\n",
    "\n",
    "- python\n",
    " - pandas\n",
    "  - depth1\n",
    "  - depth2\n",
    "  \n",
    "1. python\n",
    "2. java\n",
    "3. C++\n",
    "\n",
    "> 파이썬은 쉽다...\n",
    "\n",
    "''' 수학식 표현 '''\n",
    "\n",
    "$y = 3x$\n",
    "\n",
    "''' 링크 걸기 '''\n",
    "\n",
    "[파이썬 공식 홈페이지](https://www.pythong.org)\n",
    "\n",
    "\n",
    "''' 파이썬 코드처럼 보이게 하기 '''\n",
    "```python\n",
    "a = 100\n",
    "print(a)\n",
    "```"
   ]
  },
  {
   "cell_type": "code",
   "execution_count": 5,
   "metadata": {},
   "outputs": [
    {
     "name": "stdout",
     "output_type": "stream",
     "text": [
      "100\n"
     ]
    }
   ],
   "source": [
    "a = 100\n",
    "print(a)"
   ]
  }
 ],
 "metadata": {
  "kernelspec": {
   "display_name": "Python 3",
   "language": "python",
   "name": "python3"
  },
  "language_info": {
   "codemirror_mode": {
    "name": "ipython",
    "version": 3
   },
   "file_extension": ".py",
   "mimetype": "text/x-python",
   "name": "python",
   "nbconvert_exporter": "python",
   "pygments_lexer": "ipython3",
   "version": "3.7.6"
  }
 },
 "nbformat": 4,
 "nbformat_minor": 4
}
