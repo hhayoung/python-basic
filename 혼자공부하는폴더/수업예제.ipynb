{
 "cells": [
  {
   "cell_type": "code",
   "execution_count": 5,
   "metadata": {},
   "outputs": [],
   "source": [
    "def func_args(*args):\n",
    "    tup = ()\n",
    "    for i in args:\n",
    "        tup += (i,)\n",
    "    print(type(tup))\n",
    "    return tup"
   ]
  },
  {
   "cell_type": "code",
   "execution_count": 6,
   "metadata": {},
   "outputs": [
    {
     "name": "stdout",
     "output_type": "stream",
     "text": [
      "<class 'tuple'>\n",
      "(1, 3, 5, 7, 9, 2, 4, 6, 8, 0)\n"
     ]
    }
   ],
   "source": [
    "print(func_args(1,3,5,7,9,2,4,6,8,0))"
   ]
  },
  {
   "cell_type": "code",
   "execution_count": 8,
   "metadata": {},
   "outputs": [],
   "source": [
    "def Cal(a,b):\n",
    "    plus = a+b\n",
    "    minus = a-b\n",
    "    mul = a*b\n",
    "    return plus, minus, mul\n",
    "    return (plus, minus, mul)"
   ]
  },
  {
   "cell_type": "code",
   "execution_count": 9,
   "metadata": {},
   "outputs": [
    {
     "name": "stdout",
     "output_type": "stream",
     "text": [
      "<class 'tuple'>\n",
      "(5, -1, 6)\n"
     ]
    }
   ],
   "source": [
    "print(type(Cal(2,3)))\n",
    "print(Cal(2,3))"
   ]
  },
  {
   "cell_type": "code",
   "execution_count": 95,
   "metadata": {},
   "outputs": [],
   "source": [
    "def return_fruit(color):\n",
    "    if color=='red':\n",
    "        return 'apple'\n",
    "    elif color=='yellow':\n",
    "        return 'banana'\n",
    "    elif color=='green':\n",
    "        return 'water melon'\n",
    "    else:\n",
    "        return \"I don't know\""
   ]
  },
  {
   "cell_type": "code",
   "execution_count": 96,
   "metadata": {},
   "outputs": [
    {
     "name": "stdout",
     "output_type": "stream",
     "text": [
      "apple\n"
     ]
    }
   ],
   "source": [
    "print(return_fruit('red'))"
   ]
  },
  {
   "cell_type": "code",
   "execution_count": 99,
   "metadata": {},
   "outputs": [
    {
     "name": "stdout",
     "output_type": "stream",
     "text": [
      "apple\n"
     ]
    }
   ],
   "source": [
    "fruit_dic = {\n",
    "    'red': 'apple',\n",
    "    'yellow': 'banana',\n",
    "    'green': 'water melon'\n",
    "}\n",
    "def return_fruit(color):\n",
    "    return fruit_dic.get(color, \"I don't know\")\n",
    "res = return_fruit('red')\n",
    "print(res)"
   ]
  },
  {
   "cell_type": "code",
   "execution_count": 49,
   "metadata": {},
   "outputs": [],
   "source": [
    "def return_fruit(dic,select):\n",
    "    if select == 'red':\n",
    "        return dic['red']\n",
    "    elif select == 'yellow':\n",
    "        return dic['yellow']\n",
    "    elif select == 'green':\n",
    "        return dic['green']\n",
    "    else:\n",
    "        return \"I don't know\""
   ]
  },
  {
   "cell_type": "code",
   "execution_count": 51,
   "metadata": {},
   "outputs": [
    {
     "name": "stdout",
     "output_type": "stream",
     "text": [
      "apple\n"
     ]
    }
   ],
   "source": [
    "fruit_dic = {\n",
    "    'red': 'apple',\n",
    "    'yellow': 'banana',\n",
    "    'green': 'water melon'\n",
    "}\n",
    "\n",
    "# print(fruit_dic['red'])\n",
    "print(return_fruit(fruit_dic,'red'))"
   ]
  },
  {
   "cell_type": "code",
   "execution_count": 65,
   "metadata": {},
   "outputs": [
    {
     "name": "stdout",
     "output_type": "stream",
     "text": [
      "0 1 1 2 3 5 8 13 21 34 55 89 "
     ]
    }
   ],
   "source": [
    "def fibonacci(num):\n",
    "    a, b = 0, 1\n",
    "    i = 0\n",
    "    print(a,b,end=' ')\n",
    "    while i<num:\n",
    "        a, b = b, a+b\n",
    "        print(b,end=' ')\n",
    "        i += 1\n",
    "        \n",
    "# print(fibonacci(10))\n",
    "fibonacci(10)"
   ]
  },
  {
   "cell_type": "code",
   "execution_count": 66,
   "metadata": {},
   "outputs": [
    {
     "name": "stdout",
     "output_type": "stream",
     "text": [
      "[0, 1, 1, 2, 3, 5, 8, 13, 21, 34, 55, 89]\n"
     ]
    }
   ],
   "source": [
    "def fibonacci(num):\n",
    "    a, b = 0, 1\n",
    "    _list = [a,b]\n",
    "    i = 0\n",
    "    while i<num:\n",
    "        a, b = b, a+b\n",
    "        _list.append(b)\n",
    "        i += 1\n",
    "    return _list\n",
    "\n",
    "print(fibonacci(10))"
   ]
  },
  {
   "cell_type": "code",
   "execution_count": 79,
   "metadata": {},
   "outputs": [
    {
     "name": "stdout",
     "output_type": "stream",
     "text": [
      "25\n",
      "10\n"
     ]
    }
   ],
   "source": [
    "def var_arg(*args):\n",
    "    if len(args)==1:\n",
    "        return args[0]*args[0]\n",
    "    else:\n",
    "        return args[0]*args[1]\n",
    "\n",
    "print(var_arg(5))\n",
    "print(var_arg(5,2))"
   ]
  },
  {
   "cell_type": "code",
   "execution_count": 104,
   "metadata": {},
   "outputs": [
    {
     "name": "stdout",
     "output_type": "stream",
     "text": [
      "100\n",
      "20\n"
     ]
    }
   ],
   "source": [
    "def default_arg(x,y=None):\n",
    "    return x * (y if y else x)\n",
    "\n",
    "print(default_arg(10))\n",
    "print(default_arg(10,2))"
   ]
  },
  {
   "cell_type": "code",
   "execution_count": 81,
   "metadata": {},
   "outputs": [
    {
     "name": "stdout",
     "output_type": "stream",
     "text": [
      "a가 더 큰 수\n"
     ]
    }
   ],
   "source": [
    "a = 10\n",
    "b = 5\n",
    "\n",
    "print('a가 더 큰 수'if a>b else 'b가 더 큰 수')"
   ]
  },
  {
   "cell_type": "code",
   "execution_count": 82,
   "metadata": {},
   "outputs": [
    {
     "name": "stdout",
     "output_type": "stream",
     "text": [
      "a가 큰 수\n"
     ]
    }
   ],
   "source": [
    "def default_arg(a=10,b=5):\n",
    "    print('a가 큰 수' if a>b else 'b가 더 큰 수')\n",
    "    \n",
    "default_arg()"
   ]
  },
  {
   "cell_type": "code",
   "execution_count": 101,
   "metadata": {},
   "outputs": [
    {
     "name": "stdout",
     "output_type": "stream",
     "text": [
      "['__builtins__', '__cached__', '__doc__', '__file__', '__loader__', '__name__', '__package__', '__spec__', 'add', 'name']\n"
     ]
    }
   ],
   "source": [
    "import m_test as mt\n",
    "print(dir(mt))"
   ]
  },
  {
   "cell_type": "code",
   "execution_count": 103,
   "metadata": {},
   "outputs": [
    {
     "name": "stdout",
     "output_type": "stream",
     "text": [
      "8\n"
     ]
    }
   ],
   "source": [
    "import m_test as mt\n",
    "result = mt.add(5,3)\n",
    "print(result)"
   ]
  },
  {
   "cell_type": "code",
   "execution_count": 100,
   "metadata": {},
   "outputs": [
    {
     "data": {
      "text/plain": [
       "[6, 8, 9, 10]"
      ]
     },
     "execution_count": 100,
     "metadata": {},
     "output_type": "execute_result"
    }
   ],
   "source": [
    "nums = [1, 2, 3, 6, 8, 9, 10, 11, 13, 15]\n",
    "\n",
    "def ft(n):\n",
    "    if n>=5 and n<=10:\n",
    "        return n\n",
    "    \n",
    "list(filter(ft, nums))\n",
    "\n",
    "list(filter(lambda n : n>=5 and n<=10,nums))"
   ]
  },
  {
   "cell_type": "code",
   "execution_count": 101,
   "metadata": {},
   "outputs": [
    {
     "name": "stdout",
     "output_type": "stream",
     "text": [
      "[1, 2, '박수', 4, 5, '박수', 7, 8, '박수', 10]\n"
     ]
    }
   ],
   "source": [
    "_list = []\n",
    "for i in range(1,11):\n",
    "    if i%3==0:\n",
    "        _list.append('박수')\n",
    "    else:\n",
    "        _list.append(i)\n",
    "print(_list)"
   ]
  },
  {
   "cell_type": "code",
   "execution_count": 141,
   "metadata": {
    "scrolled": true
   },
   "outputs": [
    {
     "name": "stdout",
     "output_type": "stream",
     "text": [
      "[1, 2, '박수', 4, 5, '박수', 7, 8, '박수', 10]\n"
     ]
    }
   ],
   "source": [
    "nums = [1,2,3,4,5,6,7,8,9,10]\n",
    "\n",
    "def tsn(n):\n",
    "    if n%3==0:\n",
    "        return '박수'\n",
    "    else:\n",
    "        return n\n",
    "\n",
    "print(list(map(tsn,nums)))"
   ]
  },
  {
   "cell_type": "code",
   "execution_count": 142,
   "metadata": {},
   "outputs": [
    {
     "name": "stdout",
     "output_type": "stream",
     "text": [
      "2x1=2\t2x2=4\t2x3=6\t2x4=8\t2x5=10\t2x6=12\t2x7=14\t2x8=16\t2x9=18\t\n",
      "3x1=3\t3x2=6\t3x3=9\t3x4=12\t3x5=15\t3x6=18\t3x7=21\t3x8=24\t3x9=27\t\n",
      "4x1=4\t4x2=8\t4x3=12\t4x4=16\t4x5=20\t4x6=24\t4x7=28\t4x8=32\t4x9=36\t\n",
      "5x1=5\t5x2=10\t5x3=15\t5x4=20\t5x5=25\t5x6=30\t5x7=35\t5x8=40\t5x9=45\t\n",
      "6x1=6\t6x2=12\t6x3=18\t6x4=24\t6x5=30\t6x6=36\t6x7=42\t6x8=48\t6x9=54\t\n",
      "7x1=7\t7x2=14\t7x3=21\t7x4=28\t7x5=35\t7x6=42\t7x7=49\t7x8=56\t7x9=63\t\n",
      "8x1=8\t8x2=16\t8x3=24\t8x4=32\t8x5=40\t8x6=48\t8x7=56\t8x8=64\t8x9=72\t\n",
      "9x1=9\t9x2=18\t9x3=27\t9x4=36\t9x5=45\t9x6=54\t9x7=63\t9x8=72\t9x9=81\t\n"
     ]
    }
   ],
   "source": [
    "for i in range(2,10):\n",
    "    for j in range(1,10):\n",
    "        print(f'{i}x{j}={i*j}', end='\\t')\n",
    "    print()"
   ]
  },
  {
   "cell_type": "code",
   "execution_count": 37,
   "metadata": {},
   "outputs": [
    {
     "name": "stdout",
     "output_type": "stream",
     "text": [
      "['2x1=2', '2x2=4', '2x3=6', '2x4=8', '2x5=10', '2x6=12', '2x7=14', '2x8=16', '2x9=18', '3x1=3', '3x2=6', '3x3=9', '3x4=12', '3x5=15', '3x6=18', '3x7=21', '3x8=24', '3x9=27', '4x1=4', '4x2=8', '4x3=12', '4x4=16', '4x5=20', '4x6=24', '4x7=28', '4x8=32', '4x9=36', '5x1=5', '5x2=10', '5x3=15', '5x4=20', '5x5=25', '5x6=30', '5x7=35', '5x8=40', '5x9=45', '6x1=6', '6x2=12', '6x3=18', '6x4=24', '6x5=30', '6x6=36', '6x7=42', '6x8=48', '6x9=54', '7x1=7', '7x2=14', '7x3=21', '7x4=28', '7x5=35', '7x6=42', '7x7=49', '7x8=56', '7x9=63', '8x1=8', '8x2=16', '8x3=24', '8x4=32', '8x5=40', '8x6=48', '8x7=56', '8x8=64', '8x9=72', '9x1=9', '9x2=18', '9x3=27', '9x4=36', '9x5=45', '9x6=54', '9x7=63', '9x8=72', '9x9=81']\n"
     ]
    }
   ],
   "source": [
    "print([(lambda x,y:'{}x{}={}'.format(x,y,x*y))(x,y) for x in range(2,10) for y in range(1,10)])"
   ]
  },
  {
   "cell_type": "code",
   "execution_count": 6,
   "metadata": {
    "scrolled": true
   },
   "outputs": [
    {
     "name": "stdout",
     "output_type": "stream",
     "text": [
      "학생 수를 입력하세요 :4\n",
      "1번 학생의 점수:  88\n",
      "2번 학생의 점수:  79\n",
      "3번 학생의 점수:  85\n",
      "4번 학생의 점수:  78\n",
      "-----------------------------------------------\n",
      " 번호\t\t점수\t\t평균과의 차이\n",
      "-----------------------------------------------\n",
      " 1\t\t88\t\t-5.5\n",
      " 2\t\t79\t\t3.5\n",
      " 3\t\t85\t\t-2.5\n",
      " 4\t\t78\t\t4.5\n",
      "-----------------------------------------------\n",
      "전체 평균 : 82.5\n",
      "-----------------------------------------------\n",
      "평균 미만자 수 : 2\n",
      "-----------------------------------------------\n"
     ]
    }
   ],
   "source": [
    "stu_num = int(input('학생 수를 입력하세요 :'))\n",
    "score_list = []\n",
    "i=1\n",
    "while i<=stu_num:\n",
    "    print('%d번 학생의 점수: '%i, end=' ')\n",
    "    score_list.append(int(input()))\n",
    "    i += 1\n",
    "    \n",
    "result = 0\n",
    "for i in score_list:\n",
    "    result += i\n",
    "score_avg = result/stu_num\n",
    "\n",
    "print('-----------------------------------------------')\n",
    "print(' 번호\\t\\t점수\\t\\t평균과의 차이')\n",
    "print('-----------------------------------------------')\n",
    "\n",
    "cnt = 0\n",
    "i = 0\n",
    "while i<stu_num:\n",
    "    print(f' {i+1}\\t\\t{score_list[i]}\\t\\t{score_avg - score_list[i]}')\n",
    "    if score_avg - score_list[i] < 0:\n",
    "        cnt += 1\n",
    "    i += 1\n",
    "    \n",
    "    \n",
    "print('-----------------------------------------------')\n",
    "print(f'전체 평균 : {score_avg}')\n",
    "print('-----------------------------------------------')\n",
    "print(f'평균 미만자 수 : {cnt}')\n",
    "print('-----------------------------------------------')\n"
   ]
  },
  {
   "cell_type": "code",
   "execution_count": 20,
   "metadata": {},
   "outputs": [
    {
     "name": "stdout",
     "output_type": "stream",
     "text": [
      "학생 수를 입력하세요 :4\n",
      "1번 학생의 점수 :1\n",
      "2번 학생의 점수 :2\n",
      "3번 학생의 점수 :3\n",
      "4번 학생의 점수 :4\n",
      "------------------------------------\n",
      " 번호 \t 점수 \t 평균과의 차이\n",
      "------------------------------------\n",
      "  1 \t 1 \t -1.50\n",
      "  2 \t 2 \t -0.50\n",
      "  3 \t 3 \t 0.50\n",
      "  4 \t 4 \t 1.50\n",
      "------------------------------------\n",
      "전체 평균 : 2.5\n",
      "------------------------------------\n",
      "평균 미만자 수 : 2\n",
      "------------------------------------\n"
     ]
    }
   ],
   "source": [
    "# 함수로 나누기 \n",
    "\n",
    "# 학생 점수 입력 함수\n",
    "def input_score(stu_num):\n",
    "    score_list = []\n",
    "    for i in range(1, stu_num+1):\n",
    "        score_list.append(int(input(str(i) +'번 학생의 점수 :')))\n",
    "    return score_list\n",
    "\n",
    "# 평균 구하는 함수\n",
    "def mean(score):\n",
    "    score_avg = sum(score) / len(score)\n",
    "    return score_avg\n",
    "\n",
    "\n",
    "# 평균 미만자 수 구하는 함수\n",
    "def under_avg_cnt(score, avg):\n",
    "    cnt = 0  # 평균 미만자 카운팅하기 위한 변수\n",
    "    for i in score:\n",
    "        if i < avg:\n",
    "            cnt += 1\n",
    "    return cnt\n",
    "\n",
    "# 출력화면\n",
    "def res_output(score,avg,cnt):\n",
    "    print('------------------------------------')\n",
    "    print(' 번호 \\t 점수 \\t 평균과의 차이')\n",
    "    print('------------------------------------')\n",
    "\n",
    "    # score_list에는 인덱스는 없고, 점수만 있기 때문에\n",
    "    # enumerate 이용 : 인덱스를 부여해줌.\n",
    "    for idx, value in enumerate(score):\n",
    "        print(f'  {idx+1} \\t {value} \\t {value - avg:.2f}')\n",
    "\n",
    "\n",
    "    print('------------------------------------')\n",
    "    print(f'전체 평균 : {avg}')\n",
    "    print('------------------------------------')\n",
    "    print(f'평균 미만자 수 : {cnt}')\n",
    "    print('------------------------------------')\n",
    "\n",
    "# main process\n",
    "num = int(input('학생 수를 입력하세요 :'))\n",
    "\n",
    "score = input_score(num)\n",
    "avg = mean(score)\n",
    "\n",
    "under_cnt = under_avg_cnt(score, avg)\n",
    "result = res_output(score, avg, under_cnt)\n"
   ]
  },
  {
   "cell_type": "code",
   "execution_count": 23,
   "metadata": {},
   "outputs": [],
   "source": [
    "class Person:\n",
    "    name = '아무개'\n",
    "\n",
    "    def __init__(self, name):\n",
    "        self.name = name    \n",
    "\n",
    "    def _info(self):\n",
    "        print('인스턴스 변수 : ',self.name)\n",
    "\n",
    "    def info():\n",
    "        print('클래스 변수 :', Person.name)"
   ]
  },
  {
   "cell_type": "code",
   "execution_count": 24,
   "metadata": {},
   "outputs": [
    {
     "data": {
      "text/plain": [
       "'홍길동'"
      ]
     },
     "execution_count": 24,
     "metadata": {},
     "output_type": "execute_result"
    }
   ],
   "source": [
    "p = Person('홍길동')\n",
    "p.name"
   ]
  },
  {
   "cell_type": "code",
   "execution_count": 18,
   "metadata": {},
   "outputs": [
    {
     "data": {
      "text/plain": [
       "'아무개'"
      ]
     },
     "execution_count": 18,
     "metadata": {},
     "output_type": "execute_result"
    }
   ],
   "source": [
    "Person.name"
   ]
  },
  {
   "cell_type": "code",
   "execution_count": 19,
   "metadata": {},
   "outputs": [
    {
     "name": "stdout",
     "output_type": "stream",
     "text": [
      "인스턴스 변수 :  홍길동\n"
     ]
    }
   ],
   "source": [
    "p._info()"
   ]
  },
  {
   "cell_type": "code",
   "execution_count": 20,
   "metadata": {},
   "outputs": [
    {
     "name": "stdout",
     "output_type": "stream",
     "text": [
      "클래스 변수 : 아무개\n"
     ]
    }
   ],
   "source": [
    "Person.info()"
   ]
  },
  {
   "cell_type": "code",
   "execution_count": 24,
   "metadata": {},
   "outputs": [
    {
     "data": {
      "text/plain": [
       "mappingproxy({'__module__': '__main__',\n",
       "              'name': '아무개',\n",
       "              '__init__': <function __main__.Person.__init__(self, name)>,\n",
       "              '_info': <function __main__.Person._info(self)>,\n",
       "              'info': <function __main__.Person.info()>,\n",
       "              '__dict__': <attribute '__dict__' of 'Person' objects>,\n",
       "              '__weakref__': <attribute '__weakref__' of 'Person' objects>,\n",
       "              '__doc__': None})"
      ]
     },
     "execution_count": 24,
     "metadata": {},
     "output_type": "execute_result"
    }
   ],
   "source": [
    "Person.__dict__"
   ]
  },
  {
   "cell_type": "code",
   "execution_count": 27,
   "metadata": {},
   "outputs": [
    {
     "name": "stdout",
     "output_type": "stream",
     "text": [
      "홍길동님은 열심히 공부합니다.\n"
     ]
    }
   ],
   "source": [
    "class Student(Person):\n",
    "    def study(self):\n",
    "        print(f'{self.name}님은 열심히 공부합니다.')\n",
    "        \n",
    "s1 = Student('홍길동')\n",
    "s1.study()"
   ]
  },
  {
   "cell_type": "code",
   "execution_count": 77,
   "metadata": {},
   "outputs": [
    {
     "name": "stdout",
     "output_type": "stream",
     "text": [
      "홍길동님은 열심히 학생을 가르칩니다..\n"
     ]
    }
   ],
   "source": [
    "class Teacher(Person):\n",
    "    def teach(self):\n",
    "        print(f'{self.name}님은 열심히 학생을 가르칩니다..')\n",
    "        \n",
    "t1 = Teacher('홍길동')\n",
    "t1.teach()"
   ]
  },
  {
   "cell_type": "code",
   "execution_count": 78,
   "metadata": {},
   "outputs": [
    {
     "data": {
      "text/plain": [
       "1"
      ]
     },
     "execution_count": 78,
     "metadata": {},
     "output_type": "execute_result"
    }
   ],
   "source": [
    "'abcde'.find('b')"
   ]
  },
  {
   "cell_type": "code",
   "execution_count": 82,
   "metadata": {},
   "outputs": [
    {
     "name": "stdout",
     "output_type": "stream",
     "text": [
      "[1, 2, '박수', 4, 5, '박수', 7, 8, '박수', 10, 11, 12, '박수', 14, 15, '박수', 17, 18, '박수']\n"
     ]
    }
   ],
   "source": [
    "def tsn(n):\n",
    "    n = str(n)\n",
    "    if n.find('3')==0 or n.find('3')==1:\n",
    "        return '박수'\n",
    "    elif n.find('6')==0 or n.find('6')==1:\n",
    "        return '박수'\n",
    "    elif n.find('9')==0 or n.find('9')==1:\n",
    "        return '박수'\n",
    "    else:\n",
    "        return int(n)\n",
    "\n",
    "print(list(map(tsn,range(1,20))))"
   ]
  },
  {
   "cell_type": "code",
   "execution_count": 93,
   "metadata": {},
   "outputs": [
    {
     "name": "stdout",
     "output_type": "stream",
     "text": [
      "[90, 80, 78, 88, 67]\n",
      "Average :  80.6\n"
     ]
    }
   ],
   "source": [
    "\n",
    "with open('./resource/score.txt','r') as f:\n",
    "    score_list = []\n",
    "    for line in f:\n",
    "        score_list.append(int(line.strip()))\n",
    "    print(score_list)\n",
    "    score_avg = sum(score_list) / len(score_list)\n",
    "    print('Average : ',score_avg)\n",
    "    \n",
    "    "
   ]
  },
  {
   "cell_type": "code",
   "execution_count": null,
   "metadata": {},
   "outputs": [],
   "source": [
    "var1 = 0 \n",
    "\n",
    "class Abc():\n",
    "    var2 = 0\n",
    "    \n",
    "    def __init__(self, a, b):\n",
    "        self.a = a\n",
    "        self.b = b\n",
    "\n"
   ]
  },
  {
   "cell_type": "code",
   "execution_count": 12,
   "metadata": {},
   "outputs": [],
   "source": [
    "import random as r\n",
    "\n",
    "with open('./resource/lotto.txt','w') as f:\n",
    "    for i in range(6):\n",
    "        f.write(str(r.randint(1,50)))\n",
    "        f.write(' ')\n",
    "    f.write('\\n')"
   ]
  },
  {
   "cell_type": "code",
   "execution_count": 2,
   "metadata": {},
   "outputs": [],
   "source": [
    "# category,상품코드, 상품명, 가격, 상세설명\n",
    "class Product:\n",
    "    \n",
    "    def __init__(self, category, code, p_name, price, description):\n",
    "        self.category = category\n",
    "        self.code = code\n",
    "        self.p_name = p_name\n",
    "        self.price = price\n",
    "        self.description = description\n",
    "        \n",
    "        \n",
    "    def print_des(self):\n",
    "        return f'{self.p_name} 은(는) {self.description}'\n"
   ]
  },
  {
   "cell_type": "code",
   "execution_count": 32,
   "metadata": {},
   "outputs": [
    {
     "name": "stdout",
     "output_type": "stream",
     "text": [
      "삼성smartTV\n",
      "1,000,000\n",
      "<class 'str'>\n"
     ]
    },
    {
     "data": {
      "text/plain": [
       "'삼성smartTV 은(는) 넷플릭스 볼 수 있는 tv입니다.'"
      ]
     },
     "execution_count": 32,
     "metadata": {},
     "output_type": "execute_result"
    }
   ],
   "source": [
    "tv = Product('가전','tv100','삼성smartTV',1000000,'넷플릭스 볼 수 있는 tv입니다.')\n",
    "print(tv.p_name)\n",
    "print(format(tv.price,','))\n",
    "print(type(format(tv.price,',')))\n",
    "tv.print_des()"
   ]
  },
  {
   "cell_type": "code",
   "execution_count": 23,
   "metadata": {},
   "outputs": [
    {
     "name": "stdout",
     "output_type": "stream",
     "text": [
      "삼성냉장고\n",
      "1200000\n"
     ]
    },
    {
     "data": {
      "text/plain": [
       "'삼성냉장고 은(는) 디자인이 이쁜 냉장고입니다.'"
      ]
     },
     "execution_count": 23,
     "metadata": {},
     "output_type": "execute_result"
    }
   ],
   "source": [
    "refrigerator = Product('가전','re200','삼성냉장고',1200000,'디자인이 이쁜 냉장고입니다.')\n",
    "print(refrigerator.p_name)\n",
    "print(refrigerator.price)\n",
    "refrigerator.print_des()"
   ]
  },
  {
   "cell_type": "code",
   "execution_count": 33,
   "metadata": {},
   "outputs": [],
   "source": [
    "# 객체 값들을 리스트로 저장해보자.\n",
    "prod_list = []\n",
    "prod_list.append(tv)"
   ]
  },
  {
   "cell_type": "code",
   "execution_count": 43,
   "metadata": {},
   "outputs": [
    {
     "name": "stdout",
     "output_type": "stream",
     "text": [
      "[<__main__.Product object at 0x000001F39EE55708>]\n",
      "\n",
      "1\n",
      "삼성smartTV 은(는) 넷플릭스 볼 수 있는 tv입니다.\n",
      "삼성smartTV\n"
     ]
    }
   ],
   "source": [
    "print(prod_list)\n",
    "print()\n",
    "print(len(prod_list))\n",
    "print(prod_list[0].print_des())\n",
    "print(prod_list[0].p_name)"
   ]
  },
  {
   "cell_type": "code",
   "execution_count": 9,
   "metadata": {},
   "outputs": [],
   "source": [
    "class NewProduct(Product):\n",
    "    def __init__(self, category, code, p_name, price, description,menufacturer):\n",
    "        super().__init__(category, code, p_name, price, description)\n",
    "        self.menufacturer = menufacturer\n",
    "    "
   ]
  },
  {
   "cell_type": "code",
   "execution_count": 12,
   "metadata": {},
   "outputs": [
    {
     "name": "stdout",
     "output_type": "stream",
     "text": [
      "삼성\n"
     ]
    }
   ],
   "source": [
    "newp = NewProduct('가전','p200','에어컨',1200000,'시원함','삼성')\n",
    "print(newp.menufacturer)"
   ]
  },
  {
   "cell_type": "code",
   "execution_count": 13,
   "metadata": {},
   "outputs": [],
   "source": [
    "class Parent:\n",
    "    hobby = '야구'\n",
    "    number = '010-1234-5678'\n",
    "    \n",
    "    def __init__(self, name, age, addr):\n",
    "        self.name = name\n",
    "        self.age = age\n",
    "        self.addr = addr\n",
    "    def info(self):\n",
    "        print(f'이름은 {self.name}, 나이는 {self.age}, 주소는 {self.addr}')"
   ]
  },
  {
   "cell_type": "code",
   "execution_count": 14,
   "metadata": {},
   "outputs": [],
   "source": [
    "p = Parent('홍길동','40','인천')"
   ]
  },
  {
   "cell_type": "code",
   "execution_count": 15,
   "metadata": {},
   "outputs": [
    {
     "name": "stdout",
     "output_type": "stream",
     "text": [
      "이름은 홍길동, 나이는 40, 주소는 인천\n"
     ]
    }
   ],
   "source": [
    "p.info()"
   ]
  },
  {
   "cell_type": "code",
   "execution_count": 16,
   "metadata": {},
   "outputs": [
    {
     "data": {
      "text/plain": [
       "'야구'"
      ]
     },
     "execution_count": 16,
     "metadata": {},
     "output_type": "execute_result"
    }
   ],
   "source": [
    "p.hobby"
   ]
  },
  {
   "cell_type": "code",
   "execution_count": 17,
   "metadata": {},
   "outputs": [],
   "source": [
    "class Child(Parent):\n",
    "    def __init__(self, name, age, addr, hobby):\n",
    "        super().__init__(name, age, addr)\n",
    "        self.hobby = hobby\n",
    "        "
   ]
  },
  {
   "cell_type": "code",
   "execution_count": 21,
   "metadata": {},
   "outputs": [
    {
     "name": "stdout",
     "output_type": "stream",
     "text": [
      "이름은 자식, 나이는 23, 주소는 인천\n"
     ]
    }
   ],
   "source": [
    "c = Child('자식','23','인천','탁구')\n",
    "c.info()"
   ]
  },
  {
   "cell_type": "code",
   "execution_count": 19,
   "metadata": {},
   "outputs": [
    {
     "data": {
      "text/plain": [
       "'탁구'"
      ]
     },
     "execution_count": 19,
     "metadata": {},
     "output_type": "execute_result"
    }
   ],
   "source": [
    "c.hobby"
   ]
  },
  {
   "cell_type": "code",
   "execution_count": 20,
   "metadata": {},
   "outputs": [
    {
     "data": {
      "text/plain": [
       "'010-1234-5678'"
      ]
     },
     "execution_count": 20,
     "metadata": {},
     "output_type": "execute_result"
    }
   ],
   "source": [
    "c.number"
   ]
  },
  {
   "cell_type": "code",
   "execution_count": 22,
   "metadata": {},
   "outputs": [],
   "source": [
    "with open('./test.txt','w') as f:\n",
    "    f.write('mdkslkvw;')\n",
    "    f.write('\\n')"
   ]
  }
 ],
 "metadata": {
  "kernelspec": {
   "display_name": "Python 3",
   "language": "python",
   "name": "python3"
  },
  "language_info": {
   "codemirror_mode": {
    "name": "ipython",
    "version": 3
   },
   "file_extension": ".py",
   "mimetype": "text/x-python",
   "name": "python",
   "nbconvert_exporter": "python",
   "pygments_lexer": "ipython3",
   "version": "3.7.6"
  }
 },
 "nbformat": 4,
 "nbformat_minor": 4
}
