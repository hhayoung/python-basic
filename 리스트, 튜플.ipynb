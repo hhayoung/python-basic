{
 "cells": [
  {
   "cell_type": "markdown",
   "metadata": {},
   "source": [
    "### 리스트 & 튜플\n",
    "- 복수개의 값을 담을 수 있는 데이터 구조\n",
    "- 실생활에서 사용하는 리스트(학생리스트, 성적리스트 등)과 동일한 의미로 이해\n",
    "- list : mutable(생성된 후에 변경 가능)\n",
    "- tuple : immutable(생성된 후에 변경 불가능)\n",
    "\n",
    "#### 리스트 초기화\n",
    "- []안에 값을 담아서 생성\n",
    "- list()함수로 생성\n",
    "- str.split()함수로 생성\n",
    "\n",
    "#### 리스트 자료형 특징\n",
    "- 순서가 있다\n",
    "- 중복 허용\n",
    "- 수정 가능\n",
    "- 삭제 가능\n",
    "\n",
    "#### 튜플 자료형 특징\n",
    "- 순서가 있다\n",
    "- 중복 허용\n",
    "- 수정 불가\n",
    "- 삭제 불가"
   ]
  },
  {
   "cell_type": "code",
   "execution_count": 8,
   "metadata": {},
   "outputs": [
    {
     "name": "stdout",
     "output_type": "stream",
     "text": [
      "[]\n",
      "3\n",
      "3\n",
      "Banana\n",
      "Banana\n",
      "Banana\n",
      "['Banana', 'Orange']\n"
     ]
    }
   ],
   "source": [
    "# 선언\n",
    "# name1 = '아무개'\n",
    "# name2 = '홍길동'  이름이 더 많아지면 노답이니까\n",
    "a = []\n",
    "print(a)\n",
    "b = list()   # 명시적 선언\n",
    "c = [1,2,3,4]\n",
    "d = [10,100,'Pen','Banana','Orange']\n",
    "e = [10,100,['pen','Banana','Orange']]\n",
    "\n",
    "print(c[2])\n",
    "print(c[-2])\n",
    "\n",
    "# Banana 출력하기\n",
    "print(d[3])\n",
    "\n",
    "# [문제1] e에서 두가지 방법으로 Banana를 출력해보시오.\n",
    "print(e[2][1])\n",
    "print(e[-1][-2])\n",
    "\n",
    "# [문제2] e에서 슬라이싱기법으로 바나나와 오렌지를 꺼내시오.\n",
    "print(e[2][1:3])"
   ]
  },
  {
   "cell_type": "markdown",
   "metadata": {},
   "source": [
    "#### 리스트 연산"
   ]
  },
  {
   "cell_type": "code",
   "execution_count": 13,
   "metadata": {},
   "outputs": [
    {
     "name": "stdout",
     "output_type": "stream",
     "text": [
      "c + d :  [1, 2, 3, 4, 10, 100, 'Pen', 'Banana', 'Orange']\n",
      "c * 3 :  [1, 2, 3, 4, 1, 2, 3, 4, 1, 2, 3, 4]\n",
      "'hello' + c[0] :  hello1\n"
     ]
    }
   ],
   "source": [
    "print('c + d : ', c+d)\n",
    "print('c * 3 : ', c*3)\n",
    "# print(\"'hello' + c[0] : \", 'hello' + c[0])\n",
    "print(\"'hello' + c[0] : \", 'hello' + str(c[0]))"
   ]
  },
  {
   "cell_type": "markdown",
   "metadata": {},
   "source": [
    "#### 리스트 수정, 삭제"
   ]
  },
  {
   "cell_type": "code",
   "execution_count": 20,
   "metadata": {},
   "outputs": [
    {
     "name": "stdout",
     "output_type": "stream",
     "text": [
      "[77, 'c', 'b', 'b', 'c', 3, 4]\n",
      "[77, 'a', 'b', 'c', 'b', 'b', 'c', 3, 4]\n",
      "[77, ['a', 'b', 'c'], 'b', 'c', 'b', 'b', 'c', 3, 4]\n",
      "[77, 'c', 'b', 'b', 'c', 3, 4]\n",
      "77\n",
      "c\n",
      "b\n",
      "b\n",
      "[77, 'c', 'b', 'c', 3, 4]\n"
     ]
    }
   ],
   "source": [
    "c[0] = 77\n",
    "print(c)    # 수정 가능\n",
    "\n",
    "# 슬라이싱은 삽입이 발생\n",
    "c[1:2] = ['a','b','c']\n",
    "print(c)\n",
    "\n",
    "# 리스트 안에 리스트가 들어감\n",
    "c[1] = ['a','b','c']\n",
    "print(c)\n",
    "\n",
    "# 삭제\n",
    "c[1:3] = []\n",
    "print(c)\n",
    "\n",
    "# del을 이용한 삭제\n",
    "print(c[0])\n",
    "print(c[1])\n",
    "print(c[2])\n",
    "print(c[3])\n",
    "\n",
    "del c[3]\n",
    "print(c)"
   ]
  },
  {
   "cell_type": "markdown",
   "metadata": {},
   "source": [
    "#### 리스트 함수"
   ]
  },
  {
   "cell_type": "code",
   "execution_count": 40,
   "metadata": {},
   "outputs": [
    {
     "name": "stdout",
     "output_type": "stream",
     "text": [
      "[5, 2, 1, 3, 4, 66]\n",
      "[1, 2, 3, 4, 5, 66]\n",
      "[66, 5, 4, 3, 2, 1]\n",
      "1\n",
      "4\n",
      "[66, 5, 7, 4, 3, 2, 1]\n",
      "[66, 5, 7, 4, 3, 2]\n",
      "2\n",
      "[66, 5, 7, 4, 3]\n",
      "3\n",
      "[66, 5, 7, 4]\n",
      "1\n",
      "0\n",
      "2\n",
      "b : [1, 1, 4, 2, 5, 100]\n",
      "b : [1, 1, 4, 2, 5, 100, 8, 9]\n",
      "b : [1, 1, 4, 2, 5, 100, 8, 9, [8, 9]]\n"
     ]
    }
   ],
   "source": [
    "a = [5,2,1,3,4]\n",
    "\n",
    "a.append(66)   #맨 마지막 뒤에 넣는다\n",
    "print(a)\n",
    "\n",
    "# 정렬\n",
    "a.sort()       #기본은 오름차순\n",
    "print(a)\n",
    "\n",
    "a.reverse()    #역순 정렬\n",
    "print(a)\n",
    "\n",
    "print(a.index(5))   # 5의 위치가 어디인지. 인덱스값\n",
    "print(a.index(2))   # 2의 인덱스값\n",
    "\n",
    "a.insert(2,7)      # 2번 인덱스에 7을 삽입\n",
    "print(a)\n",
    "\n",
    "# remove()를 이용한 삭제\n",
    "a.remove(1)        # 데이터 값을 찾아서 삭제\n",
    "print(a)\n",
    "\n",
    "print(a.pop())            # 맨 마지막을 꺼내고 없애버림\n",
    "print(a)\n",
    "print(a.pop())            \n",
    "print(a)\n",
    "\n",
    "# 리스트의 갯수 확인\n",
    "print(a.count(4))        # 해당 값에 대한 갯수가 출력\n",
    "print(a.count(1))\n",
    "\n",
    "b = [1,1,4,2,5,100]\n",
    "print(b.count(1))\n",
    "\n",
    "print('b :',b)\n",
    "ex = [8,9]\n",
    "b.extend(ex)            # 끝 부분에 확장(하나의 원소로 삽입)\n",
    "print('b :',b)\n",
    "b.append(ex)            # 끝 부분에 리스트로 삽입됨\n",
    "print('b :',b)\n",
    "\n",
    "# 리스트 삭제관련 명령 : del, remove, pop"
   ]
  },
  {
   "cell_type": "markdown",
   "metadata": {},
   "source": [
    "#### 튜플"
   ]
  },
  {
   "cell_type": "code",
   "execution_count": 61,
   "metadata": {},
   "outputs": [
    {
     "name": "stdout",
     "output_type": "stream",
     "text": [
      "('a', 'b', 'c')\n",
      "b\n",
      "(10, 100)\n",
      "('b', 'c')\n",
      "c + d : (1, 2, 3, 4, 10, 100, ('a', 'b', 'c'))\n",
      "c + 3 : (1, 2, 3, 4, 3)\n",
      "'hi' + c[0] : hi1\n",
      "True\n",
      "0\n",
      "2\n"
     ]
    }
   ],
   "source": [
    "# 선언\n",
    "a = ()\n",
    "b = (1,)      # 하나짜리는 ,와 함께\n",
    "c = (1,2,3,4)\n",
    "\n",
    "# del c[2] 에러 발생 : immutable 객체이기 때문에\n",
    "d = (10,100,('a','b','c'))     # 튜플 안에 튜플 가능\n",
    "\n",
    "# 인덱싱\n",
    "print(d[2])\n",
    "print(d[2][1])            # b 뽑아내기 (원리는 다 동일)\n",
    "\n",
    "# 슬라이싱\n",
    "print(d[0:2])\n",
    "print(d[2][1:3])\n",
    "\n",
    "# 튜플 연산\n",
    "print('c + d :',c + d)\n",
    "# print('c + 3 :',c + 3)    # 에러\n",
    "print('c + 3 :',c + (3,))   # 튜플 하나짜리 넣을거면 ,꼭 필요오!\n",
    "# print(\"'hi' + c[0] :\",'hi'+c[0])  #에러\n",
    "print(\"'hi' + c[0] :\",'hi' + str(c[0]))\n",
    "\n",
    "# 튜플 함수\n",
    "a = (5,4,3,2,100,100)\n",
    "print(3 in a)\n",
    "print(a.index(5))\n",
    "print(a.count(100))"
   ]
  },
  {
   "cell_type": "code",
   "execution_count": null,
   "metadata": {},
   "outputs": [],
   "source": []
  }
 ],
 "metadata": {
  "kernelspec": {
   "display_name": "Python 3",
   "language": "python",
   "name": "python3"
  },
  "language_info": {
   "codemirror_mode": {
    "name": "ipython",
    "version": 3
   },
   "file_extension": ".py",
   "mimetype": "text/x-python",
   "name": "python",
   "nbconvert_exporter": "python",
   "pygments_lexer": "ipython3",
   "version": "3.7.6"
  }
 },
 "nbformat": 4,
 "nbformat_minor": 4
}
