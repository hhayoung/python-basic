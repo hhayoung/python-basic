{
 "cells": [
  {
   "cell_type": "markdown",
   "metadata": {},
   "source": [
    "* 정규표현식 \n",
    " - regular expression\n",
    " - 특정한 패턴과 일치하는 문자열를 '검색', '치환', '제거' 하는 기능을 지원\n",
    " - 정규표현식의 도움없이 패턴을 찾는 작업(Rule 기반)은 불완전 하거나, 작업의 cost가 높음\n",
    " - e.g) 이메일 형식 판별, 전화번호 형식 판별, 숫자로만 이루어진 문자열 등"
   ]
  },
  {
   "cell_type": "markdown",
   "metadata": {},
   "source": [
    "* **raw string**\n",
    " - 문자열 앞에 r이 붙으면 해당 문자열이 구성된 그대로 문자열로 변환"
   ]
  },
  {
   "cell_type": "code",
   "execution_count": 2,
   "metadata": {},
   "outputs": [
    {
     "name": "stdout",
     "output_type": "stream",
     "text": [
      "abcdef\n",
      "\n",
      "abcdef\\n\n"
     ]
    }
   ],
   "source": [
    "a = 'abcdef\\n'\n",
    "print(a)\n",
    "b = r'abcdef\\n'\n",
    "print(b)"
   ]
  },
  {
   "cell_type": "markdown",
   "metadata": {},
   "source": [
    "#### **기본 패턴**\n",
    " - a, X, 9 등등 문자 하나하나의 character들은 정확히 해당 문자와 일치\n",
    "   - e.g) 패턴 test는 test 문자열과 일치\n",
    "   - 대소문자의 경우 기본적으로 구별하나, 구별하지 않도록 설정 가능\n",
    " - 몇몇 문자들에 대해서는 예외가 존재하는데, 이들은 틀별한 의미로 사용 됨\n",
    "   - . ^ $ * + ? { } [ ] \\ | ( )\n",
    " \n",
    " - . (마침표) - 어떤 한개의 character와 일치 (newline(엔터) 제외)\n",
    " \n",
    " - \\w - 문자 character와 일치 [a-zA-Z0-9_]\n",
    " - \\s - 공백문자와 일치\n",
    " - \\t, \\n, \\r - tab, newline, return\n",
    " - \\d - 숫자 character와 일치 [0-9]\n",
    " - ^ = 시작, $ = 끝 각각 문자열의 시작과 끝을 의미\n",
    " - \\가 붙으면 스페셜한 의미가 없어짐. 예를들어 \\\\.는 .자체를 의미 \\\\\\는 \\를 의미\n",
    " - 자세한 내용은 링크 참조 https://docs.python.org/3/library/re.html"
   ]
  },
  {
   "cell_type": "markdown",
   "metadata": {},
   "source": [
    "#### **search method**\n",
    " - 첫번째로 패턴을 찾으면 match 객체를 반환\n",
    " - 패턴을 찾지 못하면 None 반환"
   ]
  },
  {
   "cell_type": "code",
   "execution_count": 3,
   "metadata": {},
   "outputs": [],
   "source": [
    "import re"
   ]
  },
  {
   "cell_type": "code",
   "execution_count": 10,
   "metadata": {
    "scrolled": true
   },
   "outputs": [
    {
     "name": "stdout",
     "output_type": "stream",
     "text": [
      "0\n",
      "3\n",
      "abc\n",
      "\n",
      "3\n",
      "6\n",
      "abc\n",
      "\n",
      "None\n"
     ]
    },
    {
     "ename": "AttributeError",
     "evalue": "'NoneType' object has no attribute 'start'",
     "output_type": "error",
     "traceback": [
      "\u001b[1;31m---------------------------------------------------------------------------\u001b[0m",
      "\u001b[1;31mAttributeError\u001b[0m                            Traceback (most recent call last)",
      "\u001b[1;32m<ipython-input-10-e62e2c6cd345>\u001b[0m in \u001b[0;36m<module>\u001b[1;34m\u001b[0m\n\u001b[0;32m     14\u001b[0m \u001b[0mm3\u001b[0m \u001b[1;33m=\u001b[0m \u001b[0mre\u001b[0m\u001b[1;33m.\u001b[0m\u001b[0msearch\u001b[0m\u001b[1;33m(\u001b[0m\u001b[1;34mr'abc'\u001b[0m\u001b[1;33m,\u001b[0m\u001b[1;34m'123abdef'\u001b[0m\u001b[1;33m)\u001b[0m  \u001b[1;31m# c지움\u001b[0m\u001b[1;33m\u001b[0m\u001b[1;33m\u001b[0m\u001b[0m\n\u001b[0;32m     15\u001b[0m \u001b[0mprint\u001b[0m\u001b[1;33m(\u001b[0m\u001b[0mm3\u001b[0m\u001b[1;33m)\u001b[0m\u001b[1;33m\u001b[0m\u001b[1;33m\u001b[0m\u001b[0m\n\u001b[1;32m---> 16\u001b[1;33m \u001b[0mprint\u001b[0m\u001b[1;33m(\u001b[0m\u001b[0mm3\u001b[0m\u001b[1;33m.\u001b[0m\u001b[0mstart\u001b[0m\u001b[1;33m(\u001b[0m\u001b[1;33m)\u001b[0m\u001b[1;33m)\u001b[0m  \u001b[1;31m# 에러발생\u001b[0m\u001b[1;33m\u001b[0m\u001b[1;33m\u001b[0m\u001b[0m\n\u001b[0m",
      "\u001b[1;31mAttributeError\u001b[0m: 'NoneType' object has no attribute 'start'"
     ]
    }
   ],
   "source": [
    "# search() : Match 객체를 리턴한다.\n",
    "m = re.search(r'abc','abcdef')\n",
    "type(m) # re.Match\n",
    "print(m.start())  # 0\n",
    "print(m.end())  # 3\n",
    "print(m.group())  # 매칭된 값을 가져온다.\n",
    "print()\n",
    "m2 = re.search(r'abc','123abcdef')\n",
    "type(m2) # re.Match\n",
    "print(m2.start())  # 3\n",
    "print(m2.end())  # 6\n",
    "print(m2.group())  # 매칭된 값을 가져온다.\n",
    "print()\n",
    "m3 = re.search(r'abc','123abdef')  # c지움\n",
    "print(m3)  # None발생\n",
    "print(m3.start())  # 에러발생\n",
    "print(m3.end())  # 당연히 에러\n",
    "print(m3.group())  # 이것도 에러"
   ]
  },
  {
   "cell_type": "code",
   "execution_count": 14,
   "metadata": {
    "scrolled": true
   },
   "outputs": [
    {
     "name": "stdout",
     "output_type": "stream",
     "text": [
      "<re.Match object; span=(0, 4), match='112a'>\n"
     ]
    }
   ],
   "source": [
    "m = re.search(r'\\d\\d','112abcdef119')  # \\d: 숫자를 뜻함. match='11'\n",
    "m = re.search(r'\\d\\d\\d','112abcdef119')  # match='112'\n",
    "m = re.search(r'\\d\\d\\d\\d','112abcdef119') # None\n",
    "m = re.search(r'\\d\\d\\d\\w','112abcdef119') # \\w: 문자. match='112a'\n",
    "print(m)"
   ]
  },
  {
   "cell_type": "code",
   "execution_count": 15,
   "metadata": {},
   "outputs": [
    {
     "data": {
      "text/plain": [
       "<re.Match object; span=(1, 5), match='&%AB'>"
      ]
     },
     "execution_count": 15,
     "metadata": {},
     "output_type": "execute_result"
    }
   ],
   "source": [
    "m = re.search(r'..\\w\\w','@@&%ABCDabcd') # .:문자 하나, \\w: 문자. (@은 읽지 못함) match='&%AB'\n",
    "m"
   ]
  },
  {
   "cell_type": "markdown",
   "metadata": {},
   "source": [
    "#### **metacharacters (메타 캐릭터)**"
   ]
  },
  {
   "cell_type": "markdown",
   "metadata": {},
   "source": [
    "#### **[]** 문자들의 범위를 나타내기 위해 사용\n",
    "   - [] 내부의 메타 캐릭터는 캐릭터 자체를 나타냄\n",
    "   - e.g)\n",
    "   - [abck] : a or b or c or k\n",
    "   - [abc.^] : a or b or c or . or ^(여기서의 . 과 ^는 문자 그대로를 의미)\n",
    "   - [a-d]  : -와 함께 사용되면 해당 문자 사이의 범위에 속하는 문자 중 하나\n",
    "   - [0-9]  : 모든 숫자\n",
    "   - [a-z]  : 모든 소문자\n",
    "   - [A-Z]  : 모든 대문자\n",
    "   - [a-zA-Z0-9] : 모든 알파벳 문자 및 숫자\n",
    "   - [^0-9] : ^가 맨 앞에 사용 되는 경우 해당 문자 패턴이 아닌 것과 매칭(숫자가 아닌 것)"
   ]
  },
  {
   "cell_type": "code",
   "execution_count": 26,
   "metadata": {
    "scrolled": true
   },
   "outputs": [
    {
     "name": "stdout",
     "output_type": "stream",
     "text": [
      "None\n"
     ]
    }
   ],
   "source": [
    "m = re.search(r'[cbm]at','cat') # [cbm]: c,b,m중에 하나. match='cat'\n",
    "m = re.search(r'[cbm]at','bat') # match='bat'\n",
    "m = re.search(r'[cbm]at','aat') # None\n",
    "print(m)"
   ]
  },
  {
   "cell_type": "code",
   "execution_count": 24,
   "metadata": {},
   "outputs": [
    {
     "name": "stdout",
     "output_type": "stream",
     "text": [
      "None\n"
     ]
    }
   ],
   "source": [
    "m = re.search(r'[0-9]haha','2hahah')  # match='2haha'\n",
    "m = re.search(r'[0-4]haha','8hahah')  # None\n",
    "print(m)"
   ]
  },
  {
   "cell_type": "code",
   "execution_count": 32,
   "metadata": {},
   "outputs": [
    {
     "name": "stdout",
     "output_type": "stream",
     "text": [
      "None\n"
     ]
    }
   ],
   "source": [
    "m = re.search(r'[abc.^]aron','caron') # o\n",
    "m = re.search(r'[abc.^]aron','.aron') # o\n",
    "m = re.search(r'[abc.^]aron','^aron') # o\n",
    "m = re.search(r'[abc.^]aron','daron') # x\n",
    "print(m)"
   ]
  },
  {
   "cell_type": "code",
   "execution_count": 36,
   "metadata": {},
   "outputs": [
    {
     "name": "stdout",
     "output_type": "stream",
     "text": [
      "<re.Match object; span=(0, 5), match='2aron'>\n"
     ]
    }
   ],
   "source": [
    "m = re.search(r'[^abc]','aaron') # match='r'\n",
    "m = re.search(r'[^abc]aron','aaron') # None.  [^]: 대괄호 안의 맨앞 ^은 부정을 뜻함.\n",
    "m = re.search(r'[^abc]aron','2aron') # match='2aron'\n",
    "print(m)"
   ]
  },
  {
   "cell_type": "markdown",
   "metadata": {},
   "source": [
    "#### **\\** \n",
    " 1. 다른 문자와 함께 사용되어 특수한 의미를 지님\n",
    "   - \\d : 숫자를          [0-9]와 동일\n",
    "   - \\D : 숫자가 아닌 문자  [^0-9]와 동일\n",
    "   - \\s : 공백 문자(띄어쓰기, 탭, 엔터 등)\n",
    "   - \\S : 공백이 아닌 문자\n",
    "   - \\w : 알파벳대소문자, 숫자 [0-9a-zA-Z]와 동일\n",
    "   - \\W : non alpha-numeric 문자 [^0-9a-zA-Z]와 동일\n",
    " 2. 메타 캐릭터가 캐릭터 자체를 표현하도록 할 경우 사용\n",
    "   - \\\\. , \\\\\\\n"
   ]
  },
  {
   "cell_type": "code",
   "execution_count": 41,
   "metadata": {},
   "outputs": [
    {
     "name": "stdout",
     "output_type": "stream",
     "text": [
      "<re.Match object; span=(6, 10), match='land'>\n"
     ]
    }
   ],
   "source": [
    "m = re.search('\\sand','apple and banana') # match=' and' 공백이 들어간 and 찾기\n",
    "m = re.search('\\Sand','apple and banana') # None 공백이 안들어간 and가 없어서\n",
    "m = re.search('\\Sand','apple land banana') # match='land'\n",
    "print(m)"
   ]
  },
  {
   "cell_type": "code",
   "execution_count": 44,
   "metadata": {},
   "outputs": [
    {
     "name": "stdout",
     "output_type": "stream",
     "text": [
      "<re.Match object; span=(6, 10), match='.and'>\n"
     ]
    }
   ],
   "source": [
    "m = re.search(r'\\.and','apple and banana') # None .and가 없으니까\n",
    "m = re.search(r'\\.and','apple .and banana') # match='.and'\n",
    "print(m)"
   ]
  },
  {
   "cell_type": "markdown",
   "metadata": {},
   "source": [
    "#### **.** \n",
    " - 모든 문자를 의미"
   ]
  },
  {
   "cell_type": "code",
   "execution_count": 47,
   "metadata": {},
   "outputs": [
    {
     "name": "stdout",
     "output_type": "stream",
     "text": [
      "<re.Match object; span=(0, 3), match='p/g'>\n"
     ]
    }
   ],
   "source": [
    "m = re.search('p.g','p//g') # None. .하나는 문자하나\n",
    "m = re.search('p.g','p/g') # match='p/g'\n",
    "print(m)"
   ]
  },
  {
   "cell_type": "markdown",
   "metadata": {},
   "source": [
    "#### **반복패턴**\n",
    " - 패턴 뒤에 위치하는 *, +, ?는 해당 패턴이 반복적으로 존재하는지 검사 \n",
    "   - '+' -> 1번 이상의 패턴이 발생\n",
    "   - '*' -> 0번 이상의 패턴이 발생\n",
    "   - '?' -> 0 혹은 1번의 패턴이 발생\n",
    " - 반복을 패턴의 경우 greedy하게 검색 함, 즉 가능한 많은 부분이 매칭되도록 함\n",
    "  - e.g) a[bcd]*b  패턴을 abcbdccb에서 검색하는 경우\n",
    "    - ab, abcb, abcbdccb 전부 가능 하지만 최대한 많은 부분이 매칭된 abcbdccb가 검색된 패턴"
   ]
  },
  {
   "cell_type": "code",
   "execution_count": 49,
   "metadata": {},
   "outputs": [
    {
     "name": "stdout",
     "output_type": "stream",
     "text": [
      "<re.Match object; span=(0, 8), match='abcbdccb'>\n"
     ]
    }
   ],
   "source": [
    "# a[bcd]*b : bcd중에 하나가 0번 이상인 것.\n",
    "m = re.search('a[bcd]*b', 'ab')\n",
    "m = re.search('a[bcd]*b', 'abcbdccb')\n",
    "print(m)"
   ]
  },
  {
   "cell_type": "code",
   "execution_count": 52,
   "metadata": {
    "scrolled": true
   },
   "outputs": [
    {
     "data": {
      "text/plain": [
       "<re.Match object; span=(0, 4), match='b12a'>"
      ]
     },
     "execution_count": 52,
     "metadata": {},
     "output_type": "execute_result"
    }
   ],
   "source": [
    "m = re.search('b\\w+a','banana') # \\w+ : 아무문자나 1회이상 다 반복\n",
    "m = re.search('b\\w+a','ba') # +는 1회이상인데, 아예 없기 때문에 None\n",
    "m = re.search('b\\w+a','b12a') # 숫자도 가능\n",
    "m"
   ]
  },
  {
   "cell_type": "code",
   "execution_count": 53,
   "metadata": {
    "scrolled": true
   },
   "outputs": [
    {
     "name": "stdout",
     "output_type": "stream",
     "text": [
      "<re.Match object; span=(1, 3), match='ii'>\n"
     ]
    }
   ],
   "source": [
    "m = re.search('i+','piigiiii') # i가 1회이상인 것 찾고 끝내기\n",
    "\n",
    "print(m)"
   ]
  },
  {
   "cell_type": "code",
   "execution_count": 55,
   "metadata": {},
   "outputs": [
    {
     "name": "stdout",
     "output_type": "stream",
     "text": [
      "<re.Match object; span=(0, 4), match='piig'>\n"
     ]
    }
   ],
   "source": [
    "m = re.search('pi+g','piigiiii')\n",
    "print(m)"
   ]
  },
  {
   "cell_type": "code",
   "execution_count": 57,
   "metadata": {},
   "outputs": [
    {
     "name": "stdout",
     "output_type": "stream",
     "text": [
      "None\n"
     ]
    }
   ],
   "source": [
    "m = re.search('pi+g','pgiiii')\n",
    "print(m)"
   ]
  },
  {
   "cell_type": "code",
   "execution_count": 58,
   "metadata": {
    "scrolled": true
   },
   "outputs": [
    {
     "name": "stdout",
     "output_type": "stream",
     "text": [
      "<re.Match object; span=(0, 2), match='pg'>\n"
     ]
    }
   ],
   "source": [
    "m = re.search('pi*g','pgiiii') # *는 0번이상이니까 가능\n",
    "print(m)"
   ]
  },
  {
   "cell_type": "code",
   "execution_count": 61,
   "metadata": {},
   "outputs": [
    {
     "name": "stdout",
     "output_type": "stream",
     "text": [
      "<re.Match object; span=(0, 4), match='http'>\n"
     ]
    }
   ],
   "source": [
    "m = re.search('https?','https://www.google.com') # ? : 있거나 없거나. match='https'\n",
    "m = re.search('https?','http://www.google.com') # match='http'\n",
    "m = re.search('https?','httpd://www.google.com')\n",
    "print(m)"
   ]
  },
  {
   "cell_type": "markdown",
   "metadata": {},
   "source": [
    "#### **^**, **$**\n",
    " - ^  문자열의 맨 앞부터 일치하는 경우 검색\n",
    " - \\$  문자열의 맨 뒤부터 일치하는 경우 검색"
   ]
  },
  {
   "cell_type": "code",
   "execution_count": 62,
   "metadata": {
    "scrolled": true
   },
   "outputs": [
    {
     "name": "stdout",
     "output_type": "stream",
     "text": [
      "<re.Match object; span=(2, 6), match='bana'>\n"
     ]
    }
   ],
   "source": [
    "m = re.search('b\\w+a','cabana')\n",
    "print(m)"
   ]
  },
  {
   "cell_type": "code",
   "execution_count": 63,
   "metadata": {
    "scrolled": true
   },
   "outputs": [
    {
     "name": "stdout",
     "output_type": "stream",
     "text": [
      "None\n"
     ]
    }
   ],
   "source": [
    "# 시작부터 일치하지 않음. b로 시작하지 않기 때문에\n",
    "m = re.search('^b\\w+a','cabana')\n",
    "print(m)"
   ]
  },
  {
   "cell_type": "code",
   "execution_count": 64,
   "metadata": {
    "scrolled": true
   },
   "outputs": [
    {
     "name": "stdout",
     "output_type": "stream",
     "text": [
      "<re.Match object; span=(0, 6), match='babana'>\n"
     ]
    }
   ],
   "source": [
    "m = re.search('^b\\w+a','babana')\n",
    "print(m)"
   ]
  },
  {
   "cell_type": "code",
   "execution_count": 65,
   "metadata": {},
   "outputs": [
    {
     "data": {
      "text/plain": [
       "<re.Match object; span=(2, 6), match='bana'>"
      ]
     },
     "execution_count": 65,
     "metadata": {},
     "output_type": "execute_result"
    }
   ],
   "source": [
    "m = re.search('b\\w+a$','cabana')\n",
    "m"
   ]
  },
  {
   "cell_type": "code",
   "execution_count": 67,
   "metadata": {},
   "outputs": [],
   "source": [
    "# a로 끝나지 않아서 매치 안됨.\n",
    "m = re.search('b\\w+a$','cabanas')\n",
    "m"
   ]
  },
  {
   "cell_type": "markdown",
   "metadata": {},
   "source": [
    " #### **grouping**\n",
    "  - ()을 사용하여 그루핑\n",
    "  - 매칭 결과를 각 그룹별로 분리 가능\n",
    "  - 패턴 명시 할 때, 각 그룹을 괄호() 안에 넣어 분리하여 사용"
   ]
  },
  {
   "cell_type": "code",
   "execution_count": 74,
   "metadata": {},
   "outputs": [
    {
     "name": "stdout",
     "output_type": "stream",
     "text": [
      "test\n",
      "gmail.com\n",
      "test@gmail.com\n",
      "<re.Match object; span=(0, 14), match='test@gmail.com'>\n"
     ]
    }
   ],
   "source": [
    "m = re.search(r'\\w+@.+','test@gmail.com') # @다음에 아무문자 다 반복\n",
    "\n",
    "# 그루핑\n",
    "m = re.search(r'(\\w+)@(.+)','test@gmail.com')\n",
    "print(m.group(1)) # 1번째 그룹\n",
    "print(m.group(2)) # 2번째 그룹\n",
    "print(m.group(0)) # 기본값\n",
    "\n",
    "print(m)"
   ]
  },
  {
   "cell_type": "markdown",
   "metadata": {},
   "source": [
    " #### **{}**\n",
    "  - *, +, ?을 사용하여 반복적인 패턴을 찾는 것이 가능하나, 반복의 횟수 제한은 불가\n",
    "  - 패턴뒤에 위치하는 중괄호{}에 숫자를 명시하면 해당 숫자 만큼의 반복인 경우에만 매칭\n",
    "  - {4} - 4번 반복\n",
    "  - {3,4} - 3 ~ 4번 반복"
   ]
  },
  {
   "cell_type": "code",
   "execution_count": 110,
   "metadata": {},
   "outputs": [
    {
     "name": "stdout",
     "output_type": "stream",
     "text": [
      "<re.Match object; span=(0, 4), match='piii'>\n",
      "None\n"
     ]
    }
   ],
   "source": [
    "# 무제한 반복하면 안되니까 {}로 조절\n",
    "m = re.search('pi+g','piiiiiiig') # match='piiiiiiig'\n",
    "m = re.search('pi{3}g','piiiiiiig') # None\n",
    "m = re.search('pi{3}g','piiig') # match='piiig'\n",
    "# 3~6번 반복\n",
    "m = re.search('pi{3,6}g','piiiiiig') # match='piiiiiig'\n",
    "# i가 6을 초과하면 검색안됨.\n",
    "m = re.search('pi{3,6}g','piiiiiiiiig') # None\n",
    "print(m)"
   ]
  },
  {
   "cell_type": "markdown",
   "metadata": {},
   "source": [
    "#### **미니멈 매칭(non-greedy way)**\n",
    " - 기본적으로 *, +, ?를 사용하면 greedy(맥시멈 매칭)하게 동작함\n",
    " - *?, +?을 이용하여 해당 기능을 구현"
   ]
  },
  {
   "cell_type": "code",
   "execution_count": 83,
   "metadata": {},
   "outputs": [
    {
     "name": "stdout",
     "output_type": "stream",
     "text": [
      "<re.Match object; span=(0, 20), match='<div>Regextest</div>'>\n"
     ]
    }
   ],
   "source": [
    "# ?가 붙으면 최소한으로 동작\n",
    "m = re.search(r'<.+>','<div>Regextest</div>') # match='<div>Regextest</div>'\n",
    "m = re.search(r'<.+?>','<div>Regextest</div>') # match='<div>'\n",
    "print(m)"
   ]
  },
  {
   "cell_type": "markdown",
   "metadata": {},
   "source": [
    "#### **{}?**\n",
    " - {m,n}의 경우 m번 에서 n번 반복하나 greedy하게 동작\n",
    " - {m,n}?로 사용하면 non-greedy하게 동작. 즉, 최소 m번만 매칭하면 만족"
   ]
  },
  {
   "cell_type": "code",
   "execution_count": 85,
   "metadata": {},
   "outputs": [
    {
     "name": "stdout",
     "output_type": "stream",
     "text": [
      "<re.Match object; span=(0, 3), match='aaa'>\n"
     ]
    }
   ],
   "source": [
    "m = re.search(r'a{3,5}','aaaaa') # match='aaaaa'\n",
    "# 최소로 동작\n",
    "m = re.search(r'a{3,5}?','aaaaa') # match='aaa'\n",
    "print(m)"
   ]
  },
  {
   "cell_type": "markdown",
   "metadata": {},
   "source": [
    "#### **match함수**\n",
    " - search와 유사하나, 주어진 문자열의 시작부터 비교하여 패턴이 있는지 확인\n",
    " - 시작부터 해당 패턴이 존재하지 않다면 None 반환"
   ]
  },
  {
   "cell_type": "code",
   "execution_count": 88,
   "metadata": {},
   "outputs": [
    {
     "name": "stdout",
     "output_type": "stream",
     "text": [
      "None\n"
     ]
    }
   ],
   "source": [
    "m = re.search(r'\\d\\d\\d','your number is 123') # match='123'\n",
    "m = re.match(r'\\d\\d\\d','your number is 123') # None\n",
    "print(m)"
   ]
  },
  {
   "cell_type": "code",
   "execution_count": 90,
   "metadata": {},
   "outputs": [
    {
     "name": "stdout",
     "output_type": "stream",
     "text": [
      "<re.Match object; span=(0, 3), match='123'>\n"
     ]
    }
   ],
   "source": [
    "m = re.match(r'\\d\\d\\d','123 is your number')\n",
    "print(m)"
   ]
  },
  {
   "cell_type": "markdown",
   "metadata": {},
   "source": [
    "#### **findall**\n",
    " - search가 최초로 매칭되는 패턴만 반환한다면, findall은 매칭되는 전체의 패턴을 반환\n",
    " - 매칭되는 모든 결과를 리스트 형태로 반환"
   ]
  },
  {
   "cell_type": "code",
   "execution_count": 91,
   "metadata": {},
   "outputs": [
    {
     "data": {
      "text/plain": [
       "['test@gmail.com', 'test2@gmail.com']"
      ]
     },
     "execution_count": 91,
     "metadata": {},
     "output_type": "execute_result"
    }
   ],
   "source": [
    "# [0-9],[a-d] : 연속된 문자, 연속된 숫자\n",
    "# '-'문자가 앞이나 뒤에 오는 경우 일반 '-'문자 의미\n",
    "m = re.findall(r'[\\w-]+@[\\w.]+','test@gmail.com hello test2@gmail.com good test test')\n",
    "m"
   ]
  },
  {
   "cell_type": "markdown",
   "metadata": {},
   "source": [
    "#### **sub**\n",
    " - 주어진 문자열에서 일치하는 모든 패턴을 replace\n",
    " - 그 결과를 문자열로 다시 반환함\n",
    " - 두번째 인자는 특정 문자열이 될 수도 있고, 함수가 될 수 도 있음\n",
    " - count가 0인 경우는 전체를, 1이상이면 해당 숫자만큼 치환 됨"
   ]
  },
  {
   "cell_type": "code",
   "execution_count": 93,
   "metadata": {},
   "outputs": [
    {
     "data": {
      "text/plain": [
       "'great hello test2@gmail.com good test test'"
      ]
     },
     "execution_count": 93,
     "metadata": {},
     "output_type": "execute_result"
    }
   ],
   "source": [
    "# 이메일 패턴을 great으로 교체\n",
    "m = re.sub(r'[\\w-]+@[\\w.]+','great','test@gmail.com hello test2@gmail.com good test test')\n",
    "\n",
    "# count 인자를 이용하여 원하는 만큼 교체\n",
    "m = re.sub(r'[\\w-]+@[\\w.]+','great','test@gmail.com hello test2@gmail.com good test test',count=1)\n",
    "m"
   ]
  },
  {
   "cell_type": "markdown",
   "metadata": {},
   "source": [
    "#### **compile함수**\n",
    " - 동일한 정규표현식을 매번 다시 쓰기 번거로움을 해결\n",
    " - compile로 해당표현식을 re.RegexObject 객체로 저장하여 사용가능"
   ]
  },
  {
   "cell_type": "code",
   "execution_count": 94,
   "metadata": {},
   "outputs": [
    {
     "data": {
      "text/plain": [
       "<re.Match object; span=(0, 14), match='test@naver.com'>"
      ]
     },
     "execution_count": 94,
     "metadata": {},
     "output_type": "execute_result"
    }
   ],
   "source": [
    "email_pattern = re.compile(r'[\\w-]+@[\\w.]+')\n",
    "\n",
    "email_pattern.search('test@naver.com good hello world ')"
   ]
  },
  {
   "cell_type": "markdown",
   "metadata": {},
   "source": [
    "### 연습문제 \n",
    "  - 아래 뉴스에서 이메일 주소를 추출해 보세요\n",
    "  - 다음중 올바른 (http, https) 웹페이지만 찾으시오"
   ]
  },
  {
   "cell_type": "code",
   "execution_count": 100,
   "metadata": {
    "scrolled": true
   },
   "outputs": [
    {
     "name": "stdout",
     "output_type": "stream",
     "text": [
      "[서울=뉴시스] 홍지은 기자 = 정세균 국무총리는 의사협회가 의대 정원 확대에 반대하며 오는 14일 집단휴진을 예고한 데 대해 \"국민의 생명과 안전을 담보로 한 집단행동은 결코 신뢰와 지지를 얻기 힘들 것\"이라고 경고했다.정 총리는 12일 오전 정부서울청사에서 코로나19(신종 코로나바이러스 감염증) 중앙재난안전대책본부 회의를 주재하며 모두발언을 통해 이같이 말한 뒤 \"의사협회는 집단휴진을 철회하고 정부와 진정성있는 대화에 나서주실 것을 다시 한번 촉구한다\"고 요청했다.정 총리는 \"정부는 의사협회가 제안한 협의체 구성에 대해 이미 수용 의사를 밝혔고, 열린 자세로 의료계와 소통하기 위해 대화의 문을 계속 두드리고 있다\"며 \"의사협회는 하루빨리 대화의 장으로 나와 복지부와 함께 지혜를 모아 주시기 바란다\"고 거듭 촉구했다.그러면서 의대 정원 확대에 대한 당위성도 부여했다. 정 총리는 \"2006년 이후 15년 가까이 의대 정원이 동결되면서 우리나라의 의사 수는 OECD(경제협력개발기구) 평균 수준에 크게 못 미치고 있다\"며 \"더군다나 의사의 절반 이상이 수도권에 집중되어 지역 간 의료격차가 매우 크다\"고 우려했다.이어 \"이번 의대정원 확대는 고질적인 의료수급 불균형을 해소하고 부족한 공공의료를 확충하기 위해 시급한 과제임을 강조 드린다\"고 말했다.한편, 기록적 폭우로 인한 전국 곳곳에 막대한 피해가 발생한 데 대해 \"정부는 실의에 빠진 수재민들께서 희망을 되찾을 수 있도록 충분한 지원을 아끼지 않겠다\"며 \"이번 수해를 극복하는 과정에서 '재난 안전망'을 더욱 탄탄하게 구축하겠다\"고 밝혔다.11일 국무회의에서 코로나19 방역역량 강화를 위한 정부조직법 및 감염병예방법 개정공포안이 의결된 데 대해선 \"복지부, 행안부 등 관계부처는 시행령 개정 등 신속한 법 시행을 위한 준비에 만전을 기해 주시기 바란다\"고 지시했다.개정공포안 의결로 질병관리본부는 질병관리청으로 승격돼 국가 감염병 관리의 중추적 역할을 하게 된다. 또 방역수칙 위반행위에 대한 과태료 부과 등 제재도 강화되며, 해외에서 입국하는 외국인에 대해서는 상호주의 원칙에 따라 감염병 치료비 등을 본인이 부담토록 할 수 있게 됐다.☞공감언론 뉴시스 rediu@newsis.com \n",
      "검색된 이메일 :  rediu@newsis.com\n"
     ]
    }
   ],
   "source": [
    "import requests\n",
    "from bs4 import BeautifulSoup\n",
    "import re\n",
    "# 위의 두 모듈이 없는 경우에는 pip install requests bs4 실행\n",
    "\n",
    "def get_news_content(url):\n",
    "    response = requests.get(url)\n",
    "    content = response.text\n",
    "\n",
    "    soup = BeautifulSoup(content, 'lxml')\n",
    "\n",
    "    div = soup.find('div', attrs = {'id' : 'harmonyContainer'})\n",
    "    \n",
    "    content = ''\n",
    "    for paragraph in div.find_all('p'):\n",
    "        content += paragraph.get_text()\n",
    "        \n",
    "    return content\n",
    "\n",
    "news1 = get_news_content('https://news.v.daum.net/v/20200812115313963')\n",
    "print(news1)\n",
    "\n",
    "# 이메일 값 찾기\n",
    "email = re.search(r'[\\w-]+@[\\w.]+',news1)\n",
    "print('검색된 이메일 : ', email.group())"
   ]
  },
  {
   "cell_type": "code",
   "execution_count": 102,
   "metadata": {},
   "outputs": [
    {
     "data": {
      "text/plain": [
       "<re.Match object; span=(0, 14), match='test@naver.com'>"
      ]
     },
     "execution_count": 102,
     "metadata": {},
     "output_type": "execute_result"
    }
   ],
   "source": [
    "# a[.]b는 'a.b'와 매칭됨. a8b와 매칭되지 않음\n",
    "email_pattern = re.compile(r'[\\w-]+@[\\w.]+\\w+')\n",
    "email_pattern.search('test@naver.com. hello world')"
   ]
  },
  {
   "cell_type": "code",
   "execution_count": 103,
   "metadata": {},
   "outputs": [],
   "source": [
    "webs = ['http://www.test.co.kr', \n",
    "        'https://www.test1.com', \n",
    "        'http://www.test.com', \n",
    "        'ftp://www.test.com', \n",
    "        'http:://www.test.com',\n",
    "       'htp://www.test.com',\n",
    "       'http://www.google.com', \n",
    "       'https://www.homepage.com.']"
   ]
  },
  {
   "cell_type": "code",
   "execution_count": 109,
   "metadata": {},
   "outputs": [
    {
     "data": {
      "text/plain": [
       "[True, True, True, False, False, False, True, False]"
      ]
     },
     "execution_count": 109,
     "metadata": {},
     "output_type": "execute_result"
    }
   ],
   "source": [
    "# ftp랑 htp는 제거하고 찾고 싶으면\n",
    "url_pattern = re.compile(r'https?://[\\w.]+\\w+$')\n",
    "list(map(lambda x:url_pattern.search(x) != None,webs))"
   ]
  }
 ],
 "metadata": {
  "kernelspec": {
   "display_name": "Python 3",
   "language": "python",
   "name": "python3"
  },
  "language_info": {
   "codemirror_mode": {
    "name": "ipython",
    "version": 3
   },
   "file_extension": ".py",
   "mimetype": "text/x-python",
   "name": "python",
   "nbconvert_exporter": "python",
   "pygments_lexer": "ipython3",
   "version": "3.7.7"
  }
 },
 "nbformat": 4,
 "nbformat_minor": 1
}
