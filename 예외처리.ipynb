{
 "cells": [
  {
   "cell_type": "markdown",
   "metadata": {},
   "source": [
    "### 예외처리 기본 구문\n",
    "- try : 에러가 발생이 예상되는 코드를 실행하는 블럭\n",
    "- except 에러명1(ValueError): 에러를 받아서 처리해주는 블럭\n",
    "- except 에러명2(TypeError): except 블럭은 여러 개가 가능하다.\n",
    "- else : try 블럭에서 에러가 없이 수행될 경우 실행되는 블럭\n",
    "- finally : 반드시 실행되는 블럭"
   ]
  },
  {
   "cell_type": "code",
   "execution_count": 6,
   "metadata": {},
   "outputs": [
    {
     "name": "stdout",
     "output_type": "stream",
     "text": [
      "에러 발생\n",
      "참조 Value 값이 없습니다!!\n"
     ]
    }
   ],
   "source": [
    "# e.g>\n",
    "city = ['Seoul','Incheon','Daegu']\n",
    "\n",
    "try:\n",
    "#     a = 'Seoul'\n",
    "    a = 'Busan'\n",
    "    b = city.index(a)\n",
    "    print(f'{b}는 대한민국의 도시입니다.')\n",
    "except ValueError:\n",
    "    print('에러 발생')\n",
    "    print('참조 Value 값이 없습니다!!')\n",
    "else:\n",
    "    print('Okay!!!')"
   ]
  },
  {
   "cell_type": "code",
   "execution_count": 7,
   "metadata": {},
   "outputs": [
    {
     "name": "stdout",
     "output_type": "stream",
     "text": [
      "에러 발생\n",
      "참조 Value 값이 없습니다!!\n"
     ]
    }
   ],
   "source": [
    "# e.g>\n",
    "city = ['Seoul','Incheon','Daegu']\n",
    "\n",
    "try:\n",
    "#     a = 'Seoul'\n",
    "    a = 'Busan'\n",
    "    b = city.index(a)\n",
    "    print(f'{b}는 대한민국의 도시입니다.')\n",
    "except:   # 모든 에러를 처리하겠다는 의미\n",
    "    print('에러 발생')\n",
    "    print('참조 Value 값이 없습니다!!')\n",
    "else:\n",
    "    print('Okay!!!')"
   ]
  },
  {
   "cell_type": "code",
   "execution_count": 11,
   "metadata": {},
   "outputs": [
    {
     "name": "stdout",
     "output_type": "stream",
     "text": [
      "'Busan' is not in list\n",
      "반드시 실행\n"
     ]
    }
   ],
   "source": [
    "# e.g>\n",
    "city = ['Seoul','Incheon','Daegu']\n",
    "\n",
    "try:\n",
    "#     a = 'Seoul'\n",
    "    a = 'Busan'\n",
    "    b = city.index(a)\n",
    "    print(f'{b}는 대한민국의 도시입니다.')\n",
    "except Exception as e:   # 모든 except의 부모 Exception\n",
    "    print(e)    # 에러의 이유가 나온다.\n",
    "else:\n",
    "    print('Okay!!!')\n",
    "finally:  # 에러가 발생하든 안하든 무조건 출력된다.\n",
    "    print('반드시 실행')"
   ]
  },
  {
   "cell_type": "code",
   "execution_count": 12,
   "metadata": {},
   "outputs": [
    {
     "name": "stdout",
     "output_type": "stream",
     "text": [
      "에러 예상 코드\n",
      "반드시 실행\n"
     ]
    }
   ],
   "source": [
    "# 무조건 수행되는 코드\n",
    "try:\n",
    "    print('에러 예상 코드')\n",
    "finally:\n",
    "    print('반드시 실행')"
   ]
  },
  {
   "cell_type": "code",
   "execution_count": 15,
   "metadata": {},
   "outputs": [
    {
     "name": "stdout",
     "output_type": "stream",
     "text": [
      "반드시 실행\n"
     ]
    }
   ],
   "source": [
    "city = ['Seoul','Incheon','Daegu']\n",
    "\n",
    "try:\n",
    "#     a = 'Seoul'\n",
    "    a = 'Busan'\n",
    "    b = city.index(a)\n",
    "    print(f'{b}는 대한민국의 도시입니다.')\n",
    "except:   # = except Exception: Exception이 생략된 것과 같다.\n",
    "    pass  # 임시로 에러 해결할 경우 예외 처리\n",
    "else:\n",
    "    print('okay')\n",
    "finally:\n",
    "    print('반드시 실행')"
   ]
  },
  {
   "cell_type": "code",
   "execution_count": 16,
   "metadata": {},
   "outputs": [
    {
     "name": "stdout",
     "output_type": "stream",
     "text": [
      "참조 Value 잘못 되었습니다. \n",
      "반드시 실행\n"
     ]
    }
   ],
   "source": [
    "# 여러 개의 except 블럭 사용 가능\n",
    "\n",
    "city = ['Seoul','Incheon','Daegu']\n",
    "\n",
    "try:\n",
    "#     a = 'Seoul'\n",
    "    a = 'Busan'\n",
    "    b = city.index(a)\n",
    "    print(f'{b}는 대한민국의 도시입니다.')\n",
    "except ValueError:\n",
    "    print('참조 Value 잘못 되었습니다. ')\n",
    "# 위에서 Error가 발생하면 여기로 오지 않고 빠져나간다.\n",
    "except IndexError:  \n",
    "    print('Index 에러 입니다.')\n",
    "else:\n",
    "    print('Okay')\n",
    "finally:\n",
    "    print('반드시 실행')"
   ]
  },
  {
   "cell_type": "code",
   "execution_count": 18,
   "metadata": {},
   "outputs": [
    {
     "ename": "SyntaxError",
     "evalue": "default 'except:' must be last (<ipython-input-18-92d240d39179>, line 10)",
     "output_type": "error",
     "traceback": [
      "\u001b[1;36m  File \u001b[1;32m\"<ipython-input-18-92d240d39179>\"\u001b[1;36m, line \u001b[1;32m10\u001b[0m\n\u001b[1;33m    except ValueError:\u001b[0m\n\u001b[1;37m                     ^\u001b[0m\n\u001b[1;31mSyntaxError\u001b[0m\u001b[1;31m:\u001b[0m default 'except:' must be last\n"
     ]
    }
   ],
   "source": [
    "city = ['Seoul','Incheon','Daegu']\n",
    "\n",
    "try:\n",
    "#     a = 'Seoul'\n",
    "    a = 'Busan'\n",
    "    b = city.index(a)\n",
    "    print(f'{b}는 대한민국의 도시입니다.')\n",
    "except:\n",
    "    print('에러 발생')\n",
    "except ValueError:\n",
    "    print('참조 Value 잘못 되었습니다. ')\n",
    "except IndexError:  \n",
    "    print('Index 에러 입니다.')\n",
    "else:\n",
    "    print('Okay')\n",
    "finally:\n",
    "    print('반드시 실행')"
   ]
  },
  {
   "cell_type": "code",
   "execution_count": 20,
   "metadata": {},
   "outputs": [
    {
     "name": "stdout",
     "output_type": "stream",
     "text": [
      "참조 Value 잘못 되었습니다. \n",
      "반드시 실행\n"
     ]
    }
   ],
   "source": [
    "# 예상할 수 있는 에러이면 위에 적어주고,\n",
    "# 나머지는 어떻게 발생할지 모를 때, \n",
    "# 2개의 에러 밑에 except를 적어준다.\n",
    "\n",
    "city = ['Seoul','Incheon','Daegu']\n",
    "\n",
    "try:\n",
    "#     a = 'Seoul'\n",
    "    a = 'Busan'\n",
    "    b = city.index(a)\n",
    "    print(f'{b}는 대한민국의 도시입니다.')\n",
    "\n",
    "except ValueError:\n",
    "    print('참조 Value 잘못 되었습니다. ')\n",
    "except IndexError:  \n",
    "    print('Index 에러 입니다.')\n",
    "except:\n",
    "    print('에러 발생')\n",
    "else:\n",
    "    print('Okay')\n",
    "finally:\n",
    "    print('반드시 실행')\n",
    "    \n",
    "# 2개의 에러처리는 각각의 에러가 발생했을 때 처리과정이 갈라지는데,\n",
    "# except로 묶어서 처리하면 한가지의 동작과정밖에 없기 때문에\n",
    "# 예상가능한 에러일 경우에는 명시적으로 써주는 것이 좋다.\n",
    "# 그래서 여러 except 블럭을 사용할 수 있게 한 것이다."
   ]
  },
  {
   "cell_type": "code",
   "execution_count": 50,
   "metadata": {},
   "outputs": [
    {
     "name": "stdout",
     "output_type": "stream",
     "text": [
      "파일명을 다시 입력하세요!!\n"
     ]
    }
   ],
   "source": [
    "# 하나의 파일을 열어서 반드시 close처리를 해주는 코드 작성해보기\n",
    "\n",
    "try:\n",
    "    f = open('./test.txt','r')\n",
    "    print(f.read())\n",
    "except:\n",
    "    print('파일명을 다시 입력하세요!!')\n",
    "finally:\n",
    "    f.close()\n",
    "    # 이러면 f가 선언되어 있지 않다고 에러가 뜨니까 \n",
    "    # 그냥 with 구문쓰기"
   ]
  },
  {
   "cell_type": "code",
   "execution_count": 45,
   "metadata": {},
   "outputs": [
    {
     "name": "stdout",
     "output_type": "stream",
     "text": [
      "[]\n"
     ]
    }
   ],
   "source": [
    "# 파일에서 내용을 가져왔는데 내용이 없을 경우 에러 (입출력에러사용)\n",
    "\n",
    "try:\n",
    "    f = open('./errorEx.txt','r')\n",
    "    try:\n",
    "        lines = f.readlines()\n",
    "        print(lines)\n",
    "    finally:\n",
    "        f.close()\n",
    "except IOError as e:\n",
    "    print(e)"
   ]
  },
  {
   "cell_type": "code",
   "execution_count": 54,
   "metadata": {},
   "outputs": [
    {
     "name": "stdout",
     "output_type": "stream",
     "text": [
      "[]\n"
     ]
    }
   ],
   "source": [
    "try:\n",
    "    with open('./errorEx.txt','r') as f:\n",
    "        lines = f.readlines()\n",
    "        print(lines)\n",
    "except IOError as e:\n",
    "    print(e)"
   ]
  },
  {
   "cell_type": "code",
   "execution_count": 49,
   "metadata": {},
   "outputs": [
    {
     "name": "stdout",
     "output_type": "stream",
     "text": [
      "승인 거절\n"
     ]
    }
   ],
   "source": [
    "# 예외 발생시키기\n",
    "# 예외 발생 키워드 : raise (개발자가 직접 예외 발생)\n",
    "\n",
    "try:\n",
    "#     name = 'Kim'\n",
    "    name = 'Lee'\n",
    "    if name == 'Kim':\n",
    "        print('OK 승인 완료')\n",
    "    else:\n",
    "        raise ValueError\n",
    "except ValueError:\n",
    "    print('승인 거절')\n",
    "except Exception:\n",
    "    print('예외 발생')\n",
    "else:\n",
    "    print('조아조아~')"
   ]
  },
  {
   "cell_type": "code",
   "execution_count": null,
   "metadata": {},
   "outputs": [],
   "source": []
  }
 ],
 "metadata": {
  "kernelspec": {
   "display_name": "Python 3",
   "language": "python",
   "name": "python3"
  },
  "language_info": {
   "codemirror_mode": {
    "name": "ipython",
    "version": 3
   },
   "file_extension": ".py",
   "mimetype": "text/x-python",
   "name": "python",
   "nbconvert_exporter": "python",
   "pygments_lexer": "ipython3",
   "version": "3.7.6"
  }
 },
 "nbformat": 4,
 "nbformat_minor": 4
}
