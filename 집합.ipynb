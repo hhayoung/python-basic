{
 "cells": [
  {
   "cell_type": "markdown",
   "metadata": {},
   "source": [
    "### 집합(set) 자료형\n",
    "- 순서가 없다\n",
    "- 중복 허용 안함\n",
    "- mutable 객체(수정, 삭제 가능)"
   ]
  },
  {
   "cell_type": "code",
   "execution_count": 11,
   "metadata": {},
   "outputs": [
    {
     "name": "stdout",
     "output_type": "stream",
     "text": [
      "set()\n",
      "{'M', 'r', 'o', 'i', 'd', 'n', 'G', ' ', 'g'}\n",
      "{1, 2, 3, 4}\n",
      "{1, 'pen', 2, 'English', 'Korea'}\n",
      "{1, 3, 4, 5, 6}\n"
     ]
    }
   ],
   "source": [
    "# 선언\n",
    "a = set()\n",
    "print(a)\n",
    "b = set('Good Morning')\n",
    "print(b)\n",
    "c = set([1,2,3,4])\n",
    "print(c)\n",
    "d = set([1,2,'pen','Korea','English'])\n",
    "print(d)\n",
    "e = set([1,1,3,3,4,5,6])\n",
    "print(e)"
   ]
  },
  {
   "cell_type": "code",
   "execution_count": 13,
   "metadata": {},
   "outputs": [
    {
     "name": "stdout",
     "output_type": "stream",
     "text": [
      "(1, 'pen', 2, 'English', 'Korea')\n",
      "pen Korea\n",
      "[1, 'pen', 2, 'English', 'Korea']\n",
      "1 ['pen', 2]\n"
     ]
    }
   ],
   "source": [
    "# d를 튜플로 변환하기\n",
    "_tuple = tuple(d)\n",
    "print(_tuple)\n",
    "\n",
    "# d에서 Korea, Pen을 추출하기\n",
    "print(_tuple[1], _tuple[-1])\n",
    "\n",
    "# d를 list로 변환\n",
    "li = list(d)\n",
    "print(li)\n",
    "print(li[0], li[1:3])"
   ]
  },
  {
   "cell_type": "code",
   "execution_count": 21,
   "metadata": {},
   "outputs": [
    {
     "name": "stdout",
     "output_type": "stream",
     "text": [
      "{4, 5, 6}\n",
      "{4, 5, 6}\n",
      "{1, 2, 3, 4, 5, 6, 7, 8, 9}\n",
      "{1, 2, 3, 4, 5, 6, 7, 8, 9}\n",
      "{1, 2, 3}\n",
      "{1, 2, 3}\n",
      "{1, 2, 3, 4, 55}\n",
      "{1, 3, 4, 55}\n"
     ]
    }
   ],
   "source": [
    "# set의 활용\n",
    "s1 = set([1,2,3,4,5,6])\n",
    "s2 = set([4,5,6,7,8,9])\n",
    "\n",
    "print(s1 & s2)     # 교집합\n",
    "print(s1.intersection(s2))\n",
    "\n",
    "print(s1 | s2)     # 합집합\n",
    "print(s1.union(s2))\n",
    "\n",
    "print(s1 - s2)     # 부분집합\n",
    "print(s1.difference(s2))\n",
    "\n",
    "# 추가, 제거\n",
    "ss1 = set([1,2,3,4])\n",
    "ss1.add(55)\n",
    "print(ss1)\n",
    "\n",
    "ss1.remove(2)\n",
    "print(ss1)"
   ]
  }
 ],
 "metadata": {
  "kernelspec": {
   "display_name": "Python 3",
   "language": "python",
   "name": "python3"
  },
  "language_info": {
   "codemirror_mode": {
    "name": "ipython",
    "version": 3
   },
   "file_extension": ".py",
   "mimetype": "text/x-python",
   "name": "python",
   "nbconvert_exporter": "python",
   "pygments_lexer": "ipython3",
   "version": "3.7.6"
  }
 },
 "nbformat": 4,
 "nbformat_minor": 4
}
