{
 "cells": [
  {
   "cell_type": "markdown",
   "metadata": {},
   "source": [
    "### 문자열 생성"
   ]
  },
  {
   "cell_type": "code",
   "execution_count": 2,
   "metadata": {},
   "outputs": [
    {
     "name": "stdout",
     "output_type": "stream",
     "text": [
      "I am boy\n",
      "GoodMan\n",
      "Thank you\n"
     ]
    }
   ],
   "source": [
    "str1 = 'I am boy'\n",
    "str2 = \"GoodMan\"\n",
    "str3 = '''Thank you'''\n",
    "\n",
    "print(str1)\n",
    "print(str2)\n",
    "print(str3)"
   ]
  },
  {
   "cell_type": "markdown",
   "metadata": {},
   "source": [
    "#### 문자열 길이"
   ]
  },
  {
   "cell_type": "code",
   "execution_count": 5,
   "metadata": {},
   "outputs": [
    {
     "name": "stdout",
     "output_type": "stream",
     "text": [
      "8\n",
      "7\n",
      "9\n",
      "0\n",
      "0\n",
      "5\n"
     ]
    }
   ],
   "source": [
    "str4 = ''\n",
    "str5 = str()\n",
    "str6 = str('abcde')\n",
    "\n",
    "# Len() 함수는 문자열의 길이를 반환\n",
    "print(len(str1))\n",
    "print(len(str2))\n",
    "print(len(str3))\n",
    "print(len(str4))\n",
    "print(len(str5))\n",
    "print(len(str6))"
   ]
  },
  {
   "cell_type": "markdown",
   "metadata": {},
   "source": [
    "#### 이스케이프 문자 사용"
   ]
  },
  {
   "cell_type": "code",
   "execution_count": 8,
   "metadata": {},
   "outputs": [
    {
     "name": "stdout",
     "output_type": "stream",
     "text": [
      "Do you hava a \"big collection\"?\n",
      "What's on TV?\n",
      "This is a \"book\"\n"
     ]
    }
   ],
   "source": [
    "e_str1 = \"Do you hava a \\\"big collection\\\"?\"\n",
    "print(e_str1)\n",
    "e_str2 = 'What\\'s on TV?'\n",
    "print(e_str2)\n",
    "e_str3 = 'This is a \"book\"'\n",
    "print(e_str3)"
   ]
  },
  {
   "cell_type": "code",
   "execution_count": 9,
   "metadata": {},
   "outputs": [
    {
     "name": "stdout",
     "output_type": "stream",
     "text": [
      "Tab \tClick\n",
      "New Line\n",
      " Start\n"
     ]
    }
   ],
   "source": [
    "# 탭, 줄바꿈\n",
    "t_s1 = \"Tab \\tClick\"\n",
    "print(t_s1)\n",
    "t_s2 = \"New Line\\n Start\"\n",
    "print(t_s2)"
   ]
  },
  {
   "cell_type": "markdown",
   "metadata": {},
   "source": [
    "#### Raw String"
   ]
  },
  {
   "cell_type": "code",
   "execution_count": 78,
   "metadata": {},
   "outputs": [
    {
     "name": "stdout",
     "output_type": "stream",
     "text": [
      "c:\\Programs\\python\\\n",
      "c:\\Programs\\python\\ \n",
      "\\\\a\\b\\c\\d\n",
      "\\'\n"
     ]
    }
   ],
   "source": [
    "# c:\\Programs\\python\\ 출력해보기\n",
    "print('c:\\\\Programs\\\\python\\\\')\n",
    "\n",
    "# 더 쉬운거 Raw String 이용\n",
    "r_s1 = r\"c:\\Programs\\python\\ \"\n",
    "r_s1 = r\"c:\\Programs\\python\"\n",
    "print(r_s1)\n",
    "\n",
    "r_s2 = r\"\\\\a\\b\\c\\d\"\n",
    "print(r_s2)\n",
    "\n",
    "r_s3 = r\"\\'\"\n",
    "print(r_s3)"
   ]
  },
  {
   "cell_type": "code",
   "execution_count": 20,
   "metadata": {},
   "outputs": [
    {
     "name": "stdout",
     "output_type": "stream",
     "text": [
      "\n",
      "문자열\n",
      "멀티라인\n",
      "테스트\n",
      "\n"
     ]
    }
   ],
   "source": [
    "# 멀티 라인 출력\n",
    "multi_str1 = \\\n",
    "\"\"\"\n",
    "문자열\n",
    "멀티라인\n",
    "테스트\n",
    "\"\"\"\n",
    "print(multi_str1)"
   ]
  },
  {
   "cell_type": "markdown",
   "metadata": {},
   "source": [
    "#### 문자열 연산"
   ]
  },
  {
   "cell_type": "code",
   "execution_count": 33,
   "metadata": {},
   "outputs": [
    {
     "name": "stdout",
     "output_type": "stream",
     "text": [
      "****************************************************************************************************\n",
      "abcdef\n",
      "defdefdef\n"
     ]
    },
    {
     "ename": "TypeError",
     "evalue": "can only concatenate str (not \"int\") to str",
     "output_type": "error",
     "traceback": [
      "\u001b[1;31m---------------------------------------------------------------------------\u001b[0m",
      "\u001b[1;31mTypeError\u001b[0m                                 Traceback (most recent call last)",
      "\u001b[1;32m<ipython-input-33-6415b5d38081>\u001b[0m in \u001b[0;36m<module>\u001b[1;34m\u001b[0m\n\u001b[0;32m      7\u001b[0m \u001b[0mprint\u001b[0m\u001b[1;33m(\u001b[0m\u001b[0m_str2\u001b[0m \u001b[1;33m+\u001b[0m \u001b[0m_str3\u001b[0m\u001b[1;33m)\u001b[0m\u001b[1;33m\u001b[0m\u001b[1;33m\u001b[0m\u001b[0m\n\u001b[0;32m      8\u001b[0m \u001b[0mprint\u001b[0m\u001b[1;33m(\u001b[0m\u001b[0m_str3\u001b[0m \u001b[1;33m*\u001b[0m \u001b[1;36m3\u001b[0m\u001b[1;33m)\u001b[0m\u001b[1;33m\u001b[0m\u001b[1;33m\u001b[0m\u001b[0m\n\u001b[1;32m----> 9\u001b[1;33m \u001b[0mprint\u001b[0m\u001b[1;33m(\u001b[0m\u001b[0m_str4\u001b[0m \u001b[1;33m+\u001b[0m \u001b[1;36m5\u001b[0m\u001b[1;33m)\u001b[0m\u001b[1;33m\u001b[0m\u001b[1;33m\u001b[0m\u001b[0m\n\u001b[0m",
      "\u001b[1;31mTypeError\u001b[0m: can only concatenate str (not \"int\") to str"
     ]
    }
   ],
   "source": [
    "_str1 = '*'\n",
    "_str2 = 'abc'\n",
    "_str3 = 'def'\n",
    "_str4 = 'Kim Lee Park Jung'\n",
    "\n",
    "print(_str1 * 100)\n",
    "print(_str2 + _str3)\n",
    "print(_str3 * 3)\n",
    "print(_str4 + 5)"
   ]
  },
  {
   "cell_type": "code",
   "execution_count": 38,
   "metadata": {},
   "outputs": [
    {
     "name": "stdout",
     "output_type": "stream",
     "text": [
      "True\n",
      "True\n"
     ]
    }
   ],
   "source": [
    "print('P' in _str4)\n",
    "print('p' not in _str4)"
   ]
  },
  {
   "cell_type": "markdown",
   "metadata": {},
   "source": [
    "#### 문자열 형 변환"
   ]
  },
  {
   "cell_type": "code",
   "execution_count": 40,
   "metadata": {},
   "outputs": [
    {
     "name": "stdout",
     "output_type": "stream",
     "text": [
      "<class 'str'>\n"
     ]
    }
   ],
   "source": [
    "print(type(str(77)))  # str => string을 의미"
   ]
  },
  {
   "cell_type": "code",
   "execution_count": 41,
   "metadata": {},
   "outputs": [
    {
     "name": "stdout",
     "output_type": "stream",
     "text": [
      "10.4\n"
     ]
    }
   ],
   "source": [
    "print(str(10.4))  # 실수형을 문자형으로 변환"
   ]
  },
  {
   "cell_type": "code",
   "execution_count": 42,
   "metadata": {},
   "outputs": [
    {
     "name": "stdout",
     "output_type": "stream",
     "text": [
      "True\n",
      "(12+0j)\n"
     ]
    }
   ],
   "source": [
    "print(str(True))  # bool타입이 문자형으로 변환\n",
    "print(str(complex(12))) # 복소수 타입 -> 문자형"
   ]
  },
  {
   "cell_type": "markdown",
   "metadata": {},
   "source": [
    "#### 문자열 함수"
   ]
  },
  {
   "cell_type": "code",
   "execution_count": 75,
   "metadata": {},
   "outputs": [
    {
     "name": "stdout",
     "output_type": "stream",
     "text": [
      "True\n",
      "False\n",
      "Goodman\n",
      "niceman\n",
      "['e', 'g', 'n', 'a', 'r', 'o']\n",
      "HELLO WORLD\n",
      "hello world\n",
      "['hello ', 'orld ', 'hat a nice ', 'eather']\n",
      "['2020', '07', '15']\n"
     ]
    }
   ],
   "source": [
    "a = 'goodman'\n",
    "b = 'orange'\n",
    "\n",
    "# islower() 함수\n",
    "print(a.islower())       # 소문자니?\n",
    "print(a.endswith('e'))   # e로 끝나니?\n",
    "print(a.capitalize())    # 첫 글자만 대문자로\n",
    "print(a.replace('good','nice'))  # 글자 바꾸기\n",
    "print(list(reversed(b))) # list로 형변환\n",
    "\n",
    "aa = 'Hello world'\n",
    "print(aa.upper())\n",
    "print(aa.lower())\n",
    "\n",
    "# split() : 문자열을 특정한 문자로 구분하여 문자열 리스트로 리턴\n",
    "cc = 'hello world what a nice weather'\n",
    "print(cc.split('w'))\n",
    "\n",
    "dd = '2020-07-15'\n",
    "print(dd.split('-'))"
   ]
  },
  {
   "cell_type": "markdown",
   "metadata": {},
   "source": [
    "#### *** 슬라이싱\n",
    " - 문자열의 각 문자는 순서가 있음\n",
    " - 이때 각 문자열의 순서를 **인덱스**라고 함\n",
    " - 첫번째 문자부터 마지막까지 차례대로의 순서를 갖는다.\n",
    " - 첫번째 시작문자의 순서는 0으로 시작한다.(1이 아님)"
   ]
  },
  {
   "cell_type": "code",
   "execution_count": 67,
   "metadata": {},
   "outputs": [
    {
     "name": "stdout",
     "output_type": "stream",
     "text": [
      "Nic\n",
      "NiceBoy\n",
      "NiceBo\n",
      "NiceBoy\n"
     ]
    }
   ],
   "source": [
    "str11 = 'NiceBoy'\n",
    "print(str11[0:3])\n",
    "print(str11[:len(str11)])\n",
    "print(str11[:len(str11)-1])\n",
    "print(str11[:])    # 처음부터 끝까지\n"
   ]
  },
  {
   "cell_type": "code",
   "execution_count": 71,
   "metadata": {},
   "outputs": [
    {
     "name": "stdout",
     "output_type": "stream",
     "text": [
      "ran\n",
      "rn\n",
      "ran\n",
      "egnaro\n",
      "orange\n"
     ]
    }
   ],
   "source": [
    "str22 = 'orange'\n",
    "print(str22[1:4])\n",
    "print(str22[1:4:2])\n",
    "print(str22[1:-2])\n",
    "print(str22[::-1])\n",
    "print(str22[::1])"
   ]
  },
  {
   "cell_type": "code",
   "execution_count": 84,
   "metadata": {},
   "outputs": [
    {
     "name": "stdout",
     "output_type": "stream",
     "text": [
      "h\n",
      "yello world\n",
      "yello world\n"
     ]
    }
   ],
   "source": [
    "# 문자열은 immutable 객체이다.\n",
    "a = 'hello world'\n",
    "print(a[0])\n",
    " \n",
    "# a[0] = 'y'      # 에러 발생\n",
    "\n",
    "# immutable이지만 값 바꾸고 싶을 때\n",
    "print('y'+a[1:])\n",
    "print(a.replace('h','y'))\n"
   ]
  },
  {
   "cell_type": "code",
   "execution_count": null,
   "metadata": {},
   "outputs": [],
   "source": []
  }
 ],
 "metadata": {
  "kernelspec": {
   "display_name": "Python 3",
   "language": "python",
   "name": "python3"
  },
  "language_info": {
   "codemirror_mode": {
    "name": "ipython",
    "version": 3
   },
   "file_extension": ".py",
   "mimetype": "text/x-python",
   "name": "python",
   "nbconvert_exporter": "python",
   "pygments_lexer": "ipython3",
   "version": "3.7.6"
  }
 },
 "nbformat": 4,
 "nbformat_minor": 4
}
