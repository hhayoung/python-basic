{
 "cells": [
  {
   "cell_type": "markdown",
   "metadata": {},
   "source": [
    "### 딕셔너리 자료형\n",
    "- 순서가 없다.\n",
    "- 중복 허용하지 않는다.\n",
    "- 수정 가능\n",
    "- 삭제 가능\n",
    "#### 딕셔너리는 JSON과 비슷\n",
    "- 원소를 Key, Value의 한쌍으로 표현한다."
   ]
  },
  {
   "cell_type": "code",
   "execution_count": 4,
   "metadata": {},
   "outputs": [
    {
     "name": "stdout",
     "output_type": "stream",
     "text": [
      "a : <class 'dict'> {'name': 'Lee', 'phone': '010-1234-1234', 'birth': '991010'}\n",
      "{0: 'Hello Python!', 1: 'Hello Coding', 2: 'Hello Coding'}\n"
     ]
    }
   ],
   "source": [
    "# 선언\n",
    "a = {'name':'Lee', 'phone':'010-1234-1234', 'birth':'991010'}\n",
    "print('a :',type(a),a)\n",
    "# 값은 중복되더라도 키는 중복되서는 안된다.\n",
    "b = {0:'Hello Python!', 1:'Hello Coding', 2:'Hello Coding'}\n",
    "print(b)\n",
    "c = {'arr':[1,2,3,4]}"
   ]
  },
  {
   "cell_type": "code",
   "execution_count": 9,
   "metadata": {},
   "outputs": [
    {
     "name": "stdout",
     "output_type": "stream",
     "text": [
      "a: Lee\n",
      "a: None\n",
      "Hello Python!\n",
      "Hello Python!\n",
      "[1, 2, 3, 4]\n",
      "3\n"
     ]
    }
   ],
   "source": [
    "# 출력\n",
    "print('a:',a['name'])\n",
    "# print('a:',a['age']) # 데이터가 없을 경우 에러 발생\n",
    "# get으로 접근시 안전하다.\n",
    "print('a:',a.get('age',\"i don't know\")) # 에러 없이 None 출력\n",
    "print(b[0])\n",
    "print(b.get(0))\n",
    "print(c['arr'])\n",
    "print(c['arr'][2])"
   ]
  },
  {
   "cell_type": "code",
   "execution_count": 12,
   "metadata": {},
   "outputs": [
    {
     "name": "stdout",
     "output_type": "stream",
     "text": [
      "a: {'name': 'Lee', 'phone': '010-1234-1234', 'birth': '991010', 'age': 30, 'addr': '인천'}\n",
      "a: {'name': 'Lee', 'phone': '010-1234-1234', 'birth': '991010', 'age': 30, 'addr': '인천'}\n",
      "a: {'name': 'Lee', 'phone': '010-1234-1234', 'birth': '991010', 'age': 30, 'addr': '인천', 'rank': (1, 2, 3)}\n"
     ]
    }
   ],
   "source": [
    "# 딕셔너리 추가\n",
    "a['age'] = 30\n",
    "print('a:',a)\n",
    "a['addr'] = '인천'\n",
    "print('a:',a)\n",
    "a['rank'] = (1,2,3)\n",
    "print('a:',a)"
   ]
  },
  {
   "cell_type": "code",
   "execution_count": 18,
   "metadata": {},
   "outputs": [
    {
     "name": "stdout",
     "output_type": "stream",
     "text": [
      "a: dict_keys(['name', 'phone', 'birth', 'age', 'addr', 'rank']) <class 'dict_keys'>\n",
      "['name', 'phone', 'birth', 'age', 'addr', 'rank']\n",
      "age\n"
     ]
    }
   ],
   "source": [
    "# keys, values, items\n",
    "print('a:',a.keys(), type(a.keys()))\n",
    "# print(a.keys()[3])  # 에러 발생 리스트형태가 아니기 때문에\n",
    "print(list(a.keys()))   # 리스트로 형변환\n",
    "print(list(a.keys())[3])"
   ]
  },
  {
   "cell_type": "code",
   "execution_count": 20,
   "metadata": {},
   "outputs": [
    {
     "name": "stdout",
     "output_type": "stream",
     "text": [
      "['name', 'phone', 'birth', 'age', 'addr', 'rank']\n",
      "['phone', 'birth']\n"
     ]
    }
   ],
   "source": [
    "temp = list(a.keys())\n",
    "print(temp)            # 이제 슬라이싱을 할 수 있겠다!\n",
    "print(temp[1:3])"
   ]
  },
  {
   "cell_type": "code",
   "execution_count": 23,
   "metadata": {},
   "outputs": [
    {
     "name": "stdout",
     "output_type": "stream",
     "text": [
      "a: dict_values(['Lee', '010-1234-1234', '991010', 30, '인천', (1, 2, 3)]) <class 'dict_values'>\n",
      "['Lee', '010-1234-1234', '991010', 30, '인천', (1, 2, 3)]\n",
      "['010-1234-1234', '991010', 30, '인천']\n"
     ]
    }
   ],
   "source": [
    "print('a:',a.values(), type(a.values()))\n",
    "print(list(a.values()))\n",
    "\n",
    "temp_v = list(a.values())\n",
    "print(temp_v[1:5])"
   ]
  },
  {
   "cell_type": "code",
   "execution_count": 25,
   "metadata": {},
   "outputs": [
    {
     "name": "stdout",
     "output_type": "stream",
     "text": [
      "dict_items([('name', 'Lee'), ('phone', '010-1234-1234'), ('birth', '991010'), ('age', 30), ('addr', '인천'), ('rank', (1, 2, 3))])\n",
      "[('name', 'Lee'), ('phone', '010-1234-1234'), ('birth', '991010'), ('age', 30), ('addr', '인천'), ('rank', (1, 2, 3))]\n"
     ]
    }
   ],
   "source": [
    "# items()\n",
    "print(a.items())\n",
    "print(list(a.items()))"
   ]
  },
  {
   "cell_type": "code",
   "execution_count": 28,
   "metadata": {},
   "outputs": [
    {
     "name": "stdout",
     "output_type": "stream",
     "text": [
      "True\n",
      "False\n",
      "False\n"
     ]
    }
   ],
   "source": [
    "print('name' in a)\n",
    "print('name' in b)\n",
    "print('Lee' in a)"
   ]
  }
 ],
 "metadata": {
  "kernelspec": {
   "display_name": "Python 3",
   "language": "python",
   "name": "python3"
  },
  "language_info": {
   "codemirror_mode": {
    "name": "ipython",
    "version": 3
   },
   "file_extension": ".py",
   "mimetype": "text/x-python",
   "name": "python",
   "nbconvert_exporter": "python",
   "pygments_lexer": "ipython3",
   "version": "3.7.6"
  }
 },
 "nbformat": 4,
 "nbformat_minor": 4
}
